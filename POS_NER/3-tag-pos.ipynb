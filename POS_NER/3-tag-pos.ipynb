{
 "cells": [
  {
   "cell_type": "code",
   "execution_count": 1,
   "metadata": {
    "collapsed": true
   },
   "outputs": [],
   "source": [
    "import nltk\n",
    "from nltk import word_tokenize, pos_tag"
   ]
  },
  {
   "cell_type": "code",
   "execution_count": 2,
   "metadata": {
    "collapsed": true
   },
   "outputs": [],
   "source": [
    "# ===== POS Tagging using NLTK =====\n",
    "\n",
    "sent = '''Professor Tan Eng Chye, NUS Deputy President and Provost, and Professor \n",
    "Menahem Ben-Sasson, President of HUJ signed the joint degree agreement at NUS, \n",
    "in the presence of Ambassador of Israel to Singapore Her Excellency Amira Arnon \n",
    "and about 30 invited guests, on July 03, 2013.\n",
    "'''"
   ]
  },
  {
   "cell_type": "code",
   "execution_count": 3,
   "metadata": {},
   "outputs": [
    {
     "data": {
      "text/plain": [
       "[('Professor', 'NNP'),\n",
       " ('Tan', 'NNP'),\n",
       " ('Eng', 'NNP'),\n",
       " ('Chye', 'NNP'),\n",
       " (',', ','),\n",
       " ('NUS', 'NNP'),\n",
       " ('Deputy', 'NNP'),\n",
       " ('President', 'NNP'),\n",
       " ('and', 'CC'),\n",
       " ('Provost', 'NNP'),\n",
       " (',', ','),\n",
       " ('and', 'CC'),\n",
       " ('Professor', 'NNP'),\n",
       " ('Menahem', 'NNP'),\n",
       " ('Ben-Sasson', 'NNP'),\n",
       " (',', ','),\n",
       " ('President', 'NNP'),\n",
       " ('of', 'IN'),\n",
       " ('HUJ', 'NNP'),\n",
       " ('signed', 'VBD'),\n",
       " ('the', 'DT'),\n",
       " ('joint', 'JJ'),\n",
       " ('degree', 'NN'),\n",
       " ('agreement', 'NN'),\n",
       " ('at', 'IN'),\n",
       " ('NUS', 'NNP'),\n",
       " (',', ','),\n",
       " ('in', 'IN'),\n",
       " ('the', 'DT'),\n",
       " ('presence', 'NN'),\n",
       " ('of', 'IN'),\n",
       " ('Ambassador', 'NNP'),\n",
       " ('of', 'IN'),\n",
       " ('Israel', 'NNP'),\n",
       " ('to', 'TO'),\n",
       " ('Singapore', 'NNP'),\n",
       " ('Her', 'NNP'),\n",
       " ('Excellency', 'NNP'),\n",
       " ('Amira', 'NNP'),\n",
       " ('Arnon', 'NNP'),\n",
       " ('and', 'CC'),\n",
       " ('about', 'IN'),\n",
       " ('30', 'CD'),\n",
       " ('invited', 'JJ'),\n",
       " ('guests', 'NNS'),\n",
       " (',', ','),\n",
       " ('on', 'IN'),\n",
       " ('July', 'NNP'),\n",
       " ('03', 'CD'),\n",
       " (',', ','),\n",
       " ('2013', 'CD'),\n",
       " ('.', '.')]"
      ]
     },
     "execution_count": 3,
     "metadata": {},
     "output_type": "execute_result"
    }
   ],
   "source": [
    "# The input for POS tagger needs to be tokenized first.\n",
    "sent_pos = pos_tag(word_tokenize(sent))\n",
    "sent_pos"
   ]
  },
  {
   "cell_type": "code",
   "execution_count": 4,
   "metadata": {},
   "outputs": [
    {
     "data": {
      "text/plain": [
       "[('Professor', 'NOUN'),\n",
       " ('Tan', 'NOUN'),\n",
       " ('Eng', 'NOUN'),\n",
       " ('Chye', 'NOUN'),\n",
       " (',', '.'),\n",
       " ('NUS', 'NOUN'),\n",
       " ('Deputy', 'NOUN'),\n",
       " ('President', 'NOUN'),\n",
       " ('and', 'CONJ'),\n",
       " ('Provost', 'NOUN'),\n",
       " (',', '.'),\n",
       " ('and', 'CONJ'),\n",
       " ('Professor', 'NOUN'),\n",
       " ('Menahem', 'NOUN'),\n",
       " ('Ben-Sasson', 'NOUN'),\n",
       " (',', '.'),\n",
       " ('President', 'NOUN'),\n",
       " ('of', 'ADP'),\n",
       " ('HUJ', 'NOUN'),\n",
       " ('signed', 'VERB'),\n",
       " ('the', 'DET'),\n",
       " ('joint', 'ADJ'),\n",
       " ('degree', 'NOUN'),\n",
       " ('agreement', 'NOUN'),\n",
       " ('at', 'ADP'),\n",
       " ('NUS', 'NOUN'),\n",
       " (',', '.'),\n",
       " ('in', 'ADP'),\n",
       " ('the', 'DET'),\n",
       " ('presence', 'NOUN'),\n",
       " ('of', 'ADP'),\n",
       " ('Ambassador', 'NOUN'),\n",
       " ('of', 'ADP'),\n",
       " ('Israel', 'NOUN'),\n",
       " ('to', 'PRT'),\n",
       " ('Singapore', 'NOUN'),\n",
       " ('Her', 'NOUN'),\n",
       " ('Excellency', 'NOUN'),\n",
       " ('Amira', 'NOUN'),\n",
       " ('Arnon', 'NOUN'),\n",
       " ('and', 'CONJ'),\n",
       " ('about', 'ADP'),\n",
       " ('30', 'NUM'),\n",
       " ('invited', 'ADJ'),\n",
       " ('guests', 'NOUN'),\n",
       " (',', '.'),\n",
       " ('on', 'ADP'),\n",
       " ('July', 'NOUN'),\n",
       " ('03', 'NUM'),\n",
       " (',', '.'),\n",
       " ('2013', 'NUM'),\n",
       " ('.', '.')]"
      ]
     },
     "execution_count": 4,
     "metadata": {},
     "output_type": "execute_result"
    }
   ],
   "source": [
    "# A more simplified tagset - universal\n",
    "sent_pos2 = pos_tag(word_tokenize(sent), tagset='universal')\n",
    "sent_pos2"
   ]
  },
  {
   "cell_type": "code",
   "execution_count": null,
   "metadata": {
    "collapsed": true
   },
   "outputs": [],
   "source": [
    "# The wordnet lemmatizer works properly with the pos given\n",
    "wnl = nltk.WordNetLemmatizer()\n",
    "wnl.lemmatize('signed', pos = 'v')"
   ]
  }
 ],
 "metadata": {
  "kernelspec": {
   "display_name": "Python 3",
   "language": "python",
   "name": "python3"
  },
  "language_info": {
   "codemirror_mode": {
    "name": "ipython",
    "version": 3
   },
   "file_extension": ".py",
   "mimetype": "text/x-python",
   "name": "python",
   "nbconvert_exporter": "python",
   "pygments_lexer": "ipython3",
   "version": "3.6.1"
  }
 },
 "nbformat": 4,
 "nbformat_minor": 2
}
