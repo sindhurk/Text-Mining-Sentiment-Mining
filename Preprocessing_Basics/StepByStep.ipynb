{
 "cells": [
  {
   "cell_type": "code",
   "execution_count": 1,
   "metadata": {
    "collapsed": true
   },
   "outputs": [],
   "source": [
    "import os\n",
    "import json\n",
    "import string\n",
    "import nltk\n",
    "from nltk import word_tokenize, FreqDist\n",
    "from nltk.corpus import stopwords"
   ]
  },
  {
   "cell_type": "code",
   "execution_count": 8,
   "metadata": {
    "collapsed": true
   },
   "outputs": [],
   "source": [
    "# We'll process just one article for illustration\n",
    "#open the JSON data file from your current working directory\n",
    "data =  open(\"Article_1.json\", \"r\")"
   ]
  },
  {
   "cell_type": "code",
   "execution_count": 9,
   "metadata": {},
   "outputs": [
    {
     "data": {
      "text/plain": [
       "{'Text': 'Gluten, it turns out, is not an actual grain or visible ingredient but the substance, made of two proteins, that gives dough its elasticity. Celiac is an autoimmune disorder in which gluten wreaks havoc on the small intestine, blocking other nutrients from being absorbed. When I was diagnosed with celiac, my doctor taught me to pinpoint wheaty assassins lurking in foods you’d never suspect: soy sauce, gravy, candy bars. Back then, the crunchiest health food store in my hometown was the only place where you could find wheat-free products. My mom and I would go there to eat terrible sandwiches in a tiny café in the back that was decorated like a ’70s rainforest, beaded curtains strung alongside fake agave plants. It was always empty. The wild-haired store owner would emerge from the kitchen with her hands full of rolls.\\n\\nAs someone who once mail-ordered a frozen pack of sorghum donuts to my dorm room, I’ve found the gluten-free boom weird to live through. I went from feeling mildly exotic, like some odd but domesticated tropical pet, to the unwitting embodiment of a whole host of clichés about fad dieting and female calorie-phobia. My reason for saying this is not (just) to assert my primacy in the great war against gluten, or lay claim to O.G. status when it comes to asking the question, “Is this soup thickened with a roux?” It’s also to convey the uniquely strange feeling of having a lifelong trait—even one as arbitrary as intolerance to a wheat protein hybrid—turned into a punch line by the culture at large.\\n\\nWe are now in a golden age of glutenlessness. Gluten-free food sales grew by more than 60 percent from 2012 to 2014, and by 2019 the number is projected to increase by 140 percent. A 2013 study claimed that only 2 percent of shoppers who buy gluten-free goods do so because they have been diagnosed with celiac disease, while 59 percent buy them because they think gluten is unhealthy. That’s 59 percent of gluten-free shoppers who are willingly subjecting themselves to rock-hard bagels and cookies that—in the absence of the springiness that characterizes normal dough—crumble to nothingness when touched by a breeze.\\n\\nIn two decades since I first heard the word gluten, it’s evolved from the obscure scourge of the small population of people with celiac disease into a fad-diet obsession for carb-phobics. Along the way, it’s become a nutritional bogeyman, a shorthand for a kind of phony asceticism, a pop-cultural joke. It started with a few scattered articles about “gluten sensitivity” and some scientific papers speculating about whether American wheat had become less digestible. Then there was the surest sign of mass-cultural anointment: Gluten coverage migrated from the health and science pages to the style section . With growing awareness of gluten came a surge in self-diagnosed allergies to it. South Park skewered the alarmism of the anti-gluten set by devoting an entire 2014 episode to the imaginary plague of Gluten Free Ebola . A Tumblr called Gluten Free Museum went viral by Photoshopping out the wheat products from famous works of art. A real dating website launched called glutenfreesingles.com .\\n\\nI was crushed. It was the fall of 1995, and the Atkins diet hadn’t begun to vilify carbs in the America dietary imagination. Also, gluten sounded made-up. What was gluten? The word itself, that cartoonish little “oo,” seemed too dopey to mean anything at all. The first time my mom brought home gluten-free bread—a sickly, bleached loaf as dense as a paperweight—I could not believe it was food. I would wander sorrowfully down the supermarket aisles, beholding the rows of delectable poison. Tastykakes. Twix. Cinnamon Toast Crunch. At a classmate’s birthday party, as my peers joyfully forked cake into their mouths, I stared at my untouched slice and cried.\\n\\nI was 9 years old when I first heard the word gluten. “You can’t eat gluten anymore,” my mom informed me after we’d left the doctor’s office. “No more spaghetti.” Her face suggested this was good news. I hadn’t gained weight in more than a year and I looked like a tiny goblin with bangs. The doctor had described my predicament as “failure to thrive.” But I was a pasta machine. As far as my third-grade self was concerned, no food was more perfect than noodles: so blandly reliable, such a useful vehicle for cheese.\\n\\nI don’t remember the taste so much as the thrill of admittance into a secret world of benign eccentrics and magical-sounding ingredients like “teff.” I had a yen for low-risk adventuring. My classmates, palates gone soft on SpaghettiOs, would never venture here.\\n\\nAt school, everyone handled me gingerly at first. The other third-graders eyed my grayish lunches of potato penne or corn tortillas without saying anything; the lunch ladies quietly retrieved my private stash of sandwich bread from the cafeteria freezers when I arrived. But eventually, avoiding gluten started to feel like a sort of shtick. I’ve now spent so many years inflicting the same questions on unsuspecting waiters that my friends can recite them from memory. “Is there Worcestershire sauce in this Caesar dressing?” “Are these fries cooked in recycled oil?”\\n\\nPhoto illustration by Lisa Larson-Walker. Photo courtesy Laura Bennett.\\n\\nI began to notice a general chill in my relationships with waiters across the tristate area.\\n\\nCeliac has still, to this day, given me something of a survivalist’s mindset when it comes to any doughy food. Put me in front of a bowl of quinoa noodles or a cake made of tapioca flour and I am a bear lining my intestines before the frost.\\n\\nFor me, the exact moment when I knew the tide had turned against gluten came in 2013. I was at an Italian restaurant, and asked the waiter, a big guy with a mustache like a pelt, whether the chicken wings were breaded. He leaned down and squinted at me. “Why would you want to know that?” he asked.\\n\\n“I’m allergic to gluten,” I replied.\\n\\nHe gave a mighty eye roll. “Not another one,” he said, and left.\\n\\nAfter that, I began to notice a general chill in my relationships with waiters across the tristate area. Whereas they had once reacted to the word gluten with befuddlement and concern, now they knew what gluten was and responded to my questions like GIs snapping to attention, with marked-up menus and rattled-off ingredients. But the curl in their lip was unmistakable. I remember seeing This Is the End, in which Seth Rogen and Jay Baruchel debate the merits of a gluten-free diet, both leaning on the gloo syllable as if it were independently hilarious. I felt like some private sanctum of my life had been breached. If gluten has found its way into the mass-targeted shenanigans of Apatovian doofuses, I thought, how much further can it fall?\\n\\nA lot. A few weeks ago, I visited a new dentist for the first time, and he asked if I had any food allergies. “Gluten,” I said. “Let me try again,” he replied. “Do you have any real allergies?” That old whiff of strangeness I relished as a kid, the slightly alien quality of an allergy no one had heard of—it had all been converted into something much more pungent: a dumb bougie trend.\\n\\nAll this has made me realize something that my spindly 9-year-old self never could have expected. When you spend your formative decades with an inconvenient food allergy, it lodges itself in your self-conception in surprising ways. To be a kid suddenly forced to squint at food packaging and learn the meaning of “monosodium glutamate” and plunk a bricklike wheatless “sandwich” onto the cafeteria table every day in front of your friends—it gives you a healthy sense of absurdity and also a tiny persecution complex. Maybe your “failure to thrive” stunts your growth and results in a staggering lack of athletic prowess throughout your elementary school years, including, in required swim meets, a breaststroke so feeble and panicky that it looks less like swimming than drowning. Maybe you memorize some precocious lines to recite when asked what happens when you eat gluten. (“Well, it flattens the villi in my small intestines.”) Maybe you begin to take a slight but distinct pride in your reserves of grain-related expertise, realizing that you are one of few 9-year-olds who knows that maltodextrin does not in fact contain malt. And in the end, once you’ve gotten the hang of things, maybe you write a song on a sheet of legal paper that is still tacked to the wall of your childhood bedroom and includes the lyrics “Laura can’t eat gluten/ but she’s still hootin’/ for joy.”\\n\\nI imagine that being an ur-gluten-intolerant is a bit like loving a band no one has heard of and then watching it climb the Billboard Hot 100: the mix of puzzlement (“how did everyone find out about it?”) and possessiveness (“they don’t even really get it”), the slight internal reshuffling required to disentangle it from your self-image, the chip that materializes on your shoulder whenever you hear its name. For most of my life, though, being allergic to gluten had been a quirk that was at once specific to me and, unlike most quirks, safely meaningless—in no way a symptom of my character or my tastes or my brain. Now, when I turn down a beer at a party, I try to arrange my face in a way that says “I know, right.” When I ask a waiter if there’s gluten-free pasta in the kitchen, I offer a sympathetic little grimace.',\n",
       " 'URL': 'http://www.slate.com/articles/life/food/2015/08/i_was_gluten_free_before_it_was_cool_diagnosed_with_celiac_in_the_1990s.html',\n",
       " '_id': {'$oid': '55daedff04235215b082e159'}}"
      ]
     },
     "execution_count": 9,
     "metadata": {},
     "output_type": "execute_result"
    }
   ],
   "source": [
    "# Load in the JSON object in the file\n",
    "jdata = json.load(data)\n",
    "jdata"
   ]
  },
  {
   "cell_type": "code",
   "execution_count": 10,
   "metadata": {},
   "outputs": [
    {
     "data": {
      "text/plain": [
       "'http://www.slate.com/articles/life/food/2015/08/i_was_gluten_free_before_it_was_cool_diagnosed_with_celiac_in_the_1990s.html'"
      ]
     },
     "execution_count": 10,
     "metadata": {},
     "output_type": "execute_result"
    }
   ],
   "source": [
    "# Extract the URL and the Text from within the JSON object\n",
    "url=jdata['URL']\n",
    "url"
   ]
  },
  {
   "cell_type": "code",
   "execution_count": 12,
   "metadata": {},
   "outputs": [
    {
     "data": {
      "text/plain": [
       "'Gluten, it turns out, is not an actual grain or visible ingredient but the substance, made of two proteins, that gives dough its elasticity. Celiac is an autoimmune disorder in which gluten wreaks havoc on the small intestine, blocking other nutrients from being absorbed. When I was diagnosed with celiac, my doctor taught me to pinpoint wheaty assassins lurking in foods you’d never suspect: soy sauce, gravy, candy bars. Back then, the crunchiest health food store in my hometown was the only place where you could find wheat-free products. My mom and I would go there to eat terrible sandwiches in a tiny café in the back that was decorated like a ’70s rainforest, beaded curtains strung alongside fake agave plants. It was always empty. The wild-haired store owner would emerge from the kitchen with her hands full of rolls.\\n\\nAs someone who once mail-ordered a frozen pack of sorghum donuts to my dorm room, I’ve found the gluten-free boom weird to live through. I went from feeling mildly exotic, like some odd but domesticated tropical pet, to the unwitting embodiment of a whole host of clichés about fad dieting and female calorie-phobia. My reason for saying this is not (just) to assert my primacy in the great war against gluten, or lay claim to O.G. status when it comes to asking the question, “Is this soup thickened with a roux?” It’s also to convey the uniquely strange feeling of having a lifelong trait—even one as arbitrary as intolerance to a wheat protein hybrid—turned into a punch line by the culture at large.\\n\\nWe are now in a golden age of glutenlessness. Gluten-free food sales grew by more than 60 percent from 2012 to 2014, and by 2019 the number is projected to increase by 140 percent. A 2013 study claimed that only 2 percent of shoppers who buy gluten-free goods do so because they have been diagnosed with celiac disease, while 59 percent buy them because they think gluten is unhealthy. That’s 59 percent of gluten-free shoppers who are willingly subjecting themselves to rock-hard bagels and cookies that—in the absence of the springiness that characterizes normal dough—crumble to nothingness when touched by a breeze.\\n\\nIn two decades since I first heard the word gluten, it’s evolved from the obscure scourge of the small population of people with celiac disease into a fad-diet obsession for carb-phobics. Along the way, it’s become a nutritional bogeyman, a shorthand for a kind of phony asceticism, a pop-cultural joke. It started with a few scattered articles about “gluten sensitivity” and some scientific papers speculating about whether American wheat had become less digestible. Then there was the surest sign of mass-cultural anointment: Gluten coverage migrated from the health and science pages to the style section . With growing awareness of gluten came a surge in self-diagnosed allergies to it. South Park skewered the alarmism of the anti-gluten set by devoting an entire 2014 episode to the imaginary plague of Gluten Free Ebola . A Tumblr called Gluten Free Museum went viral by Photoshopping out the wheat products from famous works of art. A real dating website launched called glutenfreesingles.com .\\n\\nI was crushed. It was the fall of 1995, and the Atkins diet hadn’t begun to vilify carbs in the America dietary imagination. Also, gluten sounded made-up. What was gluten? The word itself, that cartoonish little “oo,” seemed too dopey to mean anything at all. The first time my mom brought home gluten-free bread—a sickly, bleached loaf as dense as a paperweight—I could not believe it was food. I would wander sorrowfully down the supermarket aisles, beholding the rows of delectable poison. Tastykakes. Twix. Cinnamon Toast Crunch. At a classmate’s birthday party, as my peers joyfully forked cake into their mouths, I stared at my untouched slice and cried.\\n\\nI was 9 years old when I first heard the word gluten. “You can’t eat gluten anymore,” my mom informed me after we’d left the doctor’s office. “No more spaghetti.” Her face suggested this was good news. I hadn’t gained weight in more than a year and I looked like a tiny goblin with bangs. The doctor had described my predicament as “failure to thrive.” But I was a pasta machine. As far as my third-grade self was concerned, no food was more perfect than noodles: so blandly reliable, such a useful vehicle for cheese.\\n\\nI don’t remember the taste so much as the thrill of admittance into a secret world of benign eccentrics and magical-sounding ingredients like “teff.” I had a yen for low-risk adventuring. My classmates, palates gone soft on SpaghettiOs, would never venture here.\\n\\nAt school, everyone handled me gingerly at first. The other third-graders eyed my grayish lunches of potato penne or corn tortillas without saying anything; the lunch ladies quietly retrieved my private stash of sandwich bread from the cafeteria freezers when I arrived. But eventually, avoiding gluten started to feel like a sort of shtick. I’ve now spent so many years inflicting the same questions on unsuspecting waiters that my friends can recite them from memory. “Is there Worcestershire sauce in this Caesar dressing?” “Are these fries cooked in recycled oil?”\\n\\nPhoto illustration by Lisa Larson-Walker. Photo courtesy Laura Bennett.\\n\\nI began to notice a general chill in my relationships with waiters across the tristate area.\\n\\nCeliac has still, to this day, given me something of a survivalist’s mindset when it comes to any doughy food. Put me in front of a bowl of quinoa noodles or a cake made of tapioca flour and I am a bear lining my intestines before the frost.\\n\\nFor me, the exact moment when I knew the tide had turned against gluten came in 2013. I was at an Italian restaurant, and asked the waiter, a big guy with a mustache like a pelt, whether the chicken wings were breaded. He leaned down and squinted at me. “Why would you want to know that?” he asked.\\n\\n“I’m allergic to gluten,” I replied.\\n\\nHe gave a mighty eye roll. “Not another one,” he said, and left.\\n\\nAfter that, I began to notice a general chill in my relationships with waiters across the tristate area. Whereas they had once reacted to the word gluten with befuddlement and concern, now they knew what gluten was and responded to my questions like GIs snapping to attention, with marked-up menus and rattled-off ingredients. But the curl in their lip was unmistakable. I remember seeing This Is the End, in which Seth Rogen and Jay Baruchel debate the merits of a gluten-free diet, both leaning on the gloo syllable as if it were independently hilarious. I felt like some private sanctum of my life had been breached. If gluten has found its way into the mass-targeted shenanigans of Apatovian doofuses, I thought, how much further can it fall?\\n\\nA lot. A few weeks ago, I visited a new dentist for the first time, and he asked if I had any food allergies. “Gluten,” I said. “Let me try again,” he replied. “Do you have any real allergies?” That old whiff of strangeness I relished as a kid, the slightly alien quality of an allergy no one had heard of—it had all been converted into something much more pungent: a dumb bougie trend.\\n\\nAll this has made me realize something that my spindly 9-year-old self never could have expected. When you spend your formative decades with an inconvenient food allergy, it lodges itself in your self-conception in surprising ways. To be a kid suddenly forced to squint at food packaging and learn the meaning of “monosodium glutamate” and plunk a bricklike wheatless “sandwich” onto the cafeteria table every day in front of your friends—it gives you a healthy sense of absurdity and also a tiny persecution complex. Maybe your “failure to thrive” stunts your growth and results in a staggering lack of athletic prowess throughout your elementary school years, including, in required swim meets, a breaststroke so feeble and panicky that it looks less like swimming than drowning. Maybe you memorize some precocious lines to recite when asked what happens when you eat gluten. (“Well, it flattens the villi in my small intestines.”) Maybe you begin to take a slight but distinct pride in your reserves of grain-related expertise, realizing that you are one of few 9-year-olds who knows that maltodextrin does not in fact contain malt. And in the end, once you’ve gotten the hang of things, maybe you write a song on a sheet of legal paper that is still tacked to the wall of your childhood bedroom and includes the lyrics “Laura can’t eat gluten/ but she’s still hootin’/ for joy.”\\n\\nI imagine that being an ur-gluten-intolerant is a bit like loving a band no one has heard of and then watching it climb the Billboard Hot 100: the mix of puzzlement (“how did everyone find out about it?”) and possessiveness (“they don’t even really get it”), the slight internal reshuffling required to disentangle it from your self-image, the chip that materializes on your shoulder whenever you hear its name. For most of my life, though, being allergic to gluten had been a quirk that was at once specific to me and, unlike most quirks, safely meaningless—in no way a symptom of my character or my tastes or my brain. Now, when I turn down a beer at a party, I try to arrange my face in a way that says “I know, right.” When I ask a waiter if there’s gluten-free pasta in the kitchen, I offer a sympathetic little grimace.'"
      ]
     },
     "execution_count": 12,
     "metadata": {},
     "output_type": "execute_result"
    }
   ],
   "source": [
    "text=jdata['Text']\n",
    "text"
   ]
  },
  {
   "cell_type": "code",
   "execution_count": 13,
   "metadata": {},
   "outputs": [
    {
     "name": "stdout",
     "output_type": "stream",
     "text": [
      "<class 'str'>\n",
      "9336\n",
      " offer a sympathetic little grimace.\n"
     ]
    }
   ],
   "source": [
    "print(type(text))\n",
    "print(len(text))\n",
    "print(text[9300:])"
   ]
  },
  {
   "cell_type": "code",
   "execution_count": 14,
   "metadata": {},
   "outputs": [
    {
     "data": {
      "text/plain": [
       "list"
      ]
     },
     "execution_count": 14,
     "metadata": {},
     "output_type": "execute_result"
    }
   ],
   "source": [
    "# Convert the free text into tokens\n",
    "tokens = word_tokenize(text)\n",
    "type(tokens)"
   ]
  },
  {
   "cell_type": "code",
   "execution_count": 15,
   "metadata": {},
   "outputs": [
    {
     "data": {
      "text/plain": [
       "1855"
      ]
     },
     "execution_count": 15,
     "metadata": {},
     "output_type": "execute_result"
    }
   ],
   "source": [
    "# A little exploration: How many words in this article? How many unique words?\n",
    "# Any single character words?\n",
    "len(tokens)"
   ]
  },
  {
   "cell_type": "code",
   "execution_count": 18,
   "metadata": {},
   "outputs": [
    {
     "data": {
      "text/plain": [
       "{'(',\n",
       " ')',\n",
       " ',',\n",
       " '.',\n",
       " '/',\n",
       " '100',\n",
       " '140',\n",
       " '1995',\n",
       " '2',\n",
       " '2012',\n",
       " '2013',\n",
       " '2014',\n",
       " '2019',\n",
       " '59',\n",
       " '60',\n",
       " '70s',\n",
       " '9',\n",
       " '9-year-old',\n",
       " '9-year-olds',\n",
       " ':',\n",
       " ';',\n",
       " '?',\n",
       " 'A',\n",
       " 'After',\n",
       " 'All',\n",
       " 'Along',\n",
       " 'Also',\n",
       " 'America',\n",
       " 'American',\n",
       " 'And',\n",
       " 'Apatovian',\n",
       " 'Are',\n",
       " 'As',\n",
       " 'At',\n",
       " 'Atkins',\n",
       " 'Back',\n",
       " 'Baruchel',\n",
       " 'Bennett',\n",
       " 'Billboard',\n",
       " 'But',\n",
       " 'Caesar',\n",
       " 'Celiac',\n",
       " 'Cinnamon',\n",
       " 'Crunch',\n",
       " 'Do',\n",
       " 'Ebola',\n",
       " 'End',\n",
       " 'For',\n",
       " 'Free',\n",
       " 'GIs',\n",
       " 'Gluten',\n",
       " 'Gluten-free',\n",
       " 'He',\n",
       " 'Her',\n",
       " 'Hot',\n",
       " 'I',\n",
       " 'If',\n",
       " 'In',\n",
       " 'Is',\n",
       " 'It',\n",
       " 'Italian',\n",
       " 'Jay',\n",
       " 'Larson-Walker',\n",
       " 'Laura',\n",
       " 'Let',\n",
       " 'Lisa',\n",
       " 'Maybe',\n",
       " 'Museum',\n",
       " 'My',\n",
       " 'No',\n",
       " 'Not',\n",
       " 'Now',\n",
       " 'O.G',\n",
       " 'Park',\n",
       " 'Photo',\n",
       " 'Photoshopping',\n",
       " 'Put',\n",
       " 'Rogen',\n",
       " 'Seth',\n",
       " 'South',\n",
       " 'SpaghettiOs',\n",
       " 'Tastykakes',\n",
       " 'That',\n",
       " 'The',\n",
       " 'Then',\n",
       " 'This',\n",
       " 'To',\n",
       " 'Toast',\n",
       " 'Tumblr',\n",
       " 'Twix',\n",
       " 'We',\n",
       " 'Well',\n",
       " 'What',\n",
       " 'When',\n",
       " 'Whereas',\n",
       " 'Why',\n",
       " 'With',\n",
       " 'Worcestershire',\n",
       " 'You',\n",
       " 'a',\n",
       " 'about',\n",
       " 'absence',\n",
       " 'absorbed',\n",
       " 'absurdity',\n",
       " 'across',\n",
       " 'actual',\n",
       " 'admittance',\n",
       " 'adventuring',\n",
       " 'after',\n",
       " 'again',\n",
       " 'against',\n",
       " 'agave',\n",
       " 'age',\n",
       " 'ago',\n",
       " 'aisles',\n",
       " 'alarmism',\n",
       " 'alien',\n",
       " 'all',\n",
       " 'allergic',\n",
       " 'allergies',\n",
       " 'allergy',\n",
       " 'alongside',\n",
       " 'also',\n",
       " 'always',\n",
       " 'am',\n",
       " 'an',\n",
       " 'and',\n",
       " 'anointment',\n",
       " 'another',\n",
       " 'anti-gluten',\n",
       " 'any',\n",
       " 'anymore',\n",
       " 'anything',\n",
       " 'arbitrary',\n",
       " 'are',\n",
       " 'area',\n",
       " 'arrange',\n",
       " 'arrived',\n",
       " 'art',\n",
       " 'articles',\n",
       " 'as',\n",
       " 'asceticism',\n",
       " 'ask',\n",
       " 'asked',\n",
       " 'asking',\n",
       " 'assassins',\n",
       " 'assert',\n",
       " 'at',\n",
       " 'athletic',\n",
       " 'attention',\n",
       " 'autoimmune',\n",
       " 'avoiding',\n",
       " 'awareness',\n",
       " 'back',\n",
       " 'bagels',\n",
       " 'band',\n",
       " 'bangs',\n",
       " 'bars',\n",
       " 'be',\n",
       " 'beaded',\n",
       " 'bear',\n",
       " 'because',\n",
       " 'become',\n",
       " 'bedroom',\n",
       " 'been',\n",
       " 'beer',\n",
       " 'before',\n",
       " 'befuddlement',\n",
       " 'began',\n",
       " 'begin',\n",
       " 'begun',\n",
       " 'beholding',\n",
       " 'being',\n",
       " 'believe',\n",
       " 'benign',\n",
       " 'big',\n",
       " 'birthday',\n",
       " 'bit',\n",
       " 'blandly',\n",
       " 'bleached',\n",
       " 'blocking',\n",
       " 'bogeyman',\n",
       " 'boom',\n",
       " 'both',\n",
       " 'bougie',\n",
       " 'bowl',\n",
       " 'brain',\n",
       " 'breached',\n",
       " 'bread',\n",
       " 'breaded',\n",
       " 'bread—a',\n",
       " 'breaststroke',\n",
       " 'breeze',\n",
       " 'bricklike',\n",
       " 'brought',\n",
       " 'but',\n",
       " 'buy',\n",
       " 'by',\n",
       " 'cafeteria',\n",
       " 'café',\n",
       " 'cake',\n",
       " 'called',\n",
       " 'calorie-phobia',\n",
       " 'came',\n",
       " 'can',\n",
       " 'candy',\n",
       " 'carb-phobics',\n",
       " 'carbs',\n",
       " 'cartoonish',\n",
       " 'celiac',\n",
       " 'character',\n",
       " 'characterizes',\n",
       " 'cheese',\n",
       " 'chicken',\n",
       " 'childhood',\n",
       " 'chill',\n",
       " 'chip',\n",
       " 'claim',\n",
       " 'claimed',\n",
       " 'classmate',\n",
       " 'classmates',\n",
       " 'clichés',\n",
       " 'climb',\n",
       " 'comes',\n",
       " 'complex',\n",
       " 'concern',\n",
       " 'concerned',\n",
       " 'contain',\n",
       " 'converted',\n",
       " 'convey',\n",
       " 'cooked',\n",
       " 'cookies',\n",
       " 'corn',\n",
       " 'could',\n",
       " 'courtesy',\n",
       " 'coverage',\n",
       " 'cried',\n",
       " 'crunchiest',\n",
       " 'crushed',\n",
       " 'culture',\n",
       " 'curl',\n",
       " 'curtains',\n",
       " 'd',\n",
       " 'dating',\n",
       " 'day',\n",
       " 'debate',\n",
       " 'decades',\n",
       " 'decorated',\n",
       " 'delectable',\n",
       " 'dense',\n",
       " 'dentist',\n",
       " 'described',\n",
       " 'devoting',\n",
       " 'diagnosed',\n",
       " 'did',\n",
       " 'diet',\n",
       " 'dietary',\n",
       " 'dieting',\n",
       " 'digestible',\n",
       " 'disease',\n",
       " 'disentangle',\n",
       " 'disorder',\n",
       " 'distinct',\n",
       " 'do',\n",
       " 'doctor',\n",
       " 'does',\n",
       " 'domesticated',\n",
       " 'don',\n",
       " 'donuts',\n",
       " 'doofuses',\n",
       " 'dopey',\n",
       " 'dorm',\n",
       " 'dough',\n",
       " 'doughy',\n",
       " 'dough—crumble',\n",
       " 'down',\n",
       " 'dressing',\n",
       " 'drowning',\n",
       " 'dumb',\n",
       " 'eat',\n",
       " 'eccentrics',\n",
       " 'elasticity',\n",
       " 'elementary',\n",
       " 'embodiment',\n",
       " 'emerge',\n",
       " 'empty',\n",
       " 'end',\n",
       " 'entire',\n",
       " 'episode',\n",
       " 'even',\n",
       " 'eventually',\n",
       " 'every',\n",
       " 'everyone',\n",
       " 'evolved',\n",
       " 'exact',\n",
       " 'exotic',\n",
       " 'expected',\n",
       " 'expertise',\n",
       " 'eye',\n",
       " 'eyed',\n",
       " 'face',\n",
       " 'fact',\n",
       " 'fad',\n",
       " 'fad-diet',\n",
       " 'failure',\n",
       " 'fake',\n",
       " 'fall',\n",
       " 'famous',\n",
       " 'far',\n",
       " 'feeble',\n",
       " 'feel',\n",
       " 'feeling',\n",
       " 'felt',\n",
       " 'female',\n",
       " 'few',\n",
       " 'find',\n",
       " 'first',\n",
       " 'flattens',\n",
       " 'flour',\n",
       " 'food',\n",
       " 'foods',\n",
       " 'for',\n",
       " 'forced',\n",
       " 'forked',\n",
       " 'formative',\n",
       " 'found',\n",
       " 'freezers',\n",
       " 'friends',\n",
       " 'friends—it',\n",
       " 'fries',\n",
       " 'from',\n",
       " 'front',\n",
       " 'frost',\n",
       " 'frozen',\n",
       " 'full',\n",
       " 'further',\n",
       " 'gained',\n",
       " 'gave',\n",
       " 'general',\n",
       " 'get',\n",
       " 'gingerly',\n",
       " 'given',\n",
       " 'gives',\n",
       " 'gloo',\n",
       " 'glutamate',\n",
       " 'gluten',\n",
       " 'gluten-free',\n",
       " 'gluten/',\n",
       " 'glutenfreesingles.com',\n",
       " 'glutenlessness',\n",
       " 'go',\n",
       " 'goblin',\n",
       " 'golden',\n",
       " 'gone',\n",
       " 'good',\n",
       " 'goods',\n",
       " 'gotten',\n",
       " 'grain',\n",
       " 'grain-related',\n",
       " 'gravy',\n",
       " 'grayish',\n",
       " 'great',\n",
       " 'grew',\n",
       " 'grimace',\n",
       " 'growing',\n",
       " 'growth',\n",
       " 'guy',\n",
       " 'had',\n",
       " 'hadn',\n",
       " 'handled',\n",
       " 'hands',\n",
       " 'hang',\n",
       " 'happens',\n",
       " 'has',\n",
       " 'have',\n",
       " 'having',\n",
       " 'havoc',\n",
       " 'he',\n",
       " 'health',\n",
       " 'healthy',\n",
       " 'hear',\n",
       " 'heard',\n",
       " 'her',\n",
       " 'here',\n",
       " 'hilarious',\n",
       " 'home',\n",
       " 'hometown',\n",
       " 'hootin',\n",
       " 'host',\n",
       " 'how',\n",
       " 'hybrid—turned',\n",
       " 'if',\n",
       " 'illustration',\n",
       " 'imaginary',\n",
       " 'imagination',\n",
       " 'imagine',\n",
       " 'in',\n",
       " 'includes',\n",
       " 'including',\n",
       " 'inconvenient',\n",
       " 'increase',\n",
       " 'independently',\n",
       " 'inflicting',\n",
       " 'informed',\n",
       " 'ingredient',\n",
       " 'ingredients',\n",
       " 'internal',\n",
       " 'intestine',\n",
       " 'intestines',\n",
       " 'intestines.',\n",
       " 'into',\n",
       " 'intolerance',\n",
       " 'is',\n",
       " 'it',\n",
       " 'its',\n",
       " 'itself',\n",
       " 'joke',\n",
       " 'joy.',\n",
       " 'joyfully',\n",
       " 'just',\n",
       " 'kid',\n",
       " 'kind',\n",
       " 'kitchen',\n",
       " 'knew',\n",
       " 'know',\n",
       " 'knows',\n",
       " 'lack',\n",
       " 'ladies',\n",
       " 'large',\n",
       " 'launched',\n",
       " 'lay',\n",
       " 'leaned',\n",
       " 'leaning',\n",
       " 'learn',\n",
       " 'left',\n",
       " 'legal',\n",
       " 'less',\n",
       " 'life',\n",
       " 'lifelong',\n",
       " 'like',\n",
       " 'line',\n",
       " 'lines',\n",
       " 'lining',\n",
       " 'lip',\n",
       " 'little',\n",
       " 'live',\n",
       " 'loaf',\n",
       " 'lodges',\n",
       " 'looked',\n",
       " 'looks',\n",
       " 'lot',\n",
       " 'loving',\n",
       " 'low-risk',\n",
       " 'lunch',\n",
       " 'lunches',\n",
       " 'lurking',\n",
       " 'lyrics',\n",
       " 'm',\n",
       " 'machine',\n",
       " 'made',\n",
       " 'made-up',\n",
       " 'magical-sounding',\n",
       " 'mail-ordered',\n",
       " 'malt',\n",
       " 'maltodextrin',\n",
       " 'many',\n",
       " 'marked-up',\n",
       " 'mass-cultural',\n",
       " 'mass-targeted',\n",
       " 'materializes',\n",
       " 'maybe',\n",
       " 'me',\n",
       " 'mean',\n",
       " 'meaning',\n",
       " 'meaningless—in',\n",
       " 'meets',\n",
       " 'memorize',\n",
       " 'memory',\n",
       " 'menus',\n",
       " 'merits',\n",
       " 'mighty',\n",
       " 'migrated',\n",
       " 'mildly',\n",
       " 'mindset',\n",
       " 'mix',\n",
       " 'mom',\n",
       " 'moment',\n",
       " 'monosodium',\n",
       " 'more',\n",
       " 'most',\n",
       " 'mouths',\n",
       " 'much',\n",
       " 'mustache',\n",
       " 'my',\n",
       " 'name',\n",
       " 'never',\n",
       " 'new',\n",
       " 'news',\n",
       " 'no',\n",
       " 'noodles',\n",
       " 'normal',\n",
       " 'not',\n",
       " 'nothingness',\n",
       " 'notice',\n",
       " 'now',\n",
       " 'number',\n",
       " 'nutrients',\n",
       " 'nutritional',\n",
       " 'obscure',\n",
       " 'obsession',\n",
       " 'odd',\n",
       " 'of',\n",
       " 'offer',\n",
       " 'office',\n",
       " 'of—it',\n",
       " 'oil',\n",
       " 'old',\n",
       " 'on',\n",
       " 'once',\n",
       " 'one',\n",
       " 'only',\n",
       " 'onto',\n",
       " 'oo',\n",
       " 'or',\n",
       " 'other',\n",
       " 'out',\n",
       " 'owner',\n",
       " 'pack',\n",
       " 'packaging',\n",
       " 'pages',\n",
       " 'palates',\n",
       " 'panicky',\n",
       " 'paper',\n",
       " 'papers',\n",
       " 'paperweight—I',\n",
       " 'party',\n",
       " 'pasta',\n",
       " 'peers',\n",
       " 'pelt',\n",
       " 'penne',\n",
       " 'people',\n",
       " 'percent',\n",
       " 'perfect',\n",
       " 'persecution',\n",
       " 'pet',\n",
       " 'phony',\n",
       " 'pinpoint',\n",
       " 'place',\n",
       " 'plague',\n",
       " 'plants',\n",
       " 'plunk',\n",
       " 'poison',\n",
       " 'pop-cultural',\n",
       " 'population',\n",
       " 'possessiveness',\n",
       " 'potato',\n",
       " 'precocious',\n",
       " 'predicament',\n",
       " 'pride',\n",
       " 'primacy',\n",
       " 'private',\n",
       " 'products',\n",
       " 'projected',\n",
       " 'protein',\n",
       " 'proteins',\n",
       " 'prowess',\n",
       " 'punch',\n",
       " 'pungent',\n",
       " 'puzzlement',\n",
       " 'quality',\n",
       " 'question',\n",
       " 'questions',\n",
       " 'quietly',\n",
       " 'quinoa',\n",
       " 'quirk',\n",
       " 'quirks',\n",
       " 'rainforest',\n",
       " 'rattled-off',\n",
       " 'reacted',\n",
       " 'real',\n",
       " 'realize',\n",
       " 'realizing',\n",
       " 'really',\n",
       " 'reason',\n",
       " 'recite',\n",
       " 'recycled',\n",
       " 'relationships',\n",
       " 'reliable',\n",
       " 'relished',\n",
       " 'remember',\n",
       " 'replied',\n",
       " 'required',\n",
       " 'reserves',\n",
       " 'reshuffling',\n",
       " 'responded',\n",
       " 'restaurant',\n",
       " 'results',\n",
       " 'retrieved',\n",
       " 'right.',\n",
       " 'rock-hard',\n",
       " 'roll',\n",
       " 'rolls',\n",
       " 'room',\n",
       " 'roux',\n",
       " 'rows',\n",
       " 's',\n",
       " 'safely',\n",
       " 'said',\n",
       " 'sales',\n",
       " 'same',\n",
       " 'sanctum',\n",
       " 'sandwich',\n",
       " 'sandwiches',\n",
       " 'sauce',\n",
       " 'saying',\n",
       " 'says',\n",
       " 'scattered',\n",
       " 'school',\n",
       " 'science',\n",
       " 'scientific',\n",
       " 'scourge',\n",
       " 'secret',\n",
       " 'section',\n",
       " 'seeing',\n",
       " 'seemed',\n",
       " 'self',\n",
       " 'self-conception',\n",
       " 'self-diagnosed',\n",
       " 'self-image',\n",
       " 'sense',\n",
       " 'sensitivity',\n",
       " 'set',\n",
       " 'she',\n",
       " 'sheet',\n",
       " 'shenanigans',\n",
       " 'shoppers',\n",
       " 'shorthand',\n",
       " 'shoulder',\n",
       " 'shtick',\n",
       " 'sickly',\n",
       " 'sign',\n",
       " 'since',\n",
       " 'skewered',\n",
       " 'slice',\n",
       " 'slight',\n",
       " 'slightly',\n",
       " 'small',\n",
       " 'snapping',\n",
       " 'so',\n",
       " 'soft',\n",
       " 'some',\n",
       " 'someone',\n",
       " 'something',\n",
       " 'song',\n",
       " 'sorghum',\n",
       " 'sorrowfully',\n",
       " 'sort',\n",
       " 'sounded',\n",
       " 'soup',\n",
       " 'soy',\n",
       " 'spaghetti.',\n",
       " 'specific',\n",
       " 'speculating',\n",
       " 'spend',\n",
       " 'spent',\n",
       " 'spindly',\n",
       " 'springiness',\n",
       " 'squint',\n",
       " 'squinted',\n",
       " 'staggering',\n",
       " 'stared',\n",
       " 'started',\n",
       " 'stash',\n",
       " 'status',\n",
       " 'still',\n",
       " 'store',\n",
       " 'strange',\n",
       " 'strangeness',\n",
       " 'strung',\n",
       " 'study',\n",
       " 'stunts',\n",
       " 'style',\n",
       " 'subjecting',\n",
       " 'substance',\n",
       " 'such',\n",
       " 'suddenly',\n",
       " 'suggested',\n",
       " 'supermarket',\n",
       " 'surest',\n",
       " 'surge',\n",
       " 'surprising',\n",
       " 'survivalist',\n",
       " 'suspect',\n",
       " 'swim',\n",
       " 'swimming',\n",
       " 'syllable',\n",
       " 'sympathetic',\n",
       " 'symptom',\n",
       " 't',\n",
       " 'table',\n",
       " 'tacked',\n",
       " 'take',\n",
       " 'tapioca',\n",
       " 'taste',\n",
       " 'tastes',\n",
       " 'taught',\n",
       " 'teff.',\n",
       " 'terrible',\n",
       " 'than',\n",
       " 'that',\n",
       " 'that—in',\n",
       " 'the',\n",
       " 'their',\n",
       " 'them',\n",
       " 'themselves',\n",
       " 'then',\n",
       " 'there',\n",
       " 'these',\n",
       " 'they',\n",
       " 'thickened',\n",
       " 'things',\n",
       " 'think',\n",
       " 'third-grade',\n",
       " 'third-graders',\n",
       " 'this',\n",
       " 'though',\n",
       " 'thought',\n",
       " 'thrill',\n",
       " 'thrive',\n",
       " 'thrive.',\n",
       " 'through',\n",
       " 'throughout',\n",
       " 'tide',\n",
       " 'time',\n",
       " 'tiny',\n",
       " 'to',\n",
       " 'too',\n",
       " 'tortillas',\n",
       " 'touched',\n",
       " 'trait—even',\n",
       " 'trend',\n",
       " 'tristate',\n",
       " 'tropical',\n",
       " 'try',\n",
       " 'turn',\n",
       " 'turned',\n",
       " 'turns',\n",
       " 'two',\n",
       " 'unhealthy',\n",
       " 'uniquely',\n",
       " 'unlike',\n",
       " 'unmistakable',\n",
       " 'unsuspecting',\n",
       " 'untouched',\n",
       " 'unwitting',\n",
       " 'ur-gluten-intolerant',\n",
       " 'useful',\n",
       " 've',\n",
       " 'vehicle',\n",
       " 'venture',\n",
       " 'vilify',\n",
       " 'villi',\n",
       " 'viral',\n",
       " 'visible',\n",
       " 'visited',\n",
       " 'waiter',\n",
       " 'waiters',\n",
       " 'wall',\n",
       " 'wander',\n",
       " 'want',\n",
       " 'war',\n",
       " 'was',\n",
       " 'watching',\n",
       " 'way',\n",
       " 'ways',\n",
       " 'we',\n",
       " 'website',\n",
       " 'weeks',\n",
       " 'weight',\n",
       " 'weird',\n",
       " 'went',\n",
       " 'were',\n",
       " 'what',\n",
       " 'wheat',\n",
       " 'wheat-free',\n",
       " 'wheatless',\n",
       " 'wheaty',\n",
       " 'when',\n",
       " 'whenever',\n",
       " 'where',\n",
       " 'whether',\n",
       " 'which',\n",
       " 'whiff',\n",
       " 'while',\n",
       " 'who',\n",
       " 'whole',\n",
       " 'wild-haired',\n",
       " 'willingly',\n",
       " 'wings',\n",
       " 'with',\n",
       " 'without',\n",
       " 'word',\n",
       " 'works',\n",
       " 'world',\n",
       " 'would',\n",
       " 'wreaks',\n",
       " 'write',\n",
       " 'year',\n",
       " 'years',\n",
       " 'yen',\n",
       " 'you',\n",
       " 'your',\n",
       " '’',\n",
       " '“',\n",
       " '”'}"
      ]
     },
     "execution_count": 18,
     "metadata": {},
     "output_type": "execute_result"
    }
   ],
   "source": [
    "tokens[:20]\n",
    "unique = set(tokens)\n",
    "unique"
   ]
  },
  {
   "cell_type": "code",
   "execution_count": 19,
   "metadata": {},
   "outputs": [
    {
     "data": {
      "text/plain": [
       "815"
      ]
     },
     "execution_count": 19,
     "metadata": {},
     "output_type": "execute_result"
    }
   ],
   "source": [
    "len(unique)"
   ]
  },
  {
   "cell_type": "code",
   "execution_count": 20,
   "metadata": {},
   "outputs": [
    {
     "data": {
      "text/plain": [
       "2.276073619631902"
      ]
     },
     "execution_count": 20,
     "metadata": {},
     "output_type": "execute_result"
    }
   ],
   "source": [
    "len(tokens)/len(unique)"
   ]
  },
  {
   "cell_type": "code",
   "execution_count": 21,
   "metadata": {},
   "outputs": [
    {
     "data": {
      "text/plain": [
       "['(',\n",
       " ')',\n",
       " ',',\n",
       " '.',\n",
       " '/',\n",
       " '100',\n",
       " '140',\n",
       " '1995',\n",
       " '2',\n",
       " '2012',\n",
       " '2013',\n",
       " '2014',\n",
       " '2019',\n",
       " '59',\n",
       " '60',\n",
       " '70s',\n",
       " '9',\n",
       " '9-year-old',\n",
       " '9-year-olds',\n",
       " ':',\n",
       " ';',\n",
       " '?',\n",
       " 'A',\n",
       " 'After',\n",
       " 'All',\n",
       " 'Along',\n",
       " 'Also',\n",
       " 'America',\n",
       " 'American',\n",
       " 'And']"
      ]
     },
     "execution_count": 21,
     "metadata": {},
     "output_type": "execute_result"
    }
   ],
   "source": [
    "sorted(unique)[:30]"
   ]
  },
  {
   "cell_type": "code",
   "execution_count": 22,
   "metadata": {
    "collapsed": true
   },
   "outputs": [],
   "source": [
    "single=[w for w in unique if len(w) == 1 ]"
   ]
  },
  {
   "cell_type": "code",
   "execution_count": 23,
   "metadata": {},
   "outputs": [
    {
     "data": {
      "text/plain": [
       "20"
      ]
     },
     "execution_count": 23,
     "metadata": {},
     "output_type": "execute_result"
    }
   ],
   "source": [
    "len(single)"
   ]
  },
  {
   "cell_type": "code",
   "execution_count": 24,
   "metadata": {},
   "outputs": [
    {
     "data": {
      "text/plain": [
       "['”',\n",
       " ')',\n",
       " 'd',\n",
       " 'm',\n",
       " ';',\n",
       " '9',\n",
       " 's',\n",
       " '(',\n",
       " '/',\n",
       " 'I',\n",
       " 'a',\n",
       " ',',\n",
       " ':',\n",
       " '2',\n",
       " 'A',\n",
       " '?',\n",
       " 't',\n",
       " '’',\n",
       " '“',\n",
       " '.']"
      ]
     },
     "execution_count": 24,
     "metadata": {},
     "output_type": "execute_result"
    }
   ],
   "source": [
    "single"
   ]
  },
  {
   "cell_type": "code",
   "execution_count": 25,
   "metadata": {},
   "outputs": [
    {
     "data": {
      "text/plain": [
       "18"
      ]
     },
     "execution_count": 25,
     "metadata": {},
     "output_type": "execute_result"
    }
   ],
   "source": [
    "# Frequency distribution of the words\n",
    "tokens.count('gluten')"
   ]
  },
  {
   "cell_type": "code",
   "execution_count": 26,
   "metadata": {
    "collapsed": true
   },
   "outputs": [],
   "source": [
    "fd = nltk.FreqDist(tokens)\n",
    "fd"
   ]
  },
  {
   "cell_type": "code",
   "execution_count": 27,
   "metadata": {},
   "outputs": [
    {
     "data": {
      "text/plain": [
       "[('.', 76),\n",
       " (',', 75),\n",
       " ('the', 65),\n",
       " ('a', 58),\n",
       " ('of', 47),\n",
       " ('to', 39),\n",
       " ('I', 37),\n",
       " ('in', 29),\n",
       " ('and', 28),\n",
       " ('my', 25),\n",
       " ('’', 23),\n",
       " ('“', 23),\n",
       " ('”', 23),\n",
       " ('gluten', 18),\n",
       " ('was', 18),\n",
       " ('that', 17),\n",
       " ('it', 16),\n",
       " ('with', 13),\n",
       " ('you', 13),\n",
       " ('from', 10),\n",
       " ('me', 10),\n",
       " ('like', 10),\n",
       " ('as', 10),\n",
       " ('had', 10),\n",
       " ('your', 10),\n",
       " ('when', 9),\n",
       " ('s', 9),\n",
       " ('at', 9),\n",
       " ('food', 8),\n",
       " ('?', 8),\n",
       " ('by', 8),\n",
       " ('is', 7),\n",
       " ('an', 7),\n",
       " ('for', 7),\n",
       " ('or', 6),\n",
       " ('on', 6),\n",
       " ('gluten-free', 6),\n",
       " ('this', 6),\n",
       " ('into', 6),\n",
       " ('t', 6),\n",
       " ('Gluten', 5),\n",
       " (':', 5),\n",
       " ('would', 5),\n",
       " ('The', 5),\n",
       " ('one', 5),\n",
       " ('more', 5),\n",
       " ('percent', 5),\n",
       " ('A', 5),\n",
       " ('so', 5),\n",
       " ('they', 5)]"
      ]
     },
     "execution_count": 27,
     "metadata": {},
     "output_type": "execute_result"
    }
   ],
   "source": [
    "fd.most_common(50)"
   ]
  },
  {
   "cell_type": "code",
   "execution_count": 28,
   "metadata": {},
   "outputs": [
    {
     "data": {
      "image/png": "[encoded data removed]",
      "text/plain": [
       "<matplotlib.figure.Figure at 0x18e4fa95550>"
      ]
     },
     "metadata": {},
     "output_type": "display_data"
    }
   ],
   "source": [
    "fd.plot(50)"
   ]
  },
  {
   "cell_type": "code",
   "execution_count": 29,
   "metadata": {},
   "outputs": [
    {
     "data": {
      "text/plain": [
       "FreqDist({1: 20,\n",
       "          2: 38,\n",
       "          3: 79,\n",
       "          4: 133,\n",
       "          5: 120,\n",
       "          6: 110,\n",
       "          7: 98,\n",
       "          8: 69,\n",
       "          9: 49,\n",
       "          10: 37,\n",
       "          11: 28,\n",
       "          12: 12,\n",
       "          13: 12,\n",
       "          14: 6,\n",
       "          15: 1,\n",
       "          16: 1,\n",
       "          20: 1,\n",
       "          21: 1})"
      ]
     },
     "execution_count": 29,
     "metadata": {},
     "output_type": "execute_result"
    }
   ],
   "source": [
    "# How long are the words?\n",
    "fd_wlen = nltk.FreqDist([len(w) for w in unique])\n",
    "fd_wlen"
   ]
  },
  {
   "cell_type": "code",
   "execution_count": 30,
   "metadata": {
    "collapsed": true
   },
   "outputs": [],
   "source": [
    "# What about bigrams and trigrams?\n",
    "bigr = nltk.bigrams(tokens[:10])"
   ]
  },
  {
   "cell_type": "code",
   "execution_count": 31,
   "metadata": {
    "collapsed": true
   },
   "outputs": [],
   "source": [
    "trigr = nltk.trigrams(tokens[:10])"
   ]
  },
  {
   "cell_type": "code",
   "execution_count": 32,
   "metadata": {},
   "outputs": [
    {
     "data": {
      "text/plain": [
       "['Gluten', ',', 'it', 'turns', 'out', ',', 'is', 'not', 'an', 'actual']"
      ]
     },
     "execution_count": 32,
     "metadata": {},
     "output_type": "execute_result"
    }
   ],
   "source": [
    "tokens[:10]"
   ]
  },
  {
   "cell_type": "code",
   "execution_count": 33,
   "metadata": {},
   "outputs": [
    {
     "data": {
      "text/plain": [
       "[('Gluten', ','),\n",
       " (',', 'it'),\n",
       " ('it', 'turns'),\n",
       " ('turns', 'out'),\n",
       " ('out', ','),\n",
       " (',', 'is'),\n",
       " ('is', 'not'),\n",
       " ('not', 'an'),\n",
       " ('an', 'actual')]"
      ]
     },
     "execution_count": 33,
     "metadata": {},
     "output_type": "execute_result"
    }
   ],
   "source": [
    "list(bigr)"
   ]
  },
  {
   "cell_type": "code",
   "execution_count": null,
   "metadata": {
    "collapsed": true
   },
   "outputs": [],
   "source": [
    "list(trigr)"
   ]
  },
  {
   "cell_type": "code",
   "execution_count": 50,
   "metadata": {},
   "outputs": [
    {
     "data": {
      "text/plain": [
       "1681"
      ]
     },
     "execution_count": 50,
     "metadata": {},
     "output_type": "execute_result"
    }
   ],
   "source": [
    "# Back to text preprocessing: remove punctuations\n",
    "tokens_nop = [ t for t in tokens if t not in y ]"
   ]
  },
  {
   "cell_type": "code",
   "execution_count": 51,
   "metadata": {},
   "outputs": [
    {
     "name": "stdout",
     "output_type": "stream",
     "text": [
      "['Gluten', ',', 'it', 'turns', 'out', ',', 'is', 'not', 'an', 'actual', 'grain', 'or', 'visible', 'ingredient', 'but', 'the', 'substance', ',', 'made', 'of', 'two', 'proteins', ',', 'that', 'gives', 'dough', 'its', 'elasticity', '.', 'Celiac', 'is', 'an', 'autoimmune', 'disorder', 'in', 'which', 'gluten', 'wreaks', 'havoc', 'on', 'the', 'small', 'intestine', ',', 'blocking', 'other', 'nutrients', 'from', 'being', 'absorbed']\n"
     ]
    }
   ],
   "source": [
    "print(tokens[:50])"
   ]
  },
  {
   "cell_type": "code",
   "execution_count": 52,
   "metadata": {},
   "outputs": [
    {
     "name": "stdout",
     "output_type": "stream",
     "text": [
      "['Gluten', 'it', 'turns', 'out', 'is', 'not', 'an', 'actual', 'grain', 'or', 'visible', 'ingredient', 'but', 'the', 'substance', 'made', 'of', 'two', 'proteins', 'that', 'gives', 'dough', 'its', 'elasticity', 'Celiac', 'is', 'an', 'autoimmune', 'disorder', 'in', 'which', 'gluten', 'wreaks', 'havoc', 'on', 'the', 'small', 'intestine', 'blocking', 'other', 'nutrients', 'from', 'being', 'absorbed', 'When', 'I', 'was', 'diagnosed', 'with', 'celiac']\n"
     ]
    }
   ],
   "source": [
    "print(tokens_nop[:50])"
   ]
  },
  {
   "cell_type": "code",
   "execution_count": 53,
   "metadata": {},
   "outputs": [
    {
     "data": {
      "text/plain": [
       "1855"
      ]
     },
     "execution_count": 53,
     "metadata": {},
     "output_type": "execute_result"
    }
   ],
   "source": [
    "len(tokens)"
   ]
  },
  {
   "cell_type": "code",
   "execution_count": 54,
   "metadata": {},
   "outputs": [
    {
     "data": {
      "text/plain": [
       "1681"
      ]
     },
     "execution_count": 54,
     "metadata": {},
     "output_type": "execute_result"
    }
   ],
   "source": [
    "len(tokens_nop)"
   ]
  },
  {
   "cell_type": "code",
   "execution_count": 55,
   "metadata": {},
   "outputs": [
    {
     "data": {
      "text/plain": [
       "807"
      ]
     },
     "execution_count": 55,
     "metadata": {},
     "output_type": "execute_result"
    }
   ],
   "source": [
    "len(set(tokens_nop))"
   ]
  },
  {
   "cell_type": "code",
   "execution_count": 15,
   "metadata": {},
   "outputs": [
    {
     "ename": "NameError",
     "evalue": "name 'tokens_nop' is not defined",
     "output_type": "error",
     "traceback": [
      "\u001b[1;31m---------------------------------------------------------------------------\u001b[0m",
      "\u001b[1;31mNameError\u001b[0m                                 Traceback (most recent call last)",
      "\u001b[1;32m<ipython-input-15-7832788a35b5>\u001b[0m in \u001b[0;36m<module>\u001b[1;34m()\u001b[0m\n\u001b[0;32m      1\u001b[0m \u001b[1;31m# Convert all characters to Lower case\u001b[0m\u001b[1;33m\u001b[0m\u001b[1;33m\u001b[0m\u001b[0m\n\u001b[1;32m----> 2\u001b[1;33m \u001b[0mtokens_lower\u001b[0m\u001b[1;33m=\u001b[0m\u001b[1;33m[\u001b[0m \u001b[0mt\u001b[0m\u001b[1;33m.\u001b[0m\u001b[0mlower\u001b[0m\u001b[1;33m(\u001b[0m\u001b[1;33m)\u001b[0m \u001b[1;32mfor\u001b[0m \u001b[0mt\u001b[0m \u001b[1;32min\u001b[0m \u001b[0mtokens_nop\u001b[0m \u001b[1;33m]\u001b[0m\u001b[1;33m\u001b[0m\u001b[0m\n\u001b[0m\u001b[0;32m      3\u001b[0m \u001b[0my\u001b[0m\u001b[1;33m=\u001b[0m\u001b[1;34m\"sindhu\"\u001b[0m\u001b[1;33m\u001b[0m\u001b[0m\n\u001b[0;32m      4\u001b[0m \u001b[0my\u001b[0m\u001b[1;33m.\u001b[0m\u001b[0mlower\u001b[0m\u001b[1;33m(\u001b[0m\u001b[1;33m)\u001b[0m\u001b[1;33m\u001b[0m\u001b[0m\n",
      "\u001b[1;31mNameError\u001b[0m: name 'tokens_nop' is not defined"
     ]
    }
   ],
   "source": [
    "# Convert all characters to Lower case\n",
    "tokens_lower=[ t.lower() for t in tokens_nop ]\n",
    "y=\"sindhu\"\n",
    "y.lower()"
   ]
  },
  {
   "cell_type": "code",
   "execution_count": 58,
   "metadata": {},
   "outputs": [
    {
     "name": "stdout",
     "output_type": "stream",
     "text": [
      "['gluten', 'it', 'turns', 'out', 'is', 'not', 'an', 'actual', 'grain', 'or', 'visible', 'ingredient', 'but', 'the', 'substance', 'made', 'of', 'two', 'proteins', 'that', 'gives', 'dough', 'its', 'elasticity', 'celiac', 'is', 'an', 'autoimmune', 'disorder', 'in', 'which', 'gluten', 'wreaks', 'havoc', 'on', 'the', 'small', 'intestine', 'blocking', 'other', 'nutrients', 'from', 'being', 'absorbed', 'when', 'i', 'was', 'diagnosed', 'with', 'celiac']\n"
     ]
    }
   ],
   "source": [
    "print(tokens_lower[:50])"
   ]
  },
  {
   "cell_type": "code",
   "execution_count": 59,
   "metadata": {},
   "outputs": [
    {
     "data": {
      "text/plain": [
       "770"
      ]
     },
     "execution_count": 59,
     "metadata": {},
     "output_type": "execute_result"
    }
   ],
   "source": [
    "len(set(tokens_lower))"
   ]
  },
  {
   "cell_type": "code",
   "execution_count": 60,
   "metadata": {},
   "outputs": [
    {
     "name": "stdout",
     "output_type": "stream",
     "text": [
      "['i', 'me', 'my', 'myself', 'we', 'our', 'ours', 'ourselves', 'you', 'your', 'yours', 'yourself', 'yourselves', 'he', 'him', 'his', 'himself', 'she', 'her', 'hers', 'herself', 'it', 'its', 'itself', 'they', 'them', 'their', 'theirs', 'themselves', 'what', 'which', 'who', 'whom', 'this', 'that', 'these', 'those', 'am', 'is', 'are', 'was', 'were', 'be', 'been', 'being', 'have', 'has', 'had', 'having', 'do', 'does', 'did', 'doing', 'a', 'an', 'the', 'and', 'but', 'if', 'or', 'because', 'as', 'until', 'while', 'of', 'at', 'by', 'for', 'with', 'about', 'against', 'between', 'into', 'through', 'during', 'before', 'after', 'above', 'below', 'to', 'from', 'up', 'down', 'in', 'out', 'on', 'off', 'over', 'under', 'again', 'further', 'then', 'once', 'here', 'there', 'when', 'where', 'why', 'how', 'all', 'any', 'both', 'each', 'few', 'more', 'most', 'other', 'some', 'such', 'no', 'nor', 'not', 'only', 'own', 'same', 'so', 'than', 'too', 'very', 's', 't', 'can', 'will', 'just', 'don', 'should', 'now', 'd', 'll', 'm', 'o', 're', 've', 'y', 'ain', 'aren', 'couldn', 'didn', 'doesn', 'hadn', 'hasn', 'haven', 'isn', 'ma', 'mightn', 'mustn', 'needn', 'shan', 'shouldn', 'wasn', 'weren', 'won', 'wouldn']\n"
     ]
    }
   ],
   "source": [
    "# Create a stopword list from the standard list of stopwords available in nltk\n",
    "stop = stopwords.words('english')\n",
    "print(stop)"
   ]
  },
  {
   "cell_type": "code",
   "execution_count": 61,
   "metadata": {
    "collapsed": true
   },
   "outputs": [],
   "source": [
    "# Remove all these stopwords from the text\n",
    "tokens_nostop=[ t for t in tokens_lower if t not in stop ]"
   ]
  },
  {
   "cell_type": "code",
   "execution_count": 62,
   "metadata": {},
   "outputs": [
    {
     "name": "stdout",
     "output_type": "stream",
     "text": [
      "['gluten', 'turns', 'actual', 'grain', 'visible', 'ingredient', 'substance', 'made', 'two', 'proteins', 'gives', 'dough', 'elasticity', 'celiac', 'autoimmune', 'disorder', 'gluten', 'wreaks', 'havoc', 'small', 'intestine', 'blocking', 'nutrients', 'absorbed', 'diagnosed', 'celiac', 'doctor', 'taught', 'pinpoint', 'wheaty', 'assassins', 'lurking', 'foods', '’', 'never', 'suspect', 'soy', 'sauce', 'gravy', 'candy', 'bars', 'back', 'crunchiest', 'health', 'food', 'store', 'hometown', 'place', 'could', 'find']\n"
     ]
    }
   ],
   "source": [
    "print(tokens_nostop[:50])"
   ]
  },
  {
   "cell_type": "code",
   "execution_count": 63,
   "metadata": {},
   "outputs": [
    {
     "data": {
      "text/plain": [
       "1681"
      ]
     },
     "execution_count": 63,
     "metadata": {},
     "output_type": "execute_result"
    }
   ],
   "source": [
    "len(tokens_lower)"
   ]
  },
  {
   "cell_type": "code",
   "execution_count": 64,
   "metadata": {},
   "outputs": [
    {
     "data": {
      "text/plain": [
       "926"
      ]
     },
     "execution_count": 64,
     "metadata": {},
     "output_type": "execute_result"
    }
   ],
   "source": [
    "len(tokens_nostop)"
   ]
  },
  {
   "cell_type": "code",
   "execution_count": 65,
   "metadata": {},
   "outputs": [
    {
     "data": {
      "text/plain": [
       "[('gluten', 23),\n",
       " ('’', 23),\n",
       " ('“', 23),\n",
       " ('”', 23),\n",
       " ('like', 10),\n",
       " ('food', 8),\n",
       " ('gluten-free', 7),\n",
       " ('celiac', 5),\n",
       " ('would', 5),\n",
       " ('one', 5),\n",
       " ('percent', 5),\n",
       " ('first', 5),\n",
       " ('eat', 4),\n",
       " ('heard', 4),\n",
       " ('word', 4),\n",
       " ('way', 4),\n",
       " ('asked', 4),\n",
       " ('maybe', 4),\n",
       " ('made', 3),\n",
       " ('small', 3),\n",
       " ('doctor', 3),\n",
       " ('never', 3),\n",
       " ('could', 3),\n",
       " ('mom', 3),\n",
       " ('tiny', 3),\n",
       " ('also', 3),\n",
       " ('wheat', 3),\n",
       " ('allergies', 3),\n",
       " ('years', 3),\n",
       " ('much', 3),\n",
       " ('waiters', 3),\n",
       " ('still', 3),\n",
       " ('something', 3),\n",
       " ('two', 2),\n",
       " ('gives', 2),\n",
       " ('diagnosed', 2),\n",
       " ('sauce', 2),\n",
       " ('back', 2),\n",
       " ('health', 2),\n",
       " ('store', 2),\n",
       " ('find', 2),\n",
       " ('products', 2),\n",
       " ('kitchen', 2),\n",
       " ('found', 2),\n",
       " ('went', 2),\n",
       " ('feeling', 2),\n",
       " ('saying', 2),\n",
       " ('comes', 2),\n",
       " ('2014', 2),\n",
       " ('2013', 2)]"
      ]
     },
     "execution_count": 65,
     "metadata": {},
     "output_type": "execute_result"
    }
   ],
   "source": [
    "FreqDist(tokens_nostop).most_common(50)"
   ]
  },
  {
   "cell_type": "code",
   "execution_count": 68,
   "metadata": {},
   "outputs": [
    {
     "data": {
      "text/plain": [
       "nltk.stem.porter.PorterStemmer"
      ]
     },
     "execution_count": 68,
     "metadata": {},
     "output_type": "execute_result"
    }
   ],
   "source": [
    "# Now, let's do some Stemming!\n",
    "# There are different stemmers available in Python. Let's take a look at a few\n",
    "\n",
    "# The most popular stemmer\n",
    "porter = nltk.PorterStemmer()\n"
   ]
  },
  {
   "cell_type": "code",
   "execution_count": 66,
   "metadata": {
    "collapsed": true
   },
   "outputs": [],
   "source": [
    ")\n",
    "tokens_porter=[ porter.stem(t) for t in tokens_nostop ] "
   ]
  },
  {
   "cell_type": "code",
   "execution_count": 67,
   "metadata": {},
   "outputs": [
    {
     "name": "stdout",
     "output_type": "stream",
     "text": [
      "['gluten', 'turns', 'actual', 'grain', 'visible', 'ingredient', 'substance', 'made', 'two', 'proteins', 'gives', 'dough', 'elasticity', 'celiac', 'autoimmune', 'disorder', 'gluten', 'wreaks', 'havoc', 'small', 'intestine', 'blocking', 'nutrients', 'absorbed', 'diagnosed', 'celiac', 'doctor', 'taught', 'pinpoint', 'wheaty', 'assassins', 'lurking', 'foods', '’', 'never', 'suspect', 'soy', 'sauce', 'gravy', 'candy', 'bars', 'back', 'crunchiest', 'health', 'food', 'store', 'hometown', 'place', 'could', 'find']\n"
     ]
    }
   ],
   "source": [
    "print(tokens_nostop[:50])"
   ]
  },
  {
   "cell_type": "code",
   "execution_count": 69,
   "metadata": {},
   "outputs": [
    {
     "name": "stdout",
     "output_type": "stream",
     "text": [
      "['gluten', 'turn', 'actual', 'grain', 'visibl', 'ingredi', 'substanc', 'made', 'two', 'protein', 'give', 'dough', 'elast', 'celiac', 'autoimmun', 'disord', 'gluten', 'wreak', 'havoc', 'small', 'intestin', 'block', 'nutrient', 'absorb', 'diagnos', 'celiac', 'doctor', 'taught', 'pinpoint', 'wheati', 'assassin', 'lurk', 'food', '’', 'never', 'suspect', 'soy', 'sauc', 'gravi', 'candi', 'bar', 'back', 'crunchiest', 'health', 'food', 'store', 'hometown', 'place', 'could', 'find']\n"
     ]
    }
   ],
   "source": [
    "print(tokens_porter[:50])"
   ]
  },
  {
   "cell_type": "code",
   "execution_count": 73,
   "metadata": {},
   "outputs": [
    {
     "name": "stdout",
     "output_type": "stream",
     "text": [
      "['glut', 'turn', 'act', 'grain', 'vis', 'ingredy', 'subst', 'mad', 'two', 'protein', 'giv', 'dough', 'elast', 'celiac', 'autoimmun', 'disord', 'glut', 'wreak', 'havoc', 'smal', 'intestin', 'block', 'nutry', 'absorb', 'diagnos', 'celiac', 'doct', 'taught', 'pinpoint', 'wheaty', 'assassin', 'lurk', 'food', '’', 'nev', 'suspect', 'soy', 'sauc', 'gravy', 'candy', 'bar', 'back', 'crunchiest', 'heal', 'food', 'stor', 'hometown', 'plac', 'could', 'find']\n"
     ]
    },
    {
     "data": {
      "text/plain": [
       "926"
      ]
     },
     "execution_count": 73,
     "metadata": {},
     "output_type": "execute_result"
    }
   ],
   "source": [
    "# The Lancaster Stemmer - developed at Lancaster University\n",
    "lancaster = nltk.LancasterStemmer()\n",
    "tokens_lanc = [ lancaster.stem(t) for t in tokens_nostop ] \n",
    "print(tokens_lanc[:50])\n",
    "len(tokens_lanc)"
   ]
  },
  {
   "cell_type": "code",
   "execution_count": 71,
   "metadata": {},
   "outputs": [
    {
     "name": "stdout",
     "output_type": "stream",
     "text": [
      "['gluten', 'turn', 'actual', 'grain', 'visibl', 'ingredi', 'substanc', 'made', 'two', 'protein', 'give', 'dough', 'elast', 'celiac', 'autoimmun', 'disord', 'gluten', 'wreak', 'havoc', 'small', 'intestin', 'block', 'nutrient', 'absorb', 'diagnos', 'celiac', 'doctor', 'taught', 'pinpoint', 'wheati', 'assassin', 'lurk', 'food', '’', 'never', 'suspect', 'soy', 'sauc', 'gravi', 'candi', 'bar', 'back', 'crunchiest', 'health', 'food', 'store', 'hometown', 'place', 'could', 'find']\n"
     ]
    }
   ],
   "source": [
    "# The snowball stemmer -  which supports 13 non-English languages as well!\n",
    "\n",
    "snowball = nltk.SnowballStemmer('english')\n",
    "tokens_snow = [ snowball.stem(t) for t in tokens_nostop ]\n",
    "print(tokens_snow[:50])\n"
   ]
  },
  {
   "cell_type": "code",
   "execution_count": 72,
   "metadata": {},
   "outputs": [
    {
     "data": {
      "text/plain": [
       "627"
      ]
     },
     "execution_count": 72,
     "metadata": {},
     "output_type": "execute_result"
    }
   ],
   "source": [
    "len(set(tokens_snow))"
   ]
  },
  {
   "cell_type": "code",
   "execution_count": 74,
   "metadata": {},
   "outputs": [
    {
     "name": "stdout",
     "output_type": "stream",
     "text": [
      "['gluten', 'turn', 'actual', 'grain', 'visible', 'ingredient', 'substance', 'made', 'two', 'protein', 'give', 'dough', 'elasticity', 'celiac', 'autoimmune', 'disorder', 'gluten', 'wreaks', 'havoc', 'small', 'intestine', 'blocking', 'nutrient', 'absorbed', 'diagnosed', 'celiac', 'doctor', 'taught', 'pinpoint', 'wheaty', 'assassin', 'lurking', 'food', '’', 'never', 'suspect', 'soy', 'sauce', 'gravy', 'candy', 'bar', 'back', 'crunchiest', 'health', 'food', 'store', 'hometown', 'place', 'could', 'find']\n"
     ]
    },
    {
     "data": {
      "text/plain": [
       "650"
      ]
     },
     "execution_count": 74,
     "metadata": {},
     "output_type": "execute_result"
    }
   ],
   "source": [
    "# Now, for Lemmatization, which converts each word to it's corresponding lemma, use the Lemmatizer provided by nltk\n",
    "wnl = nltk.WordNetLemmatizer()\n",
    "tokens_lem = [ wnl.lemmatize(t) for t in tokens_nostop ]\n",
    "print(tokens_lem[:50])\n",
    "len(set(tokens_lem))"
   ]
  },
  {
   "cell_type": "code",
   "execution_count": 75,
   "metadata": {},
   "outputs": [
    {
     "data": {
      "text/plain": [
       "'absorb'"
      ]
     },
     "execution_count": 75,
     "metadata": {},
     "output_type": "execute_result"
    }
   ],
   "source": [
    "# Check the lemmatization results. Why are some words not lemmatized?\n",
    "# The reason is it needs to know the POS of the words. The default is 'n'.\n",
    "# We'll learn how to do POS tagging later.\n",
    "wnl.lemmatize('absorbed', pos = 'v')"
   ]
  },
  {
   "cell_type": "code",
   "execution_count": 76,
   "metadata": {
    "collapsed": true
   },
   "outputs": [],
   "source": [
    "# Let's use Snowball Stemmer's result.\n",
    "# Further cleaning: filter off anything with less than 3 characters\n",
    "nltk.FreqDist(tokens_snow).most_common(100)\n",
    "tokens_clean = [ t for t in tokens_snow if len(t) >= 3 ]"
   ]
  },
  {
   "cell_type": "code",
   "execution_count": 77,
   "metadata": {},
   "outputs": [
    {
     "data": {
      "text/plain": [
       "926"
      ]
     },
     "execution_count": 77,
     "metadata": {},
     "output_type": "execute_result"
    }
   ],
   "source": [
    "len(tokens_snow)"
   ]
  },
  {
   "cell_type": "code",
   "execution_count": 78,
   "metadata": {},
   "outputs": [
    {
     "data": {
      "text/plain": [
       "850"
      ]
     },
     "execution_count": 78,
     "metadata": {},
     "output_type": "execute_result"
    }
   ],
   "source": [
    "len(tokens_clean)"
   ]
  },
  {
   "cell_type": "code",
   "execution_count": 79,
   "metadata": {},
   "outputs": [
    {
     "data": {
      "text/plain": [
       "[('gluten', 23),\n",
       " ('like', 10),\n",
       " ('food', 9),\n",
       " ('gluten-fre', 7),\n",
       " ('ask', 6),\n",
       " ('celiac', 5),\n",
       " ('would', 5),\n",
       " ('one', 5),\n",
       " ('percent', 5),\n",
       " ('first', 5),\n",
       " ('way', 5),\n",
       " ('allergi', 5),\n",
       " ('waiter', 5),\n",
       " ('eat', 4),\n",
       " ('heard', 4),\n",
       " ('word', 4),\n",
       " ('year', 4),\n",
       " ('mayb', 4),\n",
       " ('turn', 3),\n",
       " ('ingredi', 3),\n",
       " ('made', 3),\n",
       " ('small', 3),\n",
       " ('doctor', 3),\n",
       " ('never', 3),\n",
       " ('could', 3),\n",
       " ('mom', 3),\n",
       " ('sandwich', 3),\n",
       " ('tini', 3),\n",
       " ('feel', 3),\n",
       " ('diet', 3),\n",
       " ('say', 3),\n",
       " ('question', 3),\n",
       " ('also', 3),\n",
       " ('wheat', 3),\n",
       " ('line', 3),\n",
       " ('much', 3),\n",
       " ('still', 3),\n",
       " ('someth', 3),\n",
       " ('know', 3),\n",
       " ('slight', 3),\n",
       " ('two', 2),\n",
       " ('protein', 2),\n",
       " ('give', 2),\n",
       " ('intestin', 2),\n",
       " ('diagnos', 2),\n",
       " ('sauc', 2),\n",
       " ('back', 2),\n",
       " ('health', 2),\n",
       " ('store', 2),\n",
       " ('find', 2)]"
      ]
     },
     "execution_count": 79,
     "metadata": {},
     "output_type": "execute_result"
    }
   ],
   "source": [
    "nltk.FreqDist(tokens_clean).most_common(50)"
   ]
  },
  {
   "cell_type": "code",
   "execution_count": 80,
   "metadata": {
    "collapsed": true
   },
   "outputs": [],
   "source": [
    "fd_clean = nltk.FreqDist(tokens_clean)"
   ]
  },
  {
   "cell_type": "code",
   "execution_count": 83,
   "metadata": {
    "scrolled": true
   },
   "outputs": [
    {
     "data": {
      "text/plain": [
       "'gluten.turn.actual.grain.visibl.ingredi.substanc.made.two.protein.give.dough.elast.celiac.autoimmun.disord.gluten.wreak.havoc.small.intestin.block.nutrient.absorb.diagnos.celiac.doctor.taught.pinpoint.wheati.assassin.lurk.food.never.suspect.soy.sauc.gravi.candi.bar.back.crunchiest.health.food.store.hometown.place.could.find.wheat-fre.product.mom.would.eat.terribl.sandwich.tini.café.back.decor.like.70s.rainforest.bead.curtain.strung.alongsid.fake.agav.plant.alway.empti.wild-hair.store.owner.would.emerg.kitchen.hand.full.roll.someon.mail-ord.frozen.pack.sorghum.donut.dorm.room.found.gluten-fre.boom.weird.live.went.feel.mild.exot.like.odd.domest.tropic.pet.unwit.embodi.whole.host.cliché.fad.diet.femal.calorie-phobia.reason.say.assert.primaci.great.war.gluten.lay.claim.o.g.status.come.ask.question.soup.thicken.roux.also.convey.uniqu.strang.feel.lifelong.trait—even.one.arbitrari.intoler.wheat.protein.hybrid—turn.punch.line.cultur.larg.golden.age.glutenless.gluten-fre.food.sale.grew.percent.2012.2014.2019.number.project.increas.140.percent.2013.studi.claim.percent.shopper.buy.gluten-fre.good.diagnos.celiac.diseas.percent.buy.think.gluten.unhealthi.percent.gluten-fre.shopper.will.subject.rock-hard.bagel.cooki.that—in.absenc.springi.character.normal.dough—crumbl.nothing.touch.breez.two.decad.sinc.first.heard.word.gluten.evolv.obscur.scourg.small.popul.peopl.celiac.diseas.fad-diet.obsess.carb-phob.along.way.becom.nutrit.bogeyman.shorthand.kind.phoni.ascetic.pop-cultur.joke.start.scatter.articl.gluten.sensit.scientif.paper.specul.whether.american.wheat.becom.less.digest.surest.sign.mass-cultur.anoint.gluten.coverag.migrat.health.scienc.page.style.section.grow.awar.gluten.came.surg.self-diagnos.allergi.south.park.skewer.alarm.anti-gluten.set.devot.entir.2014.episod.imaginari.plagu.gluten.free.ebola.tumblr.call.gluten.free.museum.went.viral.photoshop.wheat.product.famous.work.art.real.date.websit.launch.call.glutenfreesingles.com.crush.fall.1995.atkin.diet.begun.vilifi.carb.america.dietari.imagin.also.gluten.sound.made-up.gluten.word.cartoonish.littl.seem.dopey.mean.anyth.first.time.mom.brought.home.gluten-fre.bread—a.sick.bleach.loaf.dens.paperweight—i.could.believ.food.would.wander.sorrow.supermarket.aisl.behold.row.delect.poison.tastykak.twix.cinnamon.toast.crunch.classmat.birthday.parti.peer.joy.fork.cake.mouth.stare.untouch.slice.cri.year.old.first.heard.word.gluten.eat.gluten.anymor.mom.inform.left.doctor.offic.spaghetti..face.suggest.good.news.gain.weight.year.look.like.tini.goblin.bang.doctor.describ.predica.failur.thrive..pasta.machin.far.third-grad.self.concern.food.perfect.noodl.bland.reliabl.use.vehicl.chees.rememb.tast.much.thrill.admitt.secret.world.benign.eccentr.magical-sound.ingredi.like.teff..yen.low-risk.adventur.classmat.palat.gone.soft.spaghettio.would.never.ventur.school.everyon.handl.ginger.first.third-grad.eye.grayish.lunch.potato.penn.corn.tortilla.without.say.anyth.lunch.ladi.quiet.retriev.privat.stash.sandwich.bread.cafeteria.freezer.arriv.eventu.avoid.gluten.start.feel.like.sort.shtick.spent.mani.year.inflict.question.unsuspect.waiter.friend.recit.memori.worcestershir.sauc.caesar.dress.fri.cook.recycl.oil.photo.illustr.lisa.larson-walk.photo.courtesi.laura.bennett.began.notic.general.chill.relationship.waiter.across.tristat.area.celiac.still.day.given.someth.survivalist.mindset.come.doughi.food.put.front.bowl.quinoa.noodl.cake.made.tapioca.flour.bear.line.intestin.frost.exact.moment.knew.tide.turn.gluten.came.2013.italian.restaur.ask.waiter.big.guy.mustach.like.pelt.whether.chicken.wing.bread.lean.squint.would.want.know.ask.allerg.gluten.repli.gave.mighti.eye.roll.anoth.one.said.left.began.notic.general.chill.relationship.waiter.across.tristat.area.wherea.react.word.gluten.befuddl.concern.knew.gluten.respond.question.like.gis.snap.attent.marked-up.menus.rattled-off.ingredi.curl.lip.unmistak.rememb.see.end.seth.rogen.jay.baruchel.debat.merit.gluten-fre.diet.lean.gloo.syllabl.independ.hilari.felt.like.privat.sanctum.life.breach.gluten.found.way.mass-target.shenanigan.apatovian.doofus.thought.much.fall.lot.week.ago.visit.new.dentist.first.time.ask.food.allergi.gluten.said.let.tri.repli.real.allergi.old.whiff.strang.relish.kid.slight.alien.qualiti.allergi.one.heard.of—it.convert.someth.much.pungent.dumb.bougi.trend.made.realiz.someth.spind.9-year-old.self.never.could.expect.spend.format.decad.inconveni.food.allergi.lodg.self-concept.surpris.way.kid.sudden.forc.squint.food.packag.learn.mean.monosodium.glutam.plunk.bricklik.wheatless.sandwich.onto.cafeteria.tabl.everi.day.front.friends—it.give.healthi.sens.absurd.also.tini.persecut.complex.mayb.failur.thrive.stunt.growth.result.stagger.lack.athlet.prowess.throughout.elementari.school.year.includ.requir.swim.meet.breaststrok.feebl.panicki.look.less.like.swim.drown.mayb.memor.precoci.line.recit.ask.happen.eat.gluten.well.flatten.villi.small.intestines..mayb.begin.take.slight.distinct.pride.reserv.grain-rel.expertis.realiz.one.9-year-old.know.maltodextrin.fact.contain.malt.end.gotten.hang.thing.mayb.write.song.sheet.legal.paper.still.tack.wall.childhood.bedroom.includ.lyric.laura.eat.gluten/.still.hootin.joy..imagin.ur-gluten-intoler.bit.like.love.band.one.heard.watch.climb.billboard.hot.100.mix.puzzlement.everyon.find.possess.even.realli.get.slight.intern.reshuffl.requir.disentangl.self-imag.chip.materi.shoulder.whenev.hear.name.life.though.allerg.gluten.quirk.specif.unlik.quirk.safe.meaningless—in.way.symptom.charact.tast.brain.turn.beer.parti.tri.arrang.face.way.say.know.right..ask.waiter.gluten-fre.pasta.kitchen.offer.sympathet.littl.grimac'"
      ]
     },
     "execution_count": 83,
     "metadata": {},
     "output_type": "execute_result"
    }
   ],
   "source": [
    "# Join the cleaned tokens back into a string.\n",
    "# Why? Because some functions we'll use later require string as input.\n",
    "text_clean=\" \".join(tokens_clean)"
   ]
  },
  {
   "cell_type": "code",
   "execution_count": 85,
   "metadata": {
    "collapsed": true
   },
   "outputs": [],
   "source": [
    "# ==== Installation of wordcloud package\n",
    "# 1. download wordcloud‑1.3.2‑cp36‑cp36m‑win_amd64.whl from http://www.lfd.uci.edu/~gohlke/pythonlibs/#wordcloud \n",
    "# 2. Copy the file to your current working directory\n",
    "# 3. Open command prompt from Tools\n",
    "# 4. python -m pip install wordcloud-1.3.2-cp36-cp36m-win_amd64.whl\n",
    "import wordcloud\n",
    "from wordcloud import WordCloud, ImageColorGenerator\n",
    "import matplotlib.pyplot as plt\n",
    "import numpy as np\n",
    "from PIL import Image"
   ]
  },
  {
   "cell_type": "code",
   "execution_count": 86,
   "metadata": {
    "collapsed": true
   },
   "outputs": [],
   "source": [
    "# 1. Simple cloud\n",
    "# Generate a word cloud image\n",
    "# Take note that this function requires text string as input\n",
    "wc = WordCloud(background_color=\"white\").generate(text_clean)"
   ]
  },
  {
   "cell_type": "code",
   "execution_count": 87,
   "metadata": {},
   "outputs": [
    {
     "data": {
      "text/plain": [
       "<matplotlib.image.AxesImage at 0x18e5931ef28>"
      ]
     },
     "execution_count": 87,
     "metadata": {},
     "output_type": "execute_result"
    }
   ],
   "source": [
    "# Display the generated image:\n",
    "# the matplotlib way:\n",
    "\n",
    "plt.imshow(wc, interpolation='bilinear')"
   ]
  },
  {
   "cell_type": "code",
   "execution_count": 88,
   "metadata": {},
   "outputs": [
    {
     "data": {
      "text/plain": [
       "(-0.5, 399.5, 199.5, -0.5)"
      ]
     },
     "execution_count": 88,
     "metadata": {},
     "output_type": "execute_result"
    }
   ],
   "source": [
    "plt.axis(\"off\")"
   ]
  },
  {
   "cell_type": "code",
   "execution_count": 89,
   "metadata": {},
   "outputs": [
    {
     "data": {
      "image/png": "[encoded data removed]",
      "text/plain": [
       "<matplotlib.figure.Figure at 0x18e54c2d0b8>"
      ]
     },
     "metadata": {},
     "output_type": "display_data"
    }
   ],
   "source": [
    "plt.show()"
   ]
  },
  {
   "cell_type": "code",
   "execution_count": 91,
   "metadata": {},
   "outputs": [
    {
     "data": {
      "text/plain": [
       "<wordcloud.wordcloud.WordCloud at 0x18e59282978>"
      ]
     },
     "execution_count": 91,
     "metadata": {},
     "output_type": "execute_result"
    }
   ],
   "source": [
    "wc.to_file(\"example.png\")"
   ]
  },
  {
   "cell_type": "code",
   "execution_count": 92,
   "metadata": {},
   "outputs": [
    {
     "data": {
      "image/png": "[encoded data removed]",
      "text/plain": [
       "<matplotlib.figure.Figure at 0x18e593c4f28>"
      ]
     },
     "metadata": {},
     "output_type": "display_data"
    }
   ],
   "source": [
    "# We can also generate directly from the frequency information\n",
    "wc2 = WordCloud(background_color=\"white\")\n",
    "wc2.generate_from_frequencies(fd_clean)\n",
    "plt.imshow(wc2, interpolation='bilinear')\n",
    "plt.axis(\"off\")\n",
    "plt.show()"
   ]
  },
  {
   "cell_type": "code",
   "execution_count": 93,
   "metadata": {
    "collapsed": true
   },
   "outputs": [],
   "source": [
    "# 2. Cloud with customized shape and color\n",
    "mask = np.array(Image.open(\"./fly.png\"))\n",
    "image_colors = ImageColorGenerator(mask)"
   ]
  },
  {
   "cell_type": "code",
   "execution_count": 94,
   "metadata": {
    "collapsed": true
   },
   "outputs": [],
   "source": [
    "wc3 = WordCloud(background_color='white', mask=mask).generate(text_clean)"
   ]
  },
  {
   "cell_type": "code",
   "execution_count": 95,
   "metadata": {},
   "outputs": [
    {
     "data": {
      "image/png": "[encoded data removed]",
      "text/plain": [
       "<matplotlib.figure.Figure at 0x18e59354780>"
      ]
     },
     "metadata": {},
     "output_type": "display_data"
    }
   ],
   "source": [
    "plt.imshow(wc3.recolor(color_func=image_colors))\n",
    "plt.axis(\"off\")\n",
    "plt.show()"
   ]
  }
 ],
 "metadata": {
  "kernelspec": {
   "display_name": "Python 3",
   "language": "python",
   "name": "python3"
  },
  "language_info": {
   "codemirror_mode": {
    "name": "ipython",
    "version": 3
   },
   "file_extension": ".py",
   "mimetype": "text/x-python",
   "name": "python",
   "nbconvert_exporter": "python",
   "pygments_lexer": "ipython3",
   "version": "3.6.1"
  }
 },
 "nbformat": 4,
 "nbformat_minor": 2
}
