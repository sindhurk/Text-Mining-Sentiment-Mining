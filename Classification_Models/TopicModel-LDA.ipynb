{
 "cells": [
  {
   "cell_type": "code",
   "execution_count": 2,
   "metadata": {},
   "outputs": [
    {
     "data": {
      "text/html": [
       "<div>\n",
       "<style>\n",
       "    .dataframe thead tr:only-child th {\n",
       "        text-align: right;\n",
       "    }\n",
       "\n",
       "    .dataframe thead th {\n",
       "        text-align: left;\n",
       "    }\n",
       "\n",
       "    .dataframe tbody tr th {\n",
       "        vertical-align: top;\n",
       "    }\n",
       "</style>\n",
       "<table border=\"1\" class=\"dataframe\">\n",
       "  <thead>\n",
       "    <tr style=\"text-align: right;\">\n",
       "      <th></th>\n",
       "      <th>Class</th>\n",
       "      <th>Text</th>\n",
       "    </tr>\n",
       "  </thead>\n",
       "  <tbody>\n",
       "    <tr>\n",
       "      <th>15</th>\n",
       "      <td>trade</td>\n",
       "      <td>brazil anti inflation plan limps to anniversar...</td>\n",
       "    </tr>\n",
       "    <tr>\n",
       "      <th>43</th>\n",
       "      <td>crude</td>\n",
       "      <td>diamond shamrock dia cuts crude prices diamond...</td>\n",
       "    </tr>\n",
       "    <tr>\n",
       "      <th>55</th>\n",
       "      <td>crude</td>\n",
       "      <td>opec may have to meet to firm prices analysts ...</td>\n",
       "    </tr>\n",
       "    <tr>\n",
       "      <th>76</th>\n",
       "      <td>crude</td>\n",
       "      <td>texaco canada cuts crude prices canadian cts b...</td>\n",
       "    </tr>\n",
       "    <tr>\n",
       "      <th>77</th>\n",
       "      <td>crude</td>\n",
       "      <td>texaco canada txc lowers crude postings texaco...</td>\n",
       "    </tr>\n",
       "  </tbody>\n",
       "</table>\n",
       "</div>"
      ],
      "text/plain": [
       "    Class                                               Text\n",
       "15  trade  brazil anti inflation plan limps to anniversar...\n",
       "43  crude  diamond shamrock dia cuts crude prices diamond...\n",
       "55  crude  opec may have to meet to firm prices analysts ...\n",
       "76  crude  texaco canada cuts crude prices canadian cts b...\n",
       "77  crude  texaco canada txc lowers crude postings texaco..."
      ]
     },
     "execution_count": 2,
     "metadata": {},
     "output_type": "execute_result"
    }
   ],
   "source": [
    "# In this workshop we perform topic modeling using gensim\n",
    "\n",
    "# The \"Class\" labels here are only used for sanity check of the topics discovered later.\n",
    "# Remember, in actual use of topic modelling, the documents DON'T come with labeled classes.\n",
    "# It's unsupervised learning.\n",
    "\n",
    "import pandas as pd\n",
    "import os\n",
    "os.chdir(r\"C:\\Users\\hp\\Desktop\\TM\\Week4\")\n",
    "news=pd.read_table('r8-train-all-terms.txt',header=None,names = [\"Class\", \"Text\"])\n",
    "subnews=news[(news.Class==\"trade\")| (news.Class=='crude')|(news.Class=='money-fx') ]\n",
    "subnews.head()"
   ]
  },
  {
   "cell_type": "code",
   "execution_count": 3,
   "metadata": {
    "collapsed": true
   },
   "outputs": [],
   "source": [
    "# Let's use the similar preprocessing we used last week.\n",
    "# The output of each document is a list of tokens.\n",
    "\n",
    "import nltk\n",
    "from nltk.corpus import stopwords\n",
    "mystopwords=stopwords.words(\"English\") + ['one', 'become', 'get', 'make', 'take']\n",
    "WNlemma = nltk.WordNetLemmatizer()\n",
    "\n",
    "def pre_process(text):\n",
    "    tokens = nltk.word_tokenize(text)\n",
    "    tokens=[ WNlemma.lemmatize(t.lower()) for t in tokens]\n",
    "    tokens=[ t for t in tokens if t not in mystopwords]\n",
    "    tokens = [ t for t in tokens if len(t) >= 3 ]\n",
    "    return(tokens)"
   ]
  },
  {
   "cell_type": "code",
   "execution_count": 4,
   "metadata": {
    "collapsed": true
   },
   "outputs": [],
   "source": [
    "#split the data into training and testing\n",
    "from sklearn.model_selection import train_test_split\n",
    "X_train, X_test, y_train, y_test = train_test_split(subnews.Text, subnews.Class, test_size=0.33, random_state=12)\n"
   ]
  },
  {
   "cell_type": "code",
   "execution_count": 5,
   "metadata": {
    "scrolled": true
   },
   "outputs": [
    {
     "data": {
      "text/plain": [
       "1807    [house, panel, approves, trade, bill, house, w...\n",
       "3295    [zimbabwe, dollar, devaluation, central, bank,...\n",
       "5162    [swedish, prime, minister, china, visit, boost...\n",
       "2151    [canada, prime, minister, say, major, trade, d...\n",
       "4418    [mexican, first, qtr, crude, export, seen, dlr...\n",
       "3531    [canada, outline, gatt, agricultural, reform, ...\n",
       "2539    [kuwait, say, opec, member, violating, output,...\n",
       "2257    [brazil, trade, surplus, doubled, february, br...\n",
       "3548    [yeutter, say, japan, trade, difficulty, remai...\n",
       "319     [china, call, better, trade, deal, china, call...\n",
       "2581    [rotterdam, sign, cooperation, agreement, toky...\n",
       "5386    [italy, say, give, chance, verify, tokyo, acco...\n",
       "3915    [ecuador, negotiates, nigeria, lending, oil, e...\n",
       "4632    [stock, market, overreacts, tariff, yeutter, t...\n",
       "4826    [money, market, offered, early, assistance, ba...\n",
       "4718    [senior, official, visit, japan, trade, row, g...\n",
       "78      [marathon, petroleum, reduces, crude, posting,...\n",
       "1829    [bank, japan, call, long, term, effort, trade,...\n",
       "2429    [warns, dependence, foreign, oil, white, house...\n",
       "710     [early, march, opec, output, seen, well, ceili...\n",
       "114     [saudi, arabia, reiterates, commitment, opec, ...\n",
       "757     [opec, say, february, output, ceiling, opec, o...\n",
       "2356    [treasury, announces, oecd, tied, aid, pact, t...\n",
       "1797    [citgo, raise, crude, posting, today, wti, dlr...\n",
       "4234    [money, market, given, mln, stg, assistance, b...\n",
       "2650    [gulf, arab, state, move, towards, economic, i...\n",
       "1560    [venezuela, lend, oil, ecuador, export, venezu...\n",
       "4339    [arab, banker, say, soon, single, currency, gu...\n",
       "4238    [bank, france, buy, dollar, paris, fixing, dea...\n",
       "4730    [broader, eep, sought, republican, lawmaker, r...\n",
       "                              ...                        \n",
       "3053    [senate, want, japan, semiconducter, pact, enf...\n",
       "3621    [fed, governor, support, commodity, price, gui...\n",
       "1196    [amoco, first, south, china, sea, exploratory,...\n",
       "5279    [canada, oil, industry, set, recovery, analyst...\n",
       "3512    [world, bank, chief, pledge, support, indonesi...\n",
       "3514    [yeutter, say, japan, trade, difficulty, remai...\n",
       "975     [treasury, baker, forecast, reduction, japanes...\n",
       "2330    [money, market, receives, mln, stg, assistance...\n",
       "847     [yeutter, say, budget, deficit, reduction, key...\n",
       "715     [diamond, shamrock, raise, crude, posted, pric...\n",
       "2100    [money, market, given, mln, stg, late, help, b...\n",
       "1768    [diamond, shamrock, dia, raise, crude, posting...\n",
       "1028    [colombian, oil, export, affected, quake, colo...\n",
       "3288    [senator, say, sanction, likely, microchip, un...\n",
       "3318    [australian, oil, tax, cut, seen, boosting, ou...\n",
       "696     [opec, sticking, firm, official, price, subrot...\n",
       "4756    [imperial, oil, imo, talk, supplier, imperial,...\n",
       "3742    [exchange, rate, almost, within, level, sumita...\n",
       "3513    [sumita, say, bank, intervene, necessary, bank...\n",
       "3819    [house, way, mean, cmte, finish, work, bill, t...\n",
       "5148    [yeutter, stress, importance, trade, talk, tra...\n",
       "476     [pancanadian, sell, north, sea, property, unit...\n",
       "2188    [trade, interest, ready, battle, house, lawmak...\n",
       "3545    [kuwait, say, opec, mln, bpd, ceiling, kuwaiti...\n",
       "2039    [norway, trade, deficit, widens, february, nor...\n",
       "4890    [fed, buy, billion, dlrs, bill, customer, fede...\n",
       "1949    [dutch, trade, fully, balance, january, nether...\n",
       "2021    [leading, industrial, nation, meet, april, lea...\n",
       "3332    [yeutter, see, japan, verging, trade, conflict...\n",
       "5255    [conable, warns, protectionism, might, spread,...\n",
       "Name: Text, Length: 475, dtype: object"
      ]
     },
     "execution_count": 5,
     "metadata": {},
     "output_type": "execute_result"
    }
   ],
   "source": [
    "# Apply preprocessing to every document in the training set.\n",
    "toks_train = X_train.apply(pre_process)\n",
    "toks_train"
   ]
  },
  {
   "cell_type": "code",
   "execution_count": 6,
   "metadata": {},
   "outputs": [
    {
     "name": "stderr",
     "output_type": "stream",
     "text": [
      "C:\\Users\\hp\\Anaconda3\\lib\\site-packages\\gensim\\utils.py:862: UserWarning: detected Windows; aliasing chunkize to chunkize_serial\n",
      "  warnings.warn(\"detected Windows; aliasing chunkize to chunkize_serial\")\n"
     ]
    }
   ],
   "source": [
    "import logging\n",
    "import gensim \n",
    "from gensim import corpora\n",
    "\n",
    "#logging.basicConfig(format='%(asctime)s : %(levelname)s : %(message)s', level=logging.INFO)"
   ]
  },
  {
   "cell_type": "code",
   "execution_count": 7,
   "metadata": {},
   "outputs": [
    {
     "name": "stdout",
     "output_type": "stream",
     "text": [
      "Dictionary(5971 unique tokens: ['house', 'panel', 'approves', 'trade', 'bill']...)\n"
     ]
    }
   ],
   "source": [
    "# Prepare a vocabulary dictionary.\n",
    "dictionary = corpora.Dictionary(toks_train)\n",
    "print(dictionary)"
   ]
  },
  {
   "cell_type": "code",
   "execution_count": 9,
   "metadata": {},
   "outputs": [
    {
     "data": {
      "text/plain": [
       "108"
      ]
     },
     "execution_count": 9,
     "metadata": {},
     "output_type": "execute_result"
    }
   ],
   "source": [
    "# It's mappings between ids and tokens\n",
    "# To get a token's id\n",
    "dictionary.token2id['exchange']"
   ]
  },
  {
   "cell_type": "code",
   "execution_count": 10,
   "metadata": {},
   "outputs": [
    {
     "data": {
      "text/plain": [
       "'help'"
      ]
     },
     "execution_count": 10,
     "metadata": {},
     "output_type": "execute_result"
    }
   ],
   "source": [
    "# To get the token of an id\n",
    "dictionary[157]"
   ]
  },
  {
   "cell_type": "code",
   "execution_count": 8,
   "metadata": {},
   "outputs": [
    {
     "name": "stdout",
     "output_type": "stream",
     "text": [
      "Dictionary(2434 unique tokens: ['house', 'panel', 'approves', 'trade', 'bill']...)\n"
     ]
    }
   ],
   "source": [
    "# Filter off any words with document frequency less than 3, or appearing in more than 80% documents\n",
    "dictionary.filter_extremes(no_below=3, no_above=0.7)\n",
    "print(dictionary)"
   ]
  },
  {
   "cell_type": "code",
   "execution_count": 9,
   "metadata": {
    "collapsed": true
   },
   "outputs": [],
   "source": [
    "# Use the dictionary to prepare a DTM (using TF)\n",
    "dtm_train = [dictionary.doc2bow(d) for d in toks_train ]"
   ]
  },
  {
   "cell_type": "code",
   "execution_count": 13,
   "metadata": {
    "scrolled": true
   },
   "outputs": [
    {
     "name": "stderr",
     "output_type": "stream",
     "text": [
      "2017-10-03 21:16:03,293 : INFO : using symmetric alpha at 0.3333333333333333\n",
      "2017-10-03 21:16:03,297 : INFO : using symmetric eta at 0.0004108463434675431\n",
      "2017-10-03 21:16:03,300 : INFO : using serial LDA version on this node\n",
      "2017-10-03 21:16:03,354 : INFO : running online (multi-pass) LDA training, 3 topics, 20 passes over the supplied corpus of 475 documents, updating model once every 475 documents, evaluating perplexity every 475 documents, iterating 50x with a convergence threshold of 0.001000\n",
      "2017-10-03 21:16:07,938 : INFO : -8.320 per-word bound, 319.5 perplexity estimate based on a held-out corpus of 475 documents with 50286 words\n",
      "2017-10-03 21:16:07,939 : INFO : PROGRESS: pass 0, at document #475/475\n",
      "2017-10-03 21:16:09,624 : INFO : topic #0 (0.333): 0.019*\"oil\" + 0.014*\"trade\" + 0.011*\"mln\" + 0.010*\"would\" + 0.009*\"billion\" + 0.009*\"year\" + 0.008*\"market\" + 0.008*\"dlrs\" + 0.008*\"bank\" + 0.008*\"last\"\n",
      "2017-10-03 21:16:09,628 : INFO : topic #1 (0.333): 0.019*\"trade\" + 0.011*\"japan\" + 0.011*\"would\" + 0.009*\"mln\" + 0.008*\"market\" + 0.008*\"official\" + 0.008*\"price\" + 0.008*\"oil\" + 0.008*\"year\" + 0.006*\"pct\"\n",
      "2017-10-03 21:16:09,635 : INFO : topic #2 (0.333): 0.017*\"oil\" + 0.016*\"trade\" + 0.011*\"dlrs\" + 0.010*\"mln\" + 0.010*\"price\" + 0.009*\"market\" + 0.009*\"japan\" + 0.008*\"bank\" + 0.007*\"billion\" + 0.007*\"would\"\n",
      "2017-10-03 21:16:09,640 : INFO : topic diff=0.996649, rho=1.000000\n",
      "2017-10-03 21:16:13,871 : INFO : -7.070 per-word bound, 134.4 perplexity estimate based on a held-out corpus of 475 documents with 50286 words\n",
      "2017-10-03 21:16:13,873 : INFO : PROGRESS: pass 1, at document #475/475\n",
      "2017-10-03 21:16:15,216 : INFO : topic #0 (0.333): 0.022*\"oil\" + 0.013*\"mln\" + 0.010*\"billion\" + 0.010*\"trade\" + 0.010*\"dlrs\" + 0.009*\"year\" + 0.009*\"would\" + 0.009*\"bank\" + 0.009*\"bpd\" + 0.008*\"opec\"\n",
      "2017-10-03 21:16:15,219 : INFO : topic #1 (0.333): 0.025*\"trade\" + 0.014*\"japan\" + 0.012*\"would\" + 0.009*\"official\" + 0.008*\"market\" + 0.008*\"japanese\" + 0.007*\"year\" + 0.006*\"import\" + 0.006*\"country\" + 0.006*\"price\"\n",
      "2017-10-03 21:16:15,224 : INFO : topic #2 (0.333): 0.016*\"oil\" + 0.013*\"trade\" + 0.012*\"dlrs\" + 0.012*\"mln\" + 0.011*\"price\" + 0.010*\"market\" + 0.009*\"bank\" + 0.008*\"stg\" + 0.007*\"billion\" + 0.007*\"crude\"\n",
      "2017-10-03 21:16:15,229 : INFO : topic diff=0.305054, rho=0.577350\n",
      "2017-10-03 21:16:19,523 : INFO : -6.978 per-word bound, 126.1 perplexity estimate based on a held-out corpus of 475 documents with 50286 words\n",
      "2017-10-03 21:16:19,525 : INFO : PROGRESS: pass 2, at document #475/475\n",
      "2017-10-03 21:16:20,784 : INFO : topic #0 (0.333): 0.025*\"oil\" + 0.014*\"mln\" + 0.011*\"billion\" + 0.011*\"dlrs\" + 0.010*\"bpd\" + 0.009*\"opec\" + 0.009*\"year\" + 0.009*\"price\" + 0.009*\"bank\" + 0.009*\"would\"\n",
      "2017-10-03 21:16:20,787 : INFO : topic #1 (0.333): 0.029*\"trade\" + 0.015*\"japan\" + 0.012*\"would\" + 0.009*\"japanese\" + 0.008*\"official\" + 0.008*\"market\" + 0.007*\"year\" + 0.007*\"country\" + 0.006*\"import\" + 0.006*\"state\"\n",
      "2017-10-03 21:16:20,792 : INFO : topic #2 (0.333): 0.016*\"oil\" + 0.013*\"mln\" + 0.013*\"dlrs\" + 0.012*\"price\" + 0.011*\"trade\" + 0.011*\"market\" + 0.011*\"bank\" + 0.009*\"stg\" + 0.008*\"crude\" + 0.007*\"billion\"\n",
      "2017-10-03 21:16:20,797 : INFO : topic diff=0.228151, rho=0.500000\n",
      "2017-10-03 21:16:24,753 : INFO : -6.933 per-word bound, 122.2 perplexity estimate based on a held-out corpus of 475 documents with 50286 words\n",
      "2017-10-03 21:16:24,755 : INFO : PROGRESS: pass 3, at document #475/475\n",
      "2017-10-03 21:16:25,936 : INFO : topic #0 (0.333): 0.027*\"oil\" + 0.015*\"mln\" + 0.011*\"dlrs\" + 0.011*\"billion\" + 0.010*\"opec\" + 0.010*\"bpd\" + 0.010*\"price\" + 0.010*\"year\" + 0.009*\"bank\" + 0.009*\"pct\"\n",
      "2017-10-03 21:16:25,939 : INFO : topic #1 (0.333): 0.030*\"trade\" + 0.016*\"japan\" + 0.012*\"would\" + 0.009*\"japanese\" + 0.008*\"official\" + 0.008*\"market\" + 0.007*\"year\" + 0.007*\"country\" + 0.006*\"state\" + 0.006*\"agreement\"\n",
      "2017-10-03 21:16:25,944 : INFO : topic #2 (0.333): 0.017*\"oil\" + 0.014*\"mln\" + 0.013*\"dlrs\" + 0.013*\"price\" + 0.012*\"market\" + 0.012*\"bank\" + 0.010*\"stg\" + 0.010*\"trade\" + 0.008*\"crude\" + 0.007*\"dollar\"\n",
      "2017-10-03 21:16:25,948 : INFO : topic diff=0.173265, rho=0.447214\n",
      "2017-10-03 21:16:29,785 : INFO : -6.908 per-word bound, 120.1 perplexity estimate based on a held-out corpus of 475 documents with 50286 words\n",
      "2017-10-03 21:16:29,786 : INFO : PROGRESS: pass 4, at document #475/475\n",
      "2017-10-03 21:16:30,777 : INFO : topic #0 (0.333): 0.028*\"oil\" + 0.016*\"mln\" + 0.012*\"dlrs\" + 0.011*\"billion\" + 0.011*\"opec\" + 0.011*\"bpd\" + 0.011*\"price\" + 0.010*\"year\" + 0.009*\"pct\" + 0.009*\"bank\"\n",
      "2017-10-03 21:16:30,780 : INFO : topic #1 (0.333): 0.032*\"trade\" + 0.016*\"japan\" + 0.012*\"would\" + 0.009*\"japanese\" + 0.008*\"market\" + 0.008*\"official\" + 0.007*\"year\" + 0.007*\"country\" + 0.006*\"agreement\" + 0.006*\"state\"\n",
      "2017-10-03 21:16:30,784 : INFO : topic #2 (0.333): 0.017*\"oil\" + 0.015*\"mln\" + 0.013*\"bank\" + 0.013*\"market\" + 0.013*\"dlrs\" + 0.013*\"price\" + 0.011*\"stg\" + 0.008*\"crude\" + 0.008*\"dollar\" + 0.008*\"trade\"\n",
      "2017-10-03 21:16:30,788 : INFO : topic diff=0.136573, rho=0.408248\n",
      "2017-10-03 21:16:34,454 : INFO : -6.893 per-word bound, 118.9 perplexity estimate based on a held-out corpus of 475 documents with 50286 words\n",
      "2017-10-03 21:16:34,456 : INFO : PROGRESS: pass 5, at document #475/475\n",
      "2017-10-03 21:16:35,634 : INFO : topic #0 (0.333): 0.028*\"oil\" + 0.016*\"mln\" + 0.012*\"dlrs\" + 0.012*\"opec\" + 0.012*\"billion\" + 0.011*\"price\" + 0.011*\"bpd\" + 0.010*\"year\" + 0.009*\"pct\" + 0.008*\"bank\"\n",
      "2017-10-03 21:16:35,637 : INFO : topic #1 (0.333): 0.032*\"trade\" + 0.016*\"japan\" + 0.012*\"would\" + 0.009*\"japanese\" + 0.008*\"market\" + 0.008*\"official\" + 0.008*\"country\" + 0.007*\"year\" + 0.006*\"agreement\" + 0.006*\"state\"\n",
      "2017-10-03 21:16:35,641 : INFO : topic #2 (0.333): 0.016*\"oil\" + 0.015*\"mln\" + 0.014*\"bank\" + 0.014*\"market\" + 0.013*\"dlrs\" + 0.012*\"price\" + 0.012*\"stg\" + 0.009*\"dollar\" + 0.009*\"crude\" + 0.007*\"today\"\n",
      "2017-10-03 21:16:35,645 : INFO : topic diff=0.110138, rho=0.377964\n",
      "2017-10-03 21:16:39,415 : INFO : -6.883 per-word bound, 118.0 perplexity estimate based on a held-out corpus of 475 documents with 50286 words\n",
      "2017-10-03 21:16:39,416 : INFO : PROGRESS: pass 6, at document #475/475\n",
      "2017-10-03 21:16:40,513 : INFO : topic #0 (0.333): 0.029*\"oil\" + 0.017*\"mln\" + 0.012*\"dlrs\" + 0.012*\"opec\" + 0.012*\"billion\" + 0.012*\"price\" + 0.011*\"bpd\" + 0.010*\"year\" + 0.010*\"pct\" + 0.008*\"last\"\n",
      "2017-10-03 21:16:40,516 : INFO : topic #1 (0.333): 0.033*\"trade\" + 0.016*\"japan\" + 0.012*\"would\" + 0.009*\"japanese\" + 0.008*\"market\" + 0.008*\"official\" + 0.008*\"country\" + 0.008*\"year\" + 0.006*\"agreement\" + 0.006*\"state\"\n",
      "2017-10-03 21:16:40,521 : INFO : topic #2 (0.333): 0.016*\"oil\" + 0.015*\"mln\" + 0.015*\"bank\" + 0.014*\"market\" + 0.013*\"dlrs\" + 0.013*\"stg\" + 0.012*\"price\" + 0.010*\"dollar\" + 0.009*\"crude\" + 0.008*\"today\"\n",
      "2017-10-03 21:16:40,527 : INFO : topic diff=0.089991, rho=0.353553\n",
      "2017-10-03 21:16:44,506 : INFO : -6.876 per-word bound, 117.4 perplexity estimate based on a held-out corpus of 475 documents with 50286 words\n",
      "2017-10-03 21:16:44,508 : INFO : PROGRESS: pass 7, at document #475/475\n",
      "2017-10-03 21:16:45,634 : INFO : topic #0 (0.333): 0.030*\"oil\" + 0.017*\"mln\" + 0.013*\"dlrs\" + 0.013*\"opec\" + 0.012*\"price\" + 0.012*\"billion\" + 0.011*\"bpd\" + 0.010*\"pct\" + 0.010*\"year\" + 0.008*\"last\"\n",
      "2017-10-03 21:16:45,636 : INFO : topic #1 (0.333): 0.033*\"trade\" + 0.016*\"japan\" + 0.012*\"would\" + 0.009*\"japanese\" + 0.008*\"market\" + 0.008*\"official\" + 0.008*\"country\" + 0.008*\"year\" + 0.007*\"agreement\" + 0.006*\"state\"\n",
      "2017-10-03 21:16:45,640 : INFO : topic #2 (0.333): 0.016*\"bank\" + 0.016*\"oil\" + 0.016*\"mln\" + 0.015*\"market\" + 0.013*\"stg\" + 0.013*\"dlrs\" + 0.012*\"price\" + 0.011*\"dollar\" + 0.009*\"crude\" + 0.008*\"today\"\n",
      "2017-10-03 21:16:45,642 : INFO : topic diff=0.074952, rho=0.333333\n",
      "2017-10-03 21:16:49,557 : INFO : -6.870 per-word bound, 117.0 perplexity estimate based on a held-out corpus of 475 documents with 50286 words\n",
      "2017-10-03 21:16:49,559 : INFO : PROGRESS: pass 8, at document #475/475\n",
      "2017-10-03 21:16:50,678 : INFO : topic #0 (0.333): 0.030*\"oil\" + 0.017*\"mln\" + 0.013*\"dlrs\" + 0.013*\"opec\" + 0.013*\"price\" + 0.012*\"billion\" + 0.011*\"bpd\" + 0.010*\"pct\" + 0.010*\"year\" + 0.008*\"last\"\n",
      "2017-10-03 21:16:50,681 : INFO : topic #1 (0.333): 0.033*\"trade\" + 0.016*\"japan\" + 0.012*\"would\" + 0.009*\"japanese\" + 0.008*\"market\" + 0.008*\"country\" + 0.008*\"official\" + 0.008*\"year\" + 0.007*\"agreement\" + 0.006*\"state\"\n"
     ]
    },
    {
     "name": "stderr",
     "output_type": "stream",
     "text": [
      "2017-10-03 21:16:50,684 : INFO : topic #2 (0.333): 0.017*\"bank\" + 0.016*\"oil\" + 0.016*\"mln\" + 0.015*\"market\" + 0.013*\"stg\" + 0.012*\"dlrs\" + 0.012*\"dollar\" + 0.011*\"price\" + 0.009*\"crude\" + 0.008*\"today\"\n",
      "2017-10-03 21:16:50,688 : INFO : topic diff=0.063487, rho=0.316228\n",
      "2017-10-03 21:16:54,438 : INFO : -6.866 per-word bound, 116.6 perplexity estimate based on a held-out corpus of 475 documents with 50286 words\n",
      "2017-10-03 21:16:54,440 : INFO : PROGRESS: pass 9, at document #475/475\n",
      "2017-10-03 21:16:55,252 : INFO : topic #0 (0.333): 0.030*\"oil\" + 0.017*\"mln\" + 0.013*\"opec\" + 0.013*\"dlrs\" + 0.013*\"price\" + 0.012*\"billion\" + 0.012*\"bpd\" + 0.010*\"pct\" + 0.010*\"year\" + 0.008*\"last\"\n",
      "2017-10-03 21:16:55,255 : INFO : topic #1 (0.333): 0.033*\"trade\" + 0.016*\"japan\" + 0.012*\"would\" + 0.009*\"japanese\" + 0.008*\"country\" + 0.008*\"market\" + 0.008*\"official\" + 0.008*\"year\" + 0.007*\"agreement\" + 0.006*\"state\"\n",
      "2017-10-03 21:16:55,260 : INFO : topic #2 (0.333): 0.018*\"bank\" + 0.016*\"mln\" + 0.016*\"oil\" + 0.015*\"market\" + 0.014*\"stg\" + 0.012*\"dollar\" + 0.012*\"dlrs\" + 0.011*\"price\" + 0.009*\"crude\" + 0.008*\"today\"\n",
      "2017-10-03 21:16:55,265 : INFO : topic diff=0.054350, rho=0.301511\n",
      "2017-10-03 21:16:58,827 : INFO : -6.862 per-word bound, 116.3 perplexity estimate based on a held-out corpus of 475 documents with 50286 words\n",
      "2017-10-03 21:16:58,829 : INFO : PROGRESS: pass 10, at document #475/475\n",
      "2017-10-03 21:16:59,841 : INFO : topic #0 (0.333): 0.031*\"oil\" + 0.017*\"mln\" + 0.014*\"opec\" + 0.013*\"dlrs\" + 0.013*\"price\" + 0.012*\"billion\" + 0.012*\"bpd\" + 0.010*\"pct\" + 0.010*\"year\" + 0.008*\"last\"\n",
      "2017-10-03 21:16:59,844 : INFO : topic #1 (0.333): 0.033*\"trade\" + 0.016*\"japan\" + 0.012*\"would\" + 0.009*\"japanese\" + 0.008*\"country\" + 0.008*\"market\" + 0.008*\"official\" + 0.008*\"year\" + 0.007*\"agreement\" + 0.006*\"state\"\n",
      "2017-10-03 21:16:59,848 : INFO : topic #2 (0.333): 0.019*\"bank\" + 0.016*\"mln\" + 0.016*\"market\" + 0.015*\"oil\" + 0.014*\"stg\" + 0.013*\"dollar\" + 0.012*\"dlrs\" + 0.011*\"price\" + 0.009*\"crude\" + 0.009*\"today\"\n",
      "2017-10-03 21:16:59,853 : INFO : topic diff=0.047110, rho=0.288675\n",
      "2017-10-03 21:17:03,851 : INFO : -6.859 per-word bound, 116.1 perplexity estimate based on a held-out corpus of 475 documents with 50286 words\n",
      "2017-10-03 21:17:03,853 : INFO : PROGRESS: pass 11, at document #475/475\n",
      "2017-10-03 21:17:04,882 : INFO : topic #0 (0.333): 0.031*\"oil\" + 0.018*\"mln\" + 0.014*\"opec\" + 0.014*\"dlrs\" + 0.013*\"price\" + 0.012*\"billion\" + 0.012*\"bpd\" + 0.010*\"pct\" + 0.010*\"year\" + 0.008*\"last\"\n",
      "2017-10-03 21:17:04,884 : INFO : topic #1 (0.333): 0.033*\"trade\" + 0.016*\"japan\" + 0.012*\"would\" + 0.009*\"japanese\" + 0.008*\"country\" + 0.008*\"market\" + 0.008*\"official\" + 0.008*\"year\" + 0.007*\"agreement\" + 0.006*\"state\"\n",
      "2017-10-03 21:17:04,886 : INFO : topic #2 (0.333): 0.020*\"bank\" + 0.016*\"mln\" + 0.016*\"market\" + 0.015*\"oil\" + 0.014*\"stg\" + 0.014*\"dollar\" + 0.012*\"dlrs\" + 0.011*\"price\" + 0.009*\"today\" + 0.009*\"crude\"\n",
      "2017-10-03 21:17:04,889 : INFO : topic diff=0.041539, rho=0.277350\n",
      "2017-10-03 21:17:08,322 : INFO : -6.856 per-word bound, 115.9 perplexity estimate based on a held-out corpus of 475 documents with 50286 words\n",
      "2017-10-03 21:17:08,325 : INFO : PROGRESS: pass 12, at document #475/475\n",
      "2017-10-03 21:17:09,316 : INFO : topic #0 (0.333): 0.032*\"oil\" + 0.018*\"mln\" + 0.014*\"opec\" + 0.014*\"price\" + 0.014*\"dlrs\" + 0.012*\"billion\" + 0.012*\"bpd\" + 0.010*\"pct\" + 0.010*\"year\" + 0.008*\"barrel\"\n",
      "2017-10-03 21:17:09,319 : INFO : topic #1 (0.333): 0.033*\"trade\" + 0.016*\"japan\" + 0.012*\"would\" + 0.009*\"japanese\" + 0.008*\"country\" + 0.008*\"market\" + 0.008*\"year\" + 0.008*\"official\" + 0.007*\"agreement\" + 0.006*\"state\"\n",
      "2017-10-03 21:17:09,324 : INFO : topic #2 (0.333): 0.020*\"bank\" + 0.016*\"mln\" + 0.016*\"market\" + 0.015*\"oil\" + 0.014*\"stg\" + 0.014*\"dollar\" + 0.012*\"dlrs\" + 0.010*\"price\" + 0.009*\"today\" + 0.009*\"crude\"\n",
      "2017-10-03 21:17:09,327 : INFO : topic diff=0.037094, rho=0.267261\n",
      "2017-10-03 21:17:12,862 : INFO : -6.854 per-word bound, 115.7 perplexity estimate based on a held-out corpus of 475 documents with 50286 words\n",
      "2017-10-03 21:17:12,865 : INFO : PROGRESS: pass 13, at document #475/475\n",
      "2017-10-03 21:17:13,903 : INFO : topic #0 (0.333): 0.032*\"oil\" + 0.018*\"mln\" + 0.014*\"opec\" + 0.014*\"price\" + 0.014*\"dlrs\" + 0.012*\"billion\" + 0.012*\"bpd\" + 0.010*\"pct\" + 0.010*\"year\" + 0.008*\"barrel\"\n",
      "2017-10-03 21:17:13,905 : INFO : topic #1 (0.333): 0.033*\"trade\" + 0.016*\"japan\" + 0.012*\"would\" + 0.009*\"japanese\" + 0.008*\"country\" + 0.008*\"market\" + 0.008*\"year\" + 0.008*\"official\" + 0.007*\"agreement\" + 0.006*\"state\"\n",
      "2017-10-03 21:17:13,907 : INFO : topic #2 (0.333): 0.021*\"bank\" + 0.017*\"market\" + 0.017*\"mln\" + 0.015*\"dollar\" + 0.014*\"oil\" + 0.014*\"stg\" + 0.012*\"dlrs\" + 0.010*\"price\" + 0.009*\"today\" + 0.009*\"money\"\n",
      "2017-10-03 21:17:13,909 : INFO : topic diff=0.033353, rho=0.258199\n",
      "2017-10-03 21:17:16,996 : INFO : -6.852 per-word bound, 115.5 perplexity estimate based on a held-out corpus of 475 documents with 50286 words\n",
      "2017-10-03 21:17:16,997 : INFO : PROGRESS: pass 14, at document #475/475\n",
      "2017-10-03 21:17:17,639 : INFO : topic #0 (0.333): 0.032*\"oil\" + 0.018*\"mln\" + 0.014*\"opec\" + 0.014*\"price\" + 0.014*\"dlrs\" + 0.012*\"billion\" + 0.012*\"bpd\" + 0.010*\"pct\" + 0.010*\"year\" + 0.008*\"barrel\"\n",
      "2017-10-03 21:17:17,640 : INFO : topic #1 (0.333): 0.033*\"trade\" + 0.016*\"japan\" + 0.012*\"would\" + 0.009*\"japanese\" + 0.008*\"country\" + 0.008*\"market\" + 0.008*\"year\" + 0.008*\"official\" + 0.007*\"agreement\" + 0.006*\"state\"\n",
      "2017-10-03 21:17:17,642 : INFO : topic #2 (0.333): 0.022*\"bank\" + 0.017*\"market\" + 0.017*\"mln\" + 0.015*\"dollar\" + 0.014*\"stg\" + 0.014*\"oil\" + 0.012*\"dlrs\" + 0.010*\"price\" + 0.009*\"today\" + 0.009*\"money\"\n",
      "2017-10-03 21:17:17,645 : INFO : topic diff=0.030208, rho=0.250000\n",
      "2017-10-03 21:17:19,916 : INFO : -6.850 per-word bound, 115.4 perplexity estimate based on a held-out corpus of 475 documents with 50286 words\n",
      "2017-10-03 21:17:19,918 : INFO : PROGRESS: pass 15, at document #475/475\n",
      "2017-10-03 21:17:20,548 : INFO : topic #0 (0.333): 0.033*\"oil\" + 0.018*\"mln\" + 0.014*\"opec\" + 0.014*\"price\" + 0.014*\"dlrs\" + 0.012*\"billion\" + 0.012*\"bpd\" + 0.010*\"pct\" + 0.010*\"year\" + 0.009*\"barrel\"\n",
      "2017-10-03 21:17:20,549 : INFO : topic #1 (0.333): 0.033*\"trade\" + 0.016*\"japan\" + 0.012*\"would\" + 0.009*\"japanese\" + 0.008*\"country\" + 0.008*\"market\" + 0.008*\"year\" + 0.008*\"official\" + 0.007*\"agreement\" + 0.006*\"state\"\n",
      "2017-10-03 21:17:20,552 : INFO : topic #2 (0.333): 0.023*\"bank\" + 0.017*\"market\" + 0.017*\"mln\" + 0.015*\"dollar\" + 0.014*\"stg\" + 0.014*\"oil\" + 0.012*\"dlrs\" + 0.009*\"price\" + 0.009*\"today\" + 0.009*\"money\"\n",
      "2017-10-03 21:17:20,554 : INFO : topic diff=0.027563, rho=0.242536\n",
      "2017-10-03 21:17:22,762 : INFO : -6.848 per-word bound, 115.2 perplexity estimate based on a held-out corpus of 475 documents with 50286 words\n",
      "2017-10-03 21:17:22,764 : INFO : PROGRESS: pass 16, at document #475/475\n",
      "2017-10-03 21:17:23,339 : INFO : topic #0 (0.333): 0.033*\"oil\" + 0.018*\"mln\" + 0.015*\"price\" + 0.015*\"opec\" + 0.014*\"dlrs\" + 0.012*\"bpd\" + 0.012*\"billion\" + 0.010*\"pct\" + 0.010*\"year\" + 0.009*\"barrel\"\n",
      "2017-10-03 21:17:23,341 : INFO : topic #1 (0.333): 0.033*\"trade\" + 0.016*\"japan\" + 0.012*\"would\" + 0.009*\"japanese\" + 0.008*\"country\" + 0.008*\"year\" + 0.008*\"market\" + 0.008*\"official\" + 0.007*\"agreement\" + 0.006*\"state\"\n",
      "2017-10-03 21:17:23,344 : INFO : topic #2 (0.333): 0.023*\"bank\" + 0.017*\"market\" + 0.017*\"mln\" + 0.016*\"dollar\" + 0.015*\"stg\" + 0.013*\"oil\" + 0.012*\"dlrs\" + 0.010*\"today\" + 0.009*\"price\" + 0.009*\"money\"\n",
      "2017-10-03 21:17:23,347 : INFO : topic diff=0.025394, rho=0.235702\n",
      "2017-10-03 21:17:26,304 : INFO : -6.847 per-word bound, 115.1 perplexity estimate based on a held-out corpus of 475 documents with 50286 words\n",
      "2017-10-03 21:17:26,306 : INFO : PROGRESS: pass 17, at document #475/475\n",
      "2017-10-03 21:17:26,876 : INFO : topic #0 (0.333): 0.033*\"oil\" + 0.018*\"mln\" + 0.015*\"price\" + 0.015*\"opec\" + 0.014*\"dlrs\" + 0.012*\"bpd\" + 0.012*\"billion\" + 0.010*\"pct\" + 0.010*\"year\" + 0.009*\"barrel\"\n",
      "2017-10-03 21:17:26,878 : INFO : topic #1 (0.333): 0.033*\"trade\" + 0.016*\"japan\" + 0.012*\"would\" + 0.009*\"japanese\" + 0.008*\"country\" + 0.008*\"year\" + 0.008*\"market\" + 0.008*\"official\" + 0.007*\"agreement\" + 0.006*\"state\"\n",
      "2017-10-03 21:17:26,883 : INFO : topic #2 (0.333): 0.024*\"bank\" + 0.017*\"market\" + 0.017*\"mln\" + 0.016*\"dollar\" + 0.015*\"stg\" + 0.013*\"oil\" + 0.011*\"dlrs\" + 0.010*\"today\" + 0.009*\"money\" + 0.009*\"price\"\n"
     ]
    },
    {
     "name": "stderr",
     "output_type": "stream",
     "text": [
      "2017-10-03 21:17:26,885 : INFO : topic diff=0.023519, rho=0.229416\n",
      "2017-10-03 21:17:29,186 : INFO : -6.845 per-word bound, 115.0 perplexity estimate based on a held-out corpus of 475 documents with 50286 words\n",
      "2017-10-03 21:17:29,187 : INFO : PROGRESS: pass 18, at document #475/475\n",
      "2017-10-03 21:17:29,770 : INFO : topic #0 (0.333): 0.033*\"oil\" + 0.018*\"mln\" + 0.015*\"price\" + 0.015*\"opec\" + 0.014*\"dlrs\" + 0.012*\"bpd\" + 0.012*\"billion\" + 0.010*\"pct\" + 0.010*\"year\" + 0.009*\"barrel\"\n",
      "2017-10-03 21:17:29,771 : INFO : topic #1 (0.333): 0.033*\"trade\" + 0.016*\"japan\" + 0.012*\"would\" + 0.009*\"japanese\" + 0.008*\"country\" + 0.008*\"year\" + 0.008*\"market\" + 0.008*\"official\" + 0.007*\"agreement\" + 0.006*\"state\"\n",
      "2017-10-03 21:17:29,774 : INFO : topic #2 (0.333): 0.024*\"bank\" + 0.018*\"market\" + 0.017*\"mln\" + 0.016*\"dollar\" + 0.015*\"stg\" + 0.013*\"oil\" + 0.011*\"dlrs\" + 0.010*\"today\" + 0.009*\"money\" + 0.009*\"price\"\n",
      "2017-10-03 21:17:29,776 : INFO : topic diff=0.021925, rho=0.223607\n",
      "2017-10-03 21:17:32,033 : INFO : -6.844 per-word bound, 114.9 perplexity estimate based on a held-out corpus of 475 documents with 50286 words\n",
      "2017-10-03 21:17:32,034 : INFO : PROGRESS: pass 19, at document #475/475\n",
      "2017-10-03 21:17:32,693 : INFO : topic #0 (0.333): 0.034*\"oil\" + 0.018*\"mln\" + 0.015*\"price\" + 0.015*\"opec\" + 0.014*\"dlrs\" + 0.012*\"bpd\" + 0.012*\"billion\" + 0.010*\"pct\" + 0.010*\"year\" + 0.009*\"barrel\"\n",
      "2017-10-03 21:17:32,694 : INFO : topic #1 (0.333): 0.033*\"trade\" + 0.016*\"japan\" + 0.012*\"would\" + 0.009*\"japanese\" + 0.008*\"country\" + 0.008*\"year\" + 0.008*\"market\" + 0.008*\"official\" + 0.007*\"agreement\" + 0.006*\"state\"\n",
      "2017-10-03 21:17:32,696 : INFO : topic #2 (0.333): 0.025*\"bank\" + 0.018*\"market\" + 0.017*\"mln\" + 0.017*\"dollar\" + 0.015*\"stg\" + 0.012*\"oil\" + 0.011*\"dlrs\" + 0.010*\"today\" + 0.010*\"money\" + 0.009*\"currency\"\n",
      "2017-10-03 21:17:32,698 : INFO : topic diff=0.020525, rho=0.218218\n"
     ]
    },
    {
     "name": "stdout",
     "output_type": "stream",
     "text": [
      "Wall time: 1min 29s\n"
     ]
    }
   ],
   "source": [
    "# Build an LDA model for 3 topics out of the DTM\n",
    "%time lda = gensim.models.ldamodel.LdaModel(dtm_train, num_topics = 3, id2word = dictionary, passes = 20)\n"
   ]
  },
  {
   "cell_type": "code",
   "execution_count": 14,
   "metadata": {},
   "outputs": [
    {
     "data": {
      "text/plain": [
       "[(0,\n",
       "  '0.034*\"oil\" + 0.018*\"mln\" + 0.015*\"price\" + 0.015*\"opec\" + 0.014*\"dlrs\" + 0.012*\"bpd\" + 0.012*\"billion\" + 0.010*\"pct\" + 0.010*\"year\" + 0.009*\"barrel\"'),\n",
       " (1,\n",
       "  '0.033*\"trade\" + 0.016*\"japan\" + 0.012*\"would\" + 0.009*\"japanese\" + 0.008*\"country\" + 0.008*\"year\" + 0.008*\"market\" + 0.008*\"official\" + 0.007*\"agreement\" + 0.006*\"state\"'),\n",
       " (2,\n",
       "  '0.025*\"bank\" + 0.018*\"market\" + 0.017*\"mln\" + 0.017*\"dollar\" + 0.015*\"stg\" + 0.012*\"oil\" + 0.011*\"dlrs\" + 0.010*\"today\" + 0.010*\"money\" + 0.009*\"currency\"')]"
      ]
     },
     "execution_count": 14,
     "metadata": {},
     "output_type": "execute_result"
    }
   ],
   "source": [
    "# To see the topics, with the most probable words in each topic. What topics to you see? \n",
    "lda.show_topics()"
   ]
  },
  {
   "cell_type": "code",
   "execution_count": null,
   "metadata": {
    "collapsed": true
   },
   "outputs": [],
   "source": []
  },
  {
   "cell_type": "code",
   "execution_count": 15,
   "metadata": {},
   "outputs": [
    {
     "data": {
      "text/plain": [
       "[(0,\n",
       "  '0.034*\"oil\" + 0.018*\"mln\" + 0.015*\"price\" + 0.015*\"opec\" + 0.014*\"dlrs\" + 0.012*\"bpd\" + 0.012*\"billion\" + 0.010*\"pct\" + 0.010*\"year\" + 0.009*\"barrel\" + 0.009*\"crude\" + 0.008*\"last\" + 0.008*\"would\" + 0.006*\"export\" + 0.006*\"ecuador\" + 0.006*\"production\" + 0.006*\"saudi\" + 0.006*\"february\" + 0.006*\"output\" + 0.005*\"day\"'),\n",
       " (1,\n",
       "  '0.033*\"trade\" + 0.016*\"japan\" + 0.012*\"would\" + 0.009*\"japanese\" + 0.008*\"country\" + 0.008*\"year\" + 0.008*\"market\" + 0.008*\"official\" + 0.007*\"agreement\" + 0.006*\"state\" + 0.006*\"foreign\" + 0.006*\"import\" + 0.005*\"last\" + 0.005*\"minister\" + 0.005*\"world\" + 0.005*\"united\" + 0.005*\"export\" + 0.005*\"gatt\" + 0.005*\"economic\" + 0.005*\"tariff\"'),\n",
       " (2,\n",
       "  '0.025*\"bank\" + 0.018*\"market\" + 0.017*\"mln\" + 0.017*\"dollar\" + 0.015*\"stg\" + 0.012*\"oil\" + 0.011*\"dlrs\" + 0.010*\"today\" + 0.010*\"money\" + 0.009*\"currency\" + 0.009*\"rate\" + 0.009*\"price\" + 0.008*\"crude\" + 0.008*\"exchange\" + 0.007*\"canada\" + 0.007*\"pct\" + 0.007*\"yen\" + 0.007*\"around\" + 0.006*\"central\" + 0.006*\"paris\"')]"
      ]
     },
     "execution_count": 15,
     "metadata": {},
     "output_type": "execute_result"
    }
   ],
   "source": [
    "# You can also request to see more words per topic\n",
    "lda.show_topics(num_words=20)"
   ]
  },
  {
   "cell_type": "code",
   "execution_count": 16,
   "metadata": {},
   "outputs": [
    {
     "data": {
      "text/plain": [
       "[([(0.033248659356522464, 'trade'),\n",
       "   (0.015861212710266071, 'japan'),\n",
       "   (0.012301104840762366, 'would'),\n",
       "   (0.0088471521864590986, 'japanese'),\n",
       "   (0.0083297970173540556, 'country'),\n",
       "   (0.0079208636502411268, 'year'),\n",
       "   (0.0077763195740064026, 'market'),\n",
       "   (0.007684073694710295, 'official'),\n",
       "   (0.0066064385340074642, 'agreement'),\n",
       "   (0.0062598500869903108, 'state'),\n",
       "   (0.0057483198812265544, 'foreign'),\n",
       "   (0.0055023687278431058, 'import'),\n",
       "   (0.0053915523730109225, 'last'),\n",
       "   (0.0051648919906105073, 'minister'),\n",
       "   (0.0051149630467510407, 'world'),\n",
       "   (0.0050929184390505686, 'united'),\n",
       "   (0.0049989542470142753, 'export'),\n",
       "   (0.0048016461879245992, 'gatt'),\n",
       "   (0.0045341884751624977, 'economic'),\n",
       "   (0.0045180893731752887, 'tariff')],\n",
       "  -1.1128509952861618),\n",
       " ([(0.033510021512893916, 'oil'),\n",
       "   (0.018118762065835653, 'mln'),\n",
       "   (0.01510540212215775, 'price'),\n",
       "   (0.014811866280453024, 'opec'),\n",
       "   (0.014310576371810305, 'dlrs'),\n",
       "   (0.012195776831997797, 'bpd'),\n",
       "   (0.011934290937826688, 'billion'),\n",
       "   (0.01026303082524129, 'pct'),\n",
       "   (0.009780744678462126, 'year'),\n",
       "   (0.0088945186692302412, 'barrel'),\n",
       "   (0.0087318244371760566, 'crude'),\n",
       "   (0.0082030637439821901, 'last'),\n",
       "   (0.0079345654782923374, 'would'),\n",
       "   (0.0063027756957157507, 'export'),\n",
       "   (0.0061466777179281324, 'ecuador'),\n",
       "   (0.0060242199598886633, 'production'),\n",
       "   (0.0058519963858282972, 'saudi'),\n",
       "   (0.0057347814436441436, 'february'),\n",
       "   (0.0056166086895322329, 'output'),\n",
       "   (0.0054678815474522909, 'day')],\n",
       "  -1.2570866713787909),\n",
       " ([(0.02503284436721042, 'bank'),\n",
       "   (0.017632557341336976, 'market'),\n",
       "   (0.016876243147091671, 'mln'),\n",
       "   (0.016580396239872022, 'dollar'),\n",
       "   (0.014759409019733971, 'stg'),\n",
       "   (0.012484349800275706, 'oil'),\n",
       "   (0.011286044884641629, 'dlrs'),\n",
       "   (0.0097184726996535891, 'today'),\n",
       "   (0.0095008496256265718, 'money'),\n",
       "   (0.0090421937054832834, 'currency'),\n",
       "   (0.0088201689347642016, 'rate'),\n",
       "   (0.0086141866540316008, 'price'),\n",
       "   (0.0084356778454632454, 'crude'),\n",
       "   (0.0083515886109024537, 'exchange'),\n",
       "   (0.0073407922283158242, 'canada'),\n",
       "   (0.0071619029684623263, 'pct'),\n",
       "   (0.0070556631097997841, 'yen'),\n",
       "   (0.0065095816614575653, 'around'),\n",
       "   (0.0064321670056504826, 'central'),\n",
       "   (0.0060685088087143596, 'paris')],\n",
       "  -2.7728773927300883)]"
      ]
     },
     "execution_count": 16,
     "metadata": {},
     "output_type": "execute_result"
    }
   ],
   "source": [
    "# A similar function showing each topic with its most probable words and its topic coherence score\n",
    "lda.top_topics(dtm_train)"
   ]
  },
  {
   "cell_type": "code",
   "execution_count": 17,
   "metadata": {},
   "outputs": [
    {
     "data": {
      "text/plain": [
       "-1.7142716864650136"
      ]
     },
     "execution_count": 17,
     "metadata": {},
     "output_type": "execute_result"
    }
   ],
   "source": [
    "# We can therefore derive the average topic coherence, as a way to evaluate the topic models\n",
    "import numpy as np\n",
    "lda_coherence = [ n for _, n in lda.top_topics(dtm_train) ]\n",
    "np.mean(lda_coherence)"
   ]
  },
  {
   "cell_type": "code",
   "execution_count": 18,
   "metadata": {},
   "outputs": [
    {
     "data": {
      "text/plain": [
       "-344107.22313101846"
      ]
     },
     "execution_count": 18,
     "metadata": {},
     "output_type": "execute_result"
    }
   ],
   "source": [
    "# Another metric for gauging goodness of models, perplexity, is accessed using bound() function\n",
    "lda.bound(dtm_train)"
   ]
  },
  {
   "cell_type": "code",
   "execution_count": 19,
   "metadata": {
    "collapsed": true
   },
   "outputs": [],
   "source": [
    "# Get the topic distribution of documents\n",
    "dtopics_train = lda.get_document_topics(dtm_train)"
   ]
  },
  {
   "cell_type": "code",
   "execution_count": 20,
   "metadata": {},
   "outputs": [
    {
     "name": "stdout",
     "output_type": "stream",
     "text": [
      "[(1, 0.99375180020339848)]\n",
      "[(0, 0.45938784658817433), (2, 0.53086222942136096)]\n",
      "[(0, 0.43491041341446957), (1, 0.55912285878508083)]\n",
      "[(0, 0.044535510354251087), (1, 0.88899277576490243), (2, 0.066471713880846467)]\n",
      "[(0, 0.98983114486066948)]\n"
     ]
    }
   ],
   "source": [
    "# Get the topic likelihood for the first document in train set\n",
    "for i in range(0, 5):\n",
    "    print(dtopics_train[i])"
   ]
  },
  {
   "cell_type": "code",
   "execution_count": 22,
   "metadata": {},
   "outputs": [
    {
     "name": "stdout",
     "output_type": "stream",
     "text": [
      "1807       trade\n",
      "3295    money-fx\n",
      "5162       trade\n",
      "2151       trade\n",
      "4418       crude\n",
      "3531       trade\n",
      "2539       crude\n",
      "2257       trade\n",
      "3548       trade\n",
      "319        trade\n",
      "2581       trade\n",
      "5386    money-fx\n",
      "3915       crude\n",
      "4632       trade\n",
      "4826    money-fx\n",
      "4718       trade\n",
      "78         crude\n",
      "1829       trade\n",
      "2429       crude\n",
      "710        crude\n",
      "114        crude\n",
      "757        crude\n",
      "2356       trade\n",
      "1797       crude\n",
      "4234    money-fx\n",
      "2650    money-fx\n",
      "1560       crude\n",
      "4339    money-fx\n",
      "4238    money-fx\n",
      "4730       trade\n",
      "          ...   \n",
      "3053       trade\n",
      "3621    money-fx\n",
      "1196       crude\n",
      "5279       crude\n",
      "3512       crude\n",
      "3514       trade\n",
      "975        trade\n",
      "2330    money-fx\n",
      "847        trade\n",
      "715        crude\n",
      "2100    money-fx\n",
      "1768       crude\n",
      "1028       crude\n",
      "3288       trade\n",
      "3318       crude\n",
      "696        crude\n",
      "4756       crude\n",
      "3742    money-fx\n",
      "3513    money-fx\n",
      "3819       trade\n",
      "5148       trade\n",
      "476        crude\n",
      "2188       trade\n",
      "3545       crude\n",
      "2039       trade\n",
      "4890    money-fx\n",
      "1949       trade\n",
      "2021    money-fx\n",
      "3332       trade\n",
      "5255       trade\n",
      "Name: Class, Length: 475, dtype: object\n"
     ]
    }
   ],
   "source": [
    "print(y_train)"
   ]
  },
  {
   "cell_type": "raw",
   "metadata": {
    "collapsed": true
   },
   "source": [
    "# Pick the topic with the highest probability for each document, map it to the label\n",
    "# NOTE: the mapping may change in a different run\n",
    "from operator import itemgetter\n",
    "top_train = [ max(t, key=itemgetter(1))[0] for t in dtopics_train ]\n",
    "dict = {1: 'crude', 0: 'money-fx', 2: 'trade'}\n",
    "topic_train = [ dict[t] for t in top_train ]"
   ]
  },
  {
   "cell_type": "code",
   "execution_count": 24,
   "metadata": {
    "collapsed": true
   },
   "outputs": [],
   "source": [
    "# Pick the topic with the highest probability for each document, map it to the label\n",
    "# NOTE: the mapping may change in a different run\n",
    "from operator import itemgetter\n",
    "top_train = [ max(t, key=itemgetter(1))[0] for t in dtopics_train ]\n",
    "dict = {1: 'crude', 0: 'money-fx', 2: 'trade'}\n",
    "topic_train = [ dict[t] for t in top_train ]"
   ]
  },
  {
   "cell_type": "code",
   "execution_count": 25,
   "metadata": {},
   "outputs": [
    {
     "name": "stdout",
     "output_type": "stream",
     "text": [
      "[[  4  26 151]\n",
      " [120  28  22]\n",
      " [ 50  72   2]]\n",
      "0.0715789473684\n",
      "             precision    recall  f1-score   support\n",
      "\n",
      "      crude       0.02      0.02      0.02       181\n",
      "   money-fx       0.22      0.16      0.19       170\n",
      "      trade       0.01      0.02      0.01       124\n",
      "\n",
      "avg / total       0.09      0.07      0.08       475\n",
      "\n"
     ]
    }
   ],
   "source": [
    "# Now let's see how well these topics match the actual categories\n",
    "\n",
    "from sklearn import metrics\n",
    "print(metrics.confusion_matrix(topic_train, y_train))\n",
    "print(np.mean(topic_train == y_train) )\n",
    "print(metrics.classification_report(topic_train, y_train))"
   ]
  },
  {
   "cell_type": "code",
   "execution_count": 26,
   "metadata": {},
   "outputs": [
    {
     "name": "stdout",
     "output_type": "stream",
     "text": [
      "[[ 6 28 62]\n",
      " [57 16 14]\n",
      " [16 36  0]]\n",
      "0.0936170212766\n",
      "             precision    recall  f1-score   support\n",
      "\n",
      "      crude       0.08      0.06      0.07        96\n",
      "   money-fx       0.20      0.18      0.19        87\n",
      "      trade       0.00      0.00      0.00        52\n",
      "\n",
      "avg / total       0.11      0.09      0.10       235\n",
      "\n"
     ]
    }
   ],
   "source": [
    "# The typical practice is to use the reserved test set for evaluation\n",
    "toks_test = X_test.apply(pre_process)\n",
    "dtm_test = [dictionary.doc2bow(d) for d in toks_test ]\n",
    "dtopics_test = lda.get_document_topics(dtm_test)\n",
    "top_test = [ max(t,key=itemgetter(1))[0] for t in dtopics_test ]\n",
    "topic_test = [ dict[t] for t in top_test ]\n",
    "print(metrics.confusion_matrix(topic_test, y_test))\n",
    "print(np.mean(topic_test == y_test) )\n",
    "print(metrics.classification_report(topic_test, y_test))"
   ]
  },
  {
   "cell_type": "code",
   "execution_count": 27,
   "metadata": {},
   "outputs": [
    {
     "data": {
      "text/plain": [
       "-2.1187980706387388"
      ]
     },
     "execution_count": 27,
     "metadata": {},
     "output_type": "execute_result"
    }
   ],
   "source": [
    "# In actual use case, we wouldn't have class labels for comparison.\n",
    "# So mean topic coherence and model perplexity can be checked.\n",
    "test_coherence = [ n for _, n in lda.top_topics(dtm_test) ]\n",
    "np.mean(test_coherence)\n",
    "\n"
   ]
  },
  {
   "cell_type": "code",
   "execution_count": 28,
   "metadata": {},
   "outputs": [
    {
     "data": {
      "text/plain": [
       "-161594.44843775372"
      ]
     },
     "execution_count": 28,
     "metadata": {},
     "output_type": "execute_result"
    }
   ],
   "source": [
    "lda.bound(dtm_test)"
   ]
  },
  {
   "cell_type": "code",
   "execution_count": 29,
   "metadata": {},
   "outputs": [
    {
     "name": "stderr",
     "output_type": "stream",
     "text": [
      "2017-10-03 21:39:05,241 : INFO : using symmetric alpha at 0.25\n",
      "2017-10-03 21:39:05,245 : INFO : using symmetric eta at 0.0004108463434675431\n",
      "2017-10-03 21:39:05,248 : INFO : using serial LDA version on this node\n",
      "2017-10-03 21:39:05,313 : INFO : running online (multi-pass) LDA training, 4 topics, 20 passes over the supplied corpus of 475 documents, updating model once every 475 documents, evaluating perplexity every 475 documents, iterating 50x with a convergence threshold of 0.001000\n",
      "2017-10-03 21:39:10,459 : INFO : -8.412 per-word bound, 340.6 perplexity estimate based on a held-out corpus of 475 documents with 50286 words\n",
      "2017-10-03 21:39:10,462 : INFO : PROGRESS: pass 0, at document #475/475\n",
      "2017-10-03 21:39:12,100 : INFO : topic #0 (0.250): 0.017*\"mln\" + 0.012*\"would\" + 0.011*\"oil\" + 0.010*\"bank\" + 0.010*\"market\" + 0.009*\"opec\" + 0.008*\"year\" + 0.008*\"price\" + 0.008*\"pct\" + 0.007*\"dlrs\"\n",
      "2017-10-03 21:39:12,103 : INFO : topic #1 (0.250): 0.025*\"trade\" + 0.019*\"oil\" + 0.010*\"dlrs\" + 0.010*\"price\" + 0.009*\"japan\" + 0.008*\"market\" + 0.008*\"year\" + 0.007*\"country\" + 0.007*\"mln\" + 0.006*\"would\"\n",
      "2017-10-03 21:39:12,107 : INFO : topic #2 (0.250): 0.020*\"oil\" + 0.009*\"price\" + 0.009*\"mln\" + 0.008*\"would\" + 0.007*\"opec\" + 0.007*\"trade\" + 0.007*\"barrel\" + 0.007*\"crude\" + 0.007*\"last\" + 0.007*\"official\"\n",
      "2017-10-03 21:39:12,112 : INFO : topic #3 (0.250): 0.020*\"trade\" + 0.013*\"billion\" + 0.011*\"would\" + 0.011*\"japan\" + 0.010*\"market\" + 0.009*\"dlrs\" + 0.008*\"oil\" + 0.008*\"bank\" + 0.007*\"year\" + 0.007*\"japanese\"\n",
      "2017-10-03 21:39:12,116 : INFO : topic diff=1.122300, rho=1.000000\n",
      "2017-10-03 21:39:16,467 : INFO : -7.112 per-word bound, 138.3 perplexity estimate based on a held-out corpus of 475 documents with 50286 words\n",
      "2017-10-03 21:39:16,469 : INFO : PROGRESS: pass 1, at document #475/475\n",
      "2017-10-03 21:39:17,724 : INFO : topic #0 (0.250): 0.021*\"mln\" + 0.013*\"bank\" + 0.011*\"oil\" + 0.011*\"market\" + 0.011*\"would\" + 0.010*\"opec\" + 0.008*\"bpd\" + 0.008*\"year\" + 0.008*\"price\" + 0.008*\"pct\"\n",
      "2017-10-03 21:39:17,726 : INFO : topic #1 (0.250): 0.026*\"trade\" + 0.018*\"oil\" + 0.011*\"dlrs\" + 0.010*\"price\" + 0.009*\"japan\" + 0.009*\"year\" + 0.008*\"country\" + 0.008*\"market\" + 0.006*\"last\" + 0.006*\"would\"\n",
      "2017-10-03 21:39:17,728 : INFO : topic #2 (0.250): 0.027*\"oil\" + 0.012*\"price\" + 0.011*\"crude\" + 0.011*\"mln\" + 0.010*\"barrel\" + 0.010*\"ecuador\" + 0.009*\"would\" + 0.008*\"dlrs\" + 0.008*\"company\" + 0.008*\"opec\"\n",
      "2017-10-03 21:39:17,731 : INFO : topic #3 (0.250): 0.024*\"trade\" + 0.014*\"billion\" + 0.014*\"japan\" + 0.012*\"would\" + 0.010*\"market\" + 0.008*\"japanese\" + 0.008*\"year\" + 0.007*\"bank\" + 0.007*\"dlrs\" + 0.007*\"official\"\n",
      "2017-10-03 21:39:17,732 : INFO : topic diff=0.398148, rho=0.577350\n",
      "2017-10-03 21:39:21,456 : INFO : -7.005 per-word bound, 128.4 perplexity estimate based on a held-out corpus of 475 documents with 50286 words\n",
      "2017-10-03 21:39:21,458 : INFO : PROGRESS: pass 2, at document #475/475\n",
      "2017-10-03 21:39:22,633 : INFO : topic #0 (0.250): 0.022*\"mln\" + 0.015*\"bank\" + 0.012*\"market\" + 0.011*\"oil\" + 0.011*\"opec\" + 0.009*\"would\" + 0.009*\"bpd\" + 0.009*\"stg\" + 0.008*\"price\" + 0.008*\"saudi\"\n",
      "2017-10-03 21:39:22,634 : INFO : topic #1 (0.250): 0.026*\"trade\" + 0.016*\"oil\" + 0.010*\"dlrs\" + 0.009*\"price\" + 0.009*\"year\" + 0.009*\"japan\" + 0.009*\"country\" + 0.007*\"market\" + 0.007*\"last\" + 0.006*\"would\"\n",
      "2017-10-03 21:39:22,637 : INFO : topic #2 (0.250): 0.033*\"oil\" + 0.014*\"crude\" + 0.014*\"price\" + 0.012*\"barrel\" + 0.011*\"mln\" + 0.011*\"dlrs\" + 0.011*\"ecuador\" + 0.009*\"company\" + 0.009*\"would\" + 0.008*\"bpd\"\n",
      "2017-10-03 21:39:22,639 : INFO : topic #3 (0.250): 0.028*\"trade\" + 0.015*\"japan\" + 0.014*\"billion\" + 0.013*\"would\" + 0.010*\"market\" + 0.009*\"japanese\" + 0.008*\"year\" + 0.007*\"official\" + 0.007*\"foreign\" + 0.006*\"import\"\n",
      "2017-10-03 21:39:22,640 : INFO : topic diff=0.303630, rho=0.500000\n",
      "2017-10-03 21:39:26,879 : INFO : -6.948 per-word bound, 123.5 perplexity estimate based on a held-out corpus of 475 documents with 50286 words\n",
      "2017-10-03 21:39:26,882 : INFO : PROGRESS: pass 3, at document #475/475\n",
      "2017-10-03 21:39:28,043 : INFO : topic #0 (0.250): 0.023*\"mln\" + 0.016*\"bank\" + 0.013*\"market\" + 0.012*\"opec\" + 0.011*\"oil\" + 0.009*\"stg\" + 0.009*\"bpd\" + 0.009*\"saudi\" + 0.009*\"would\" + 0.009*\"price\"\n",
      "2017-10-03 21:39:28,046 : INFO : topic #1 (0.250): 0.026*\"trade\" + 0.015*\"oil\" + 0.010*\"dlrs\" + 0.009*\"year\" + 0.009*\"country\" + 0.009*\"price\" + 0.008*\"japan\" + 0.007*\"last\" + 0.007*\"market\" + 0.006*\"would\"\n",
      "2017-10-03 21:39:28,051 : INFO : topic #2 (0.250): 0.037*\"oil\" + 0.016*\"crude\" + 0.015*\"price\" + 0.014*\"barrel\" + 0.013*\"dlrs\" + 0.011*\"mln\" + 0.011*\"ecuador\" + 0.010*\"company\" + 0.009*\"bpd\" + 0.009*\"would\"\n",
      "2017-10-03 21:39:28,056 : INFO : topic #3 (0.250): 0.030*\"trade\" + 0.017*\"japan\" + 0.013*\"would\" + 0.013*\"billion\" + 0.010*\"japanese\" + 0.010*\"market\" + 0.008*\"year\" + 0.008*\"official\" + 0.007*\"foreign\" + 0.007*\"import\"\n",
      "2017-10-03 21:39:28,061 : INFO : topic diff=0.237153, rho=0.447214\n",
      "2017-10-03 21:39:32,037 : INFO : -6.915 per-word bound, 120.7 perplexity estimate based on a held-out corpus of 475 documents with 50286 words\n",
      "2017-10-03 21:39:32,039 : INFO : PROGRESS: pass 4, at document #475/475\n",
      "2017-10-03 21:39:33,065 : INFO : topic #0 (0.250): 0.024*\"mln\" + 0.017*\"bank\" + 0.014*\"market\" + 0.012*\"opec\" + 0.011*\"oil\" + 0.009*\"saudi\" + 0.009*\"stg\" + 0.009*\"price\" + 0.009*\"currency\" + 0.009*\"bpd\"\n",
      "2017-10-03 21:39:33,068 : INFO : topic #1 (0.250): 0.025*\"trade\" + 0.013*\"oil\" + 0.010*\"year\" + 0.009*\"country\" + 0.009*\"dlrs\" + 0.008*\"price\" + 0.008*\"japan\" + 0.007*\"last\" + 0.006*\"would\" + 0.006*\"market\"\n",
      "2017-10-03 21:39:33,073 : INFO : topic #2 (0.250): 0.040*\"oil\" + 0.017*\"crude\" + 0.016*\"price\" + 0.015*\"dlrs\" + 0.015*\"barrel\" + 0.012*\"mln\" + 0.011*\"ecuador\" + 0.010*\"company\" + 0.010*\"bpd\" + 0.009*\"would\"\n",
      "2017-10-03 21:39:33,078 : INFO : topic #3 (0.250): 0.032*\"trade\" + 0.017*\"japan\" + 0.014*\"would\" + 0.013*\"billion\" + 0.010*\"japanese\" + 0.009*\"market\" + 0.008*\"year\" + 0.008*\"official\" + 0.007*\"foreign\" + 0.007*\"import\"\n",
      "2017-10-03 21:39:33,082 : INFO : topic diff=0.188689, rho=0.408248\n",
      "2017-10-03 21:39:37,390 : INFO : -6.894 per-word bound, 118.9 perplexity estimate based on a held-out corpus of 475 documents with 50286 words\n",
      "2017-10-03 21:39:37,393 : INFO : PROGRESS: pass 5, at document #475/475\n",
      "2017-10-03 21:39:38,480 : INFO : topic #0 (0.250): 0.024*\"mln\" + 0.018*\"bank\" + 0.014*\"market\" + 0.013*\"opec\" + 0.010*\"oil\" + 0.010*\"saudi\" + 0.010*\"dollar\" + 0.010*\"currency\" + 0.009*\"stg\" + 0.009*\"price\"\n",
      "2017-10-03 21:39:38,484 : INFO : topic #1 (0.250): 0.025*\"trade\" + 0.012*\"oil\" + 0.010*\"year\" + 0.010*\"country\" + 0.008*\"dlrs\" + 0.008*\"price\" + 0.008*\"japan\" + 0.007*\"last\" + 0.007*\"world\" + 0.006*\"would\"\n",
      "2017-10-03 21:39:38,496 : INFO : topic #2 (0.250): 0.043*\"oil\" + 0.017*\"crude\" + 0.016*\"price\" + 0.016*\"dlrs\" + 0.015*\"barrel\" + 0.012*\"mln\" + 0.011*\"ecuador\" + 0.010*\"company\" + 0.010*\"bpd\" + 0.009*\"would\"\n",
      "2017-10-03 21:39:38,501 : INFO : topic #3 (0.250): 0.033*\"trade\" + 0.018*\"japan\" + 0.014*\"would\" + 0.012*\"billion\" + 0.011*\"japanese\" + 0.009*\"market\" + 0.008*\"year\" + 0.008*\"official\" + 0.008*\"import\" + 0.007*\"foreign\"\n",
      "2017-10-03 21:39:38,507 : INFO : topic diff=0.152566, rho=0.377964\n",
      "2017-10-03 21:39:42,473 : INFO : -6.879 per-word bound, 117.7 perplexity estimate based on a held-out corpus of 475 documents with 50286 words\n",
      "2017-10-03 21:39:42,474 : INFO : PROGRESS: pass 6, at document #475/475\n",
      "2017-10-03 21:39:43,590 : INFO : topic #0 (0.250): 0.024*\"mln\" + 0.019*\"bank\" + 0.015*\"market\" + 0.013*\"opec\" + 0.010*\"dollar\" + 0.010*\"saudi\" + 0.010*\"currency\" + 0.010*\"oil\" + 0.010*\"stg\" + 0.009*\"price\"\n",
      "2017-10-03 21:39:43,593 : INFO : topic #1 (0.250): 0.024*\"trade\" + 0.011*\"oil\" + 0.010*\"year\" + 0.010*\"country\" + 0.008*\"price\" + 0.007*\"dlrs\" + 0.007*\"japan\" + 0.007*\"world\" + 0.007*\"last\" + 0.006*\"would\"\n",
      "2017-10-03 21:39:43,599 : INFO : topic #2 (0.250): 0.045*\"oil\" + 0.018*\"crude\" + 0.017*\"dlrs\" + 0.017*\"price\" + 0.016*\"barrel\" + 0.012*\"mln\" + 0.011*\"ecuador\" + 0.010*\"company\" + 0.010*\"bpd\" + 0.009*\"would\"\n",
      "2017-10-03 21:39:43,606 : INFO : topic #3 (0.250): 0.034*\"trade\" + 0.019*\"japan\" + 0.014*\"would\" + 0.011*\"billion\" + 0.011*\"japanese\" + 0.009*\"market\" + 0.008*\"year\" + 0.008*\"official\" + 0.008*\"import\" + 0.008*\"foreign\"\n"
     ]
    },
    {
     "name": "stderr",
     "output_type": "stream",
     "text": [
      "2017-10-03 21:39:43,610 : INFO : topic diff=0.126428, rho=0.353553\n",
      "2017-10-03 21:39:47,632 : INFO : -6.868 per-word bound, 116.8 perplexity estimate based on a held-out corpus of 475 documents with 50286 words\n",
      "2017-10-03 21:39:47,634 : INFO : PROGRESS: pass 7, at document #475/475\n",
      "2017-10-03 21:39:48,599 : INFO : topic #0 (0.250): 0.024*\"mln\" + 0.019*\"bank\" + 0.015*\"market\" + 0.013*\"opec\" + 0.011*\"dollar\" + 0.010*\"currency\" + 0.010*\"saudi\" + 0.010*\"stg\" + 0.009*\"price\" + 0.009*\"oil\"\n",
      "2017-10-03 21:39:48,602 : INFO : topic #1 (0.250): 0.024*\"trade\" + 0.010*\"year\" + 0.010*\"country\" + 0.010*\"oil\" + 0.007*\"world\" + 0.007*\"price\" + 0.007*\"japan\" + 0.007*\"dlrs\" + 0.007*\"last\" + 0.006*\"would\"\n",
      "2017-10-03 21:39:48,607 : INFO : topic #2 (0.250): 0.046*\"oil\" + 0.018*\"crude\" + 0.017*\"dlrs\" + 0.017*\"price\" + 0.016*\"barrel\" + 0.012*\"mln\" + 0.011*\"ecuador\" + 0.011*\"company\" + 0.011*\"bpd\" + 0.009*\"would\"\n",
      "2017-10-03 21:39:48,611 : INFO : topic #3 (0.250): 0.035*\"trade\" + 0.019*\"japan\" + 0.014*\"would\" + 0.011*\"japanese\" + 0.011*\"billion\" + 0.009*\"market\" + 0.008*\"official\" + 0.008*\"year\" + 0.008*\"import\" + 0.008*\"foreign\"\n",
      "2017-10-03 21:39:48,616 : INFO : topic diff=0.105742, rho=0.333333\n",
      "2017-10-03 21:39:52,426 : INFO : -6.859 per-word bound, 116.1 perplexity estimate based on a held-out corpus of 475 documents with 50286 words\n",
      "2017-10-03 21:39:52,428 : INFO : PROGRESS: pass 8, at document #475/475\n",
      "2017-10-03 21:39:53,517 : INFO : topic #0 (0.250): 0.024*\"mln\" + 0.020*\"bank\" + 0.015*\"market\" + 0.014*\"opec\" + 0.011*\"dollar\" + 0.010*\"currency\" + 0.010*\"saudi\" + 0.010*\"stg\" + 0.010*\"price\" + 0.009*\"billion\"\n",
      "2017-10-03 21:39:53,520 : INFO : topic #1 (0.250): 0.023*\"trade\" + 0.010*\"year\" + 0.010*\"country\" + 0.009*\"oil\" + 0.008*\"world\" + 0.007*\"price\" + 0.007*\"japan\" + 0.007*\"last\" + 0.007*\"dlrs\" + 0.007*\"would\"\n",
      "2017-10-03 21:39:53,525 : INFO : topic #2 (0.250): 0.047*\"oil\" + 0.018*\"crude\" + 0.018*\"dlrs\" + 0.017*\"price\" + 0.016*\"barrel\" + 0.012*\"mln\" + 0.011*\"bpd\" + 0.011*\"company\" + 0.011*\"ecuador\" + 0.009*\"pct\"\n",
      "2017-10-03 21:39:53,531 : INFO : topic #3 (0.250): 0.035*\"trade\" + 0.019*\"japan\" + 0.014*\"would\" + 0.011*\"japanese\" + 0.010*\"billion\" + 0.009*\"market\" + 0.009*\"official\" + 0.008*\"year\" + 0.008*\"import\" + 0.008*\"foreign\"\n",
      "2017-10-03 21:39:53,537 : INFO : topic diff=0.090227, rho=0.316228\n",
      "2017-10-03 21:39:57,207 : INFO : -6.853 per-word bound, 115.6 perplexity estimate based on a held-out corpus of 475 documents with 50286 words\n",
      "2017-10-03 21:39:57,210 : INFO : PROGRESS: pass 9, at document #475/475\n",
      "2017-10-03 21:39:58,187 : INFO : topic #0 (0.250): 0.024*\"mln\" + 0.020*\"bank\" + 0.015*\"market\" + 0.014*\"opec\" + 0.012*\"dollar\" + 0.011*\"currency\" + 0.010*\"saudi\" + 0.010*\"billion\" + 0.010*\"stg\" + 0.010*\"price\"\n",
      "2017-10-03 21:39:58,188 : INFO : topic #1 (0.250): 0.023*\"trade\" + 0.010*\"year\" + 0.010*\"country\" + 0.008*\"oil\" + 0.008*\"world\" + 0.007*\"price\" + 0.007*\"gatt\" + 0.007*\"would\" + 0.007*\"last\" + 0.006*\"japan\"\n",
      "2017-10-03 21:39:58,191 : INFO : topic #2 (0.250): 0.048*\"oil\" + 0.019*\"crude\" + 0.018*\"dlrs\" + 0.017*\"price\" + 0.017*\"barrel\" + 0.012*\"mln\" + 0.011*\"bpd\" + 0.011*\"company\" + 0.011*\"ecuador\" + 0.009*\"pct\"\n",
      "2017-10-03 21:39:58,193 : INFO : topic #3 (0.250): 0.036*\"trade\" + 0.020*\"japan\" + 0.014*\"would\" + 0.012*\"japanese\" + 0.010*\"billion\" + 0.009*\"market\" + 0.009*\"official\" + 0.009*\"year\" + 0.008*\"import\" + 0.008*\"foreign\"\n",
      "2017-10-03 21:39:58,195 : INFO : topic diff=0.077037, rho=0.301511\n",
      "2017-10-03 21:40:02,424 : INFO : -6.847 per-word bound, 115.1 perplexity estimate based on a held-out corpus of 475 documents with 50286 words\n",
      "2017-10-03 21:40:02,427 : INFO : PROGRESS: pass 10, at document #475/475\n",
      "2017-10-03 21:40:03,349 : INFO : topic #0 (0.250): 0.024*\"mln\" + 0.020*\"bank\" + 0.016*\"market\" + 0.014*\"opec\" + 0.012*\"dollar\" + 0.011*\"currency\" + 0.011*\"billion\" + 0.010*\"saudi\" + 0.010*\"stg\" + 0.010*\"price\"\n",
      "2017-10-03 21:40:03,352 : INFO : topic #1 (0.250): 0.023*\"trade\" + 0.010*\"year\" + 0.010*\"country\" + 0.008*\"world\" + 0.007*\"oil\" + 0.007*\"gatt\" + 0.007*\"would\" + 0.006*\"price\" + 0.006*\"last\" + 0.006*\"export\"\n",
      "2017-10-03 21:40:03,357 : INFO : topic #2 (0.250): 0.049*\"oil\" + 0.019*\"crude\" + 0.018*\"dlrs\" + 0.017*\"price\" + 0.017*\"barrel\" + 0.012*\"mln\" + 0.011*\"bpd\" + 0.011*\"company\" + 0.010*\"ecuador\" + 0.009*\"pct\"\n",
      "2017-10-03 21:40:03,361 : INFO : topic #3 (0.250): 0.036*\"trade\" + 0.020*\"japan\" + 0.014*\"would\" + 0.012*\"japanese\" + 0.009*\"billion\" + 0.009*\"market\" + 0.009*\"official\" + 0.009*\"year\" + 0.008*\"import\" + 0.008*\"foreign\"\n",
      "2017-10-03 21:40:03,366 : INFO : topic diff=0.066726, rho=0.288675\n",
      "2017-10-03 21:40:07,473 : INFO : -6.842 per-word bound, 114.7 perplexity estimate based on a held-out corpus of 475 documents with 50286 words\n",
      "2017-10-03 21:40:07,476 : INFO : PROGRESS: pass 11, at document #475/475\n",
      "2017-10-03 21:40:08,502 : INFO : topic #0 (0.250): 0.024*\"mln\" + 0.020*\"bank\" + 0.016*\"market\" + 0.014*\"opec\" + 0.012*\"dollar\" + 0.011*\"billion\" + 0.011*\"currency\" + 0.010*\"saudi\" + 0.010*\"price\" + 0.010*\"stg\"\n",
      "2017-10-03 21:40:08,504 : INFO : topic #1 (0.250): 0.023*\"trade\" + 0.010*\"year\" + 0.010*\"country\" + 0.008*\"world\" + 0.007*\"gatt\" + 0.007*\"oil\" + 0.007*\"would\" + 0.006*\"export\" + 0.006*\"last\" + 0.006*\"price\"\n",
      "2017-10-03 21:40:08,506 : INFO : topic #2 (0.250): 0.050*\"oil\" + 0.019*\"crude\" + 0.018*\"dlrs\" + 0.017*\"price\" + 0.017*\"barrel\" + 0.012*\"mln\" + 0.011*\"bpd\" + 0.011*\"company\" + 0.010*\"ecuador\" + 0.009*\"pct\"\n",
      "2017-10-03 21:40:08,508 : INFO : topic #3 (0.250): 0.037*\"trade\" + 0.020*\"japan\" + 0.014*\"would\" + 0.012*\"japanese\" + 0.009*\"market\" + 0.009*\"official\" + 0.009*\"billion\" + 0.009*\"year\" + 0.008*\"import\" + 0.008*\"foreign\"\n",
      "2017-10-03 21:40:08,512 : INFO : topic diff=0.058423, rho=0.277350\n",
      "2017-10-03 21:40:12,259 : INFO : -6.838 per-word bound, 114.4 perplexity estimate based on a held-out corpus of 475 documents with 50286 words\n",
      "2017-10-03 21:40:12,262 : INFO : PROGRESS: pass 12, at document #475/475\n",
      "2017-10-03 21:40:13,176 : INFO : topic #0 (0.250): 0.024*\"mln\" + 0.020*\"bank\" + 0.016*\"market\" + 0.014*\"opec\" + 0.012*\"dollar\" + 0.012*\"billion\" + 0.011*\"currency\" + 0.010*\"saudi\" + 0.010*\"price\" + 0.010*\"stg\"\n",
      "2017-10-03 21:40:13,179 : INFO : topic #1 (0.250): 0.023*\"trade\" + 0.010*\"year\" + 0.010*\"country\" + 0.008*\"world\" + 0.007*\"gatt\" + 0.007*\"would\" + 0.007*\"export\" + 0.006*\"oil\" + 0.006*\"last\" + 0.006*\"agreement\"\n",
      "2017-10-03 21:40:13,184 : INFO : topic #2 (0.250): 0.051*\"oil\" + 0.019*\"crude\" + 0.018*\"dlrs\" + 0.018*\"price\" + 0.017*\"barrel\" + 0.013*\"mln\" + 0.012*\"bpd\" + 0.011*\"company\" + 0.010*\"ecuador\" + 0.009*\"pct\"\n",
      "2017-10-03 21:40:13,189 : INFO : topic #3 (0.250): 0.037*\"trade\" + 0.021*\"japan\" + 0.014*\"would\" + 0.012*\"japanese\" + 0.009*\"official\" + 0.009*\"market\" + 0.009*\"import\" + 0.009*\"year\" + 0.008*\"billion\" + 0.008*\"foreign\"\n",
      "2017-10-03 21:40:13,193 : INFO : topic diff=0.051779, rho=0.267261\n",
      "2017-10-03 21:40:16,979 : INFO : -6.835 per-word bound, 114.2 perplexity estimate based on a held-out corpus of 475 documents with 50286 words\n",
      "2017-10-03 21:40:16,981 : INFO : PROGRESS: pass 13, at document #475/475\n",
      "2017-10-03 21:40:17,830 : INFO : topic #0 (0.250): 0.024*\"mln\" + 0.020*\"bank\" + 0.016*\"market\" + 0.014*\"opec\" + 0.013*\"dollar\" + 0.012*\"billion\" + 0.011*\"currency\" + 0.010*\"saudi\" + 0.010*\"price\" + 0.010*\"stg\"\n",
      "2017-10-03 21:40:17,833 : INFO : topic #1 (0.250): 0.023*\"trade\" + 0.010*\"year\" + 0.010*\"country\" + 0.009*\"world\" + 0.007*\"gatt\" + 0.007*\"would\" + 0.007*\"export\" + 0.006*\"last\" + 0.006*\"agreement\" + 0.006*\"analyst\"\n",
      "2017-10-03 21:40:17,837 : INFO : topic #2 (0.250): 0.052*\"oil\" + 0.019*\"crude\" + 0.018*\"dlrs\" + 0.018*\"price\" + 0.017*\"barrel\" + 0.013*\"mln\" + 0.012*\"bpd\" + 0.011*\"company\" + 0.010*\"ecuador\" + 0.009*\"pct\"\n",
      "2017-10-03 21:40:17,840 : INFO : topic #3 (0.250): 0.037*\"trade\" + 0.021*\"japan\" + 0.014*\"would\" + 0.012*\"japanese\" + 0.009*\"official\" + 0.009*\"market\" + 0.009*\"import\" + 0.009*\"year\" + 0.008*\"foreign\" + 0.008*\"billion\"\n",
      "2017-10-03 21:40:17,844 : INFO : topic diff=0.046373, rho=0.258199\n",
      "2017-10-03 21:40:21,892 : INFO : -6.832 per-word bound, 113.9 perplexity estimate based on a held-out corpus of 475 documents with 50286 words\n",
      "2017-10-03 21:40:21,894 : INFO : PROGRESS: pass 14, at document #475/475\n",
      "2017-10-03 21:40:22,731 : INFO : topic #0 (0.250): 0.023*\"mln\" + 0.020*\"bank\" + 0.016*\"market\" + 0.014*\"opec\" + 0.013*\"dollar\" + 0.012*\"billion\" + 0.011*\"currency\" + 0.010*\"saudi\" + 0.010*\"stg\" + 0.010*\"price\"\n"
     ]
    },
    {
     "name": "stderr",
     "output_type": "stream",
     "text": [
      "2017-10-03 21:40:22,734 : INFO : topic #1 (0.250): 0.022*\"trade\" + 0.010*\"year\" + 0.010*\"country\" + 0.009*\"world\" + 0.007*\"gatt\" + 0.007*\"would\" + 0.007*\"export\" + 0.006*\"analyst\" + 0.006*\"agreement\" + 0.006*\"last\"\n",
      "2017-10-03 21:40:22,738 : INFO : topic #2 (0.250): 0.052*\"oil\" + 0.020*\"crude\" + 0.018*\"dlrs\" + 0.018*\"price\" + 0.017*\"barrel\" + 0.013*\"mln\" + 0.012*\"bpd\" + 0.011*\"company\" + 0.010*\"ecuador\" + 0.009*\"pct\"\n",
      "2017-10-03 21:40:22,741 : INFO : topic #3 (0.250): 0.038*\"trade\" + 0.021*\"japan\" + 0.014*\"would\" + 0.012*\"japanese\" + 0.009*\"official\" + 0.009*\"market\" + 0.009*\"import\" + 0.008*\"year\" + 0.008*\"foreign\" + 0.008*\"billion\"\n",
      "2017-10-03 21:40:22,744 : INFO : topic diff=0.041728, rho=0.250000\n",
      "2017-10-03 21:40:26,541 : INFO : -6.830 per-word bound, 113.7 perplexity estimate based on a held-out corpus of 475 documents with 50286 words\n",
      "2017-10-03 21:40:26,543 : INFO : PROGRESS: pass 15, at document #475/475\n",
      "2017-10-03 21:40:27,458 : INFO : topic #0 (0.250): 0.023*\"mln\" + 0.020*\"bank\" + 0.016*\"market\" + 0.014*\"opec\" + 0.013*\"dollar\" + 0.013*\"billion\" + 0.011*\"currency\" + 0.010*\"saudi\" + 0.010*\"stg\" + 0.010*\"price\"\n",
      "2017-10-03 21:40:27,462 : INFO : topic #1 (0.250): 0.022*\"trade\" + 0.011*\"year\" + 0.010*\"country\" + 0.009*\"world\" + 0.007*\"would\" + 0.007*\"gatt\" + 0.007*\"export\" + 0.006*\"analyst\" + 0.006*\"china\" + 0.006*\"agreement\"\n",
      "2017-10-03 21:40:27,466 : INFO : topic #2 (0.250): 0.053*\"oil\" + 0.020*\"crude\" + 0.019*\"dlrs\" + 0.018*\"price\" + 0.017*\"barrel\" + 0.013*\"mln\" + 0.012*\"bpd\" + 0.011*\"company\" + 0.010*\"ecuador\" + 0.009*\"pct\"\n",
      "2017-10-03 21:40:27,471 : INFO : topic #3 (0.250): 0.038*\"trade\" + 0.021*\"japan\" + 0.014*\"would\" + 0.013*\"japanese\" + 0.009*\"official\" + 0.009*\"market\" + 0.009*\"import\" + 0.008*\"year\" + 0.008*\"foreign\" + 0.007*\"billion\"\n",
      "2017-10-03 21:40:27,474 : INFO : topic diff=0.037572, rho=0.242536\n",
      "2017-10-03 21:40:30,770 : INFO : -6.827 per-word bound, 113.6 perplexity estimate based on a held-out corpus of 475 documents with 50286 words\n",
      "2017-10-03 21:40:30,772 : INFO : PROGRESS: pass 16, at document #475/475\n",
      "2017-10-03 21:40:31,662 : INFO : topic #0 (0.250): 0.023*\"mln\" + 0.021*\"bank\" + 0.016*\"market\" + 0.014*\"opec\" + 0.013*\"dollar\" + 0.013*\"billion\" + 0.011*\"currency\" + 0.010*\"saudi\" + 0.010*\"stg\" + 0.009*\"price\"\n",
      "2017-10-03 21:40:31,664 : INFO : topic #1 (0.250): 0.022*\"trade\" + 0.011*\"year\" + 0.010*\"country\" + 0.009*\"world\" + 0.007*\"would\" + 0.007*\"gatt\" + 0.007*\"export\" + 0.006*\"analyst\" + 0.006*\"china\" + 0.006*\"agreement\"\n",
      "2017-10-03 21:40:31,667 : INFO : topic #2 (0.250): 0.053*\"oil\" + 0.020*\"crude\" + 0.019*\"dlrs\" + 0.018*\"price\" + 0.018*\"barrel\" + 0.013*\"mln\" + 0.012*\"bpd\" + 0.011*\"company\" + 0.010*\"ecuador\" + 0.009*\"pct\"\n",
      "2017-10-03 21:40:31,670 : INFO : topic #3 (0.250): 0.038*\"trade\" + 0.022*\"japan\" + 0.014*\"would\" + 0.013*\"japanese\" + 0.009*\"official\" + 0.009*\"market\" + 0.009*\"import\" + 0.008*\"year\" + 0.008*\"foreign\" + 0.007*\"billion\"\n",
      "2017-10-03 21:40:31,672 : INFO : topic diff=0.034095, rho=0.235702\n",
      "2017-10-03 21:40:35,397 : INFO : -6.825 per-word bound, 113.4 perplexity estimate based on a held-out corpus of 475 documents with 50286 words\n",
      "2017-10-03 21:40:35,399 : INFO : PROGRESS: pass 17, at document #475/475\n",
      "2017-10-03 21:40:36,215 : INFO : topic #0 (0.250): 0.023*\"mln\" + 0.021*\"bank\" + 0.016*\"market\" + 0.014*\"opec\" + 0.013*\"dollar\" + 0.013*\"billion\" + 0.011*\"currency\" + 0.010*\"saudi\" + 0.010*\"stg\" + 0.009*\"price\"\n",
      "2017-10-03 21:40:36,216 : INFO : topic #1 (0.250): 0.022*\"trade\" + 0.011*\"year\" + 0.011*\"country\" + 0.009*\"world\" + 0.007*\"would\" + 0.007*\"gatt\" + 0.007*\"export\" + 0.006*\"analyst\" + 0.006*\"china\" + 0.006*\"agreement\"\n",
      "2017-10-03 21:40:36,220 : INFO : topic #2 (0.250): 0.053*\"oil\" + 0.020*\"crude\" + 0.019*\"dlrs\" + 0.018*\"price\" + 0.018*\"barrel\" + 0.013*\"mln\" + 0.013*\"bpd\" + 0.011*\"company\" + 0.010*\"ecuador\" + 0.009*\"pct\"\n",
      "2017-10-03 21:40:36,222 : INFO : topic #3 (0.250): 0.038*\"trade\" + 0.022*\"japan\" + 0.014*\"would\" + 0.013*\"japanese\" + 0.009*\"official\" + 0.009*\"market\" + 0.009*\"import\" + 0.008*\"year\" + 0.008*\"foreign\" + 0.007*\"state\"\n",
      "2017-10-03 21:40:36,225 : INFO : topic diff=0.031154, rho=0.229416\n",
      "2017-10-03 21:40:39,591 : INFO : -6.824 per-word bound, 113.3 perplexity estimate based on a held-out corpus of 475 documents with 50286 words\n",
      "2017-10-03 21:40:39,593 : INFO : PROGRESS: pass 18, at document #475/475\n",
      "2017-10-03 21:40:40,571 : INFO : topic #0 (0.250): 0.023*\"mln\" + 0.021*\"bank\" + 0.017*\"market\" + 0.014*\"opec\" + 0.013*\"dollar\" + 0.013*\"billion\" + 0.011*\"currency\" + 0.010*\"saudi\" + 0.010*\"stg\" + 0.009*\"february\"\n",
      "2017-10-03 21:40:40,574 : INFO : topic #1 (0.250): 0.022*\"trade\" + 0.011*\"year\" + 0.011*\"country\" + 0.009*\"world\" + 0.007*\"would\" + 0.007*\"gatt\" + 0.007*\"export\" + 0.007*\"analyst\" + 0.006*\"china\" + 0.006*\"agreement\"\n",
      "2017-10-03 21:40:40,579 : INFO : topic #2 (0.250): 0.054*\"oil\" + 0.020*\"crude\" + 0.019*\"dlrs\" + 0.018*\"price\" + 0.018*\"barrel\" + 0.013*\"mln\" + 0.013*\"bpd\" + 0.011*\"company\" + 0.010*\"ecuador\" + 0.009*\"pct\"\n",
      "2017-10-03 21:40:40,584 : INFO : topic #3 (0.250): 0.039*\"trade\" + 0.022*\"japan\" + 0.014*\"would\" + 0.013*\"japanese\" + 0.009*\"official\" + 0.009*\"market\" + 0.009*\"import\" + 0.008*\"year\" + 0.008*\"foreign\" + 0.007*\"state\"\n",
      "2017-10-03 21:40:40,588 : INFO : topic diff=0.028697, rho=0.223607\n",
      "2017-10-03 21:40:43,778 : INFO : -6.822 per-word bound, 113.1 perplexity estimate based on a held-out corpus of 475 documents with 50286 words\n",
      "2017-10-03 21:40:43,780 : INFO : PROGRESS: pass 19, at document #475/475\n",
      "2017-10-03 21:40:44,844 : INFO : topic #0 (0.250): 0.023*\"mln\" + 0.021*\"bank\" + 0.017*\"market\" + 0.014*\"opec\" + 0.014*\"billion\" + 0.014*\"dollar\" + 0.011*\"currency\" + 0.010*\"saudi\" + 0.010*\"stg\" + 0.009*\"february\"\n",
      "2017-10-03 21:40:44,847 : INFO : topic #1 (0.250): 0.022*\"trade\" + 0.011*\"year\" + 0.011*\"country\" + 0.009*\"world\" + 0.008*\"would\" + 0.007*\"gatt\" + 0.007*\"export\" + 0.007*\"analyst\" + 0.006*\"china\" + 0.006*\"agreement\"\n",
      "2017-10-03 21:40:44,852 : INFO : topic #2 (0.250): 0.054*\"oil\" + 0.020*\"crude\" + 0.019*\"dlrs\" + 0.018*\"price\" + 0.018*\"barrel\" + 0.014*\"mln\" + 0.013*\"bpd\" + 0.011*\"company\" + 0.010*\"ecuador\" + 0.009*\"pct\"\n",
      "2017-10-03 21:40:44,857 : INFO : topic #3 (0.250): 0.039*\"trade\" + 0.022*\"japan\" + 0.014*\"would\" + 0.013*\"japanese\" + 0.009*\"official\" + 0.009*\"market\" + 0.009*\"import\" + 0.008*\"year\" + 0.008*\"foreign\" + 0.007*\"state\"\n",
      "2017-10-03 21:40:44,862 : INFO : topic diff=0.026627, rho=0.218218\n"
     ]
    },
    {
     "name": "stdout",
     "output_type": "stream",
     "text": [
      "Wall time: 1min 39s\n"
     ]
    }
   ],
   "source": [
    "# Different models can be compared using such metrics\n",
    "\n",
    "%time lda4 = gensim.models.ldamodel.LdaModel(dtm_train, num_topics = 4, id2word = dictionary, passes = 20)"
   ]
  },
  {
   "cell_type": "code",
   "execution_count": 30,
   "metadata": {},
   "outputs": [
    {
     "data": {
      "text/plain": [
       "[(0,\n",
       "  '0.023*\"mln\" + 0.021*\"bank\" + 0.017*\"market\" + 0.014*\"opec\" + 0.014*\"billion\" + 0.014*\"dollar\" + 0.011*\"currency\" + 0.010*\"saudi\" + 0.010*\"stg\" + 0.009*\"february\"'),\n",
       " (1,\n",
       "  '0.022*\"trade\" + 0.011*\"year\" + 0.011*\"country\" + 0.009*\"world\" + 0.008*\"would\" + 0.007*\"gatt\" + 0.007*\"export\" + 0.007*\"analyst\" + 0.006*\"china\" + 0.006*\"agreement\"'),\n",
       " (2,\n",
       "  '0.054*\"oil\" + 0.020*\"crude\" + 0.019*\"dlrs\" + 0.018*\"price\" + 0.018*\"barrel\" + 0.014*\"mln\" + 0.013*\"bpd\" + 0.011*\"company\" + 0.010*\"ecuador\" + 0.009*\"pct\"'),\n",
       " (3,\n",
       "  '0.039*\"trade\" + 0.022*\"japan\" + 0.014*\"would\" + 0.013*\"japanese\" + 0.009*\"official\" + 0.009*\"market\" + 0.009*\"import\" + 0.008*\"year\" + 0.008*\"foreign\" + 0.007*\"state\"')]"
      ]
     },
     "execution_count": 30,
     "metadata": {},
     "output_type": "execute_result"
    }
   ],
   "source": [
    "lda4.show_topics()"
   ]
  },
  {
   "cell_type": "code",
   "execution_count": 31,
   "metadata": {},
   "outputs": [
    {
     "data": {
      "text/plain": [
       "-2.4483883157716071"
      ]
     },
     "execution_count": 31,
     "metadata": {},
     "output_type": "execute_result"
    }
   ],
   "source": [
    "test_coherence4 = [ n for _, n in lda4.top_topics(dtm_test) ]\n",
    "np.mean(test_coherence4)"
   ]
  },
  {
   "cell_type": "code",
   "execution_count": 32,
   "metadata": {},
   "outputs": [
    {
     "name": "stderr",
     "output_type": "stream",
     "text": [
      "2017-10-03 21:42:24,321 : INFO : using symmetric alpha at 0.5\n",
      "2017-10-03 21:42:24,324 : INFO : using symmetric eta at 0.0004108463434675431\n",
      "2017-10-03 21:42:24,326 : INFO : using serial LDA version on this node\n",
      "2017-10-03 21:42:24,361 : INFO : running online (multi-pass) LDA training, 2 topics, 20 passes over the supplied corpus of 475 documents, updating model once every 475 documents, evaluating perplexity every 475 documents, iterating 50x with a convergence threshold of 0.001000\n",
      "2017-10-03 21:42:29,230 : INFO : -8.218 per-word bound, 297.7 perplexity estimate based on a held-out corpus of 475 documents with 50286 words\n",
      "2017-10-03 21:42:29,231 : INFO : PROGRESS: pass 0, at document #475/475\n",
      "2017-10-03 21:42:30,931 : INFO : topic #0 (0.500): 0.018*\"trade\" + 0.015*\"oil\" + 0.013*\"mln\" + 0.010*\"would\" + 0.009*\"market\" + 0.009*\"price\" + 0.008*\"japan\" + 0.008*\"dlrs\" + 0.007*\"bank\" + 0.007*\"billion\"\n",
      "2017-10-03 21:42:30,934 : INFO : topic #1 (0.500): 0.014*\"oil\" + 0.014*\"trade\" + 0.010*\"dlrs\" + 0.008*\"would\" + 0.008*\"year\" + 0.008*\"market\" + 0.008*\"japan\" + 0.008*\"price\" + 0.008*\"official\" + 0.007*\"mln\"\n",
      "2017-10-03 21:42:30,938 : INFO : topic diff=0.894492, rho=1.000000\n",
      "2017-10-03 21:42:35,374 : INFO : -7.042 per-word bound, 131.8 perplexity estimate based on a held-out corpus of 475 documents with 50286 words\n",
      "2017-10-03 21:42:35,377 : INFO : PROGRESS: pass 1, at document #475/475\n",
      "2017-10-03 21:42:37,010 : INFO : topic #0 (0.500): 0.017*\"trade\" + 0.015*\"oil\" + 0.014*\"mln\" + 0.010*\"would\" + 0.009*\"market\" + 0.009*\"price\" + 0.008*\"bank\" + 0.008*\"opec\" + 0.008*\"dlrs\" + 0.007*\"billion\"\n",
      "2017-10-03 21:42:37,012 : INFO : topic #1 (0.500): 0.015*\"trade\" + 0.014*\"oil\" + 0.010*\"dlrs\" + 0.009*\"japan\" + 0.008*\"would\" + 0.008*\"official\" + 0.008*\"market\" + 0.008*\"price\" + 0.008*\"year\" + 0.007*\"japanese\"\n",
      "2017-10-03 21:42:37,013 : INFO : topic diff=0.169547, rho=0.577350\n",
      "2017-10-03 21:42:41,244 : INFO : -7.008 per-word bound, 128.7 perplexity estimate based on a held-out corpus of 475 documents with 50286 words\n",
      "2017-10-03 21:42:41,245 : INFO : PROGRESS: pass 2, at document #475/475\n",
      "2017-10-03 21:42:42,649 : INFO : topic #0 (0.500): 0.016*\"trade\" + 0.016*\"mln\" + 0.015*\"oil\" + 0.010*\"would\" + 0.009*\"bank\" + 0.009*\"market\" + 0.009*\"opec\" + 0.009*\"price\" + 0.008*\"billion\" + 0.008*\"dlrs\"\n",
      "2017-10-03 21:42:42,651 : INFO : topic #1 (0.500): 0.016*\"trade\" + 0.014*\"oil\" + 0.011*\"japan\" + 0.009*\"dlrs\" + 0.008*\"would\" + 0.008*\"official\" + 0.008*\"market\" + 0.008*\"japanese\" + 0.008*\"price\" + 0.007*\"year\"\n",
      "2017-10-03 21:42:42,653 : INFO : topic diff=0.124622, rho=0.500000\n",
      "2017-10-03 21:42:46,941 : INFO : -6.987 per-word bound, 126.9 perplexity estimate based on a held-out corpus of 475 documents with 50286 words\n",
      "2017-10-03 21:42:46,944 : INFO : PROGRESS: pass 3, at document #475/475\n",
      "2017-10-03 21:42:48,304 : INFO : topic #0 (0.500): 0.016*\"mln\" + 0.016*\"oil\" + 0.015*\"trade\" + 0.010*\"would\" + 0.010*\"bank\" + 0.010*\"opec\" + 0.009*\"market\" + 0.009*\"billion\" + 0.009*\"price\" + 0.008*\"dlrs\"\n",
      "2017-10-03 21:42:48,306 : INFO : topic #1 (0.500): 0.018*\"trade\" + 0.013*\"oil\" + 0.011*\"japan\" + 0.009*\"dlrs\" + 0.008*\"would\" + 0.008*\"japanese\" + 0.008*\"official\" + 0.008*\"market\" + 0.007*\"price\" + 0.007*\"year\"\n",
      "2017-10-03 21:42:48,309 : INFO : topic diff=0.095701, rho=0.447214\n",
      "2017-10-03 21:42:52,468 : INFO : -6.974 per-word bound, 125.7 perplexity estimate based on a held-out corpus of 475 documents with 50286 words\n",
      "2017-10-03 21:42:52,470 : INFO : PROGRESS: pass 4, at document #475/475\n",
      "2017-10-03 21:42:53,862 : INFO : topic #0 (0.500): 0.017*\"mln\" + 0.016*\"oil\" + 0.013*\"trade\" + 0.011*\"bank\" + 0.010*\"would\" + 0.010*\"opec\" + 0.010*\"billion\" + 0.009*\"market\" + 0.009*\"price\" + 0.009*\"dlrs\"\n",
      "2017-10-03 21:42:53,865 : INFO : topic #1 (0.500): 0.019*\"trade\" + 0.013*\"oil\" + 0.012*\"japan\" + 0.009*\"dlrs\" + 0.008*\"would\" + 0.008*\"japanese\" + 0.008*\"official\" + 0.008*\"market\" + 0.007*\"price\" + 0.007*\"year\"\n",
      "2017-10-03 21:42:53,869 : INFO : topic diff=0.077417, rho=0.408248\n",
      "2017-10-03 21:42:58,168 : INFO : -6.965 per-word bound, 124.9 perplexity estimate based on a held-out corpus of 475 documents with 50286 words\n",
      "2017-10-03 21:42:58,170 : INFO : PROGRESS: pass 5, at document #475/475\n",
      "2017-10-03 21:42:59,417 : INFO : topic #0 (0.500): 0.017*\"mln\" + 0.017*\"oil\" + 0.012*\"trade\" + 0.012*\"bank\" + 0.010*\"opec\" + 0.010*\"would\" + 0.010*\"billion\" + 0.009*\"price\" + 0.009*\"market\" + 0.009*\"dlrs\"\n",
      "2017-10-03 21:42:59,419 : INFO : topic #1 (0.500): 0.020*\"trade\" + 0.013*\"japan\" + 0.012*\"oil\" + 0.009*\"would\" + 0.009*\"japanese\" + 0.008*\"dlrs\" + 0.008*\"official\" + 0.008*\"market\" + 0.007*\"price\" + 0.007*\"year\"\n",
      "2017-10-03 21:42:59,422 : INFO : topic diff=0.065265, rho=0.377964\n",
      "2017-10-03 21:43:03,367 : INFO : -6.958 per-word bound, 124.3 perplexity estimate based on a held-out corpus of 475 documents with 50286 words\n",
      "2017-10-03 21:43:03,370 : INFO : PROGRESS: pass 6, at document #475/475\n",
      "2017-10-03 21:43:04,713 : INFO : topic #0 (0.500): 0.017*\"oil\" + 0.017*\"mln\" + 0.012*\"bank\" + 0.011*\"trade\" + 0.010*\"opec\" + 0.010*\"billion\" + 0.010*\"would\" + 0.010*\"price\" + 0.009*\"market\" + 0.009*\"dlrs\"\n",
      "2017-10-03 21:43:04,714 : INFO : topic #1 (0.500): 0.021*\"trade\" + 0.013*\"japan\" + 0.012*\"oil\" + 0.009*\"would\" + 0.009*\"japanese\" + 0.008*\"dlrs\" + 0.008*\"official\" + 0.007*\"market\" + 0.007*\"year\" + 0.007*\"price\"\n",
      "2017-10-03 21:43:04,716 : INFO : topic diff=0.056880, rho=0.353553\n",
      "2017-10-03 21:43:08,818 : INFO : -6.952 per-word bound, 123.8 perplexity estimate based on a held-out corpus of 475 documents with 50286 words\n",
      "2017-10-03 21:43:08,820 : INFO : PROGRESS: pass 7, at document #475/475\n",
      "2017-10-03 21:43:10,066 : INFO : topic #0 (0.500): 0.018*\"oil\" + 0.017*\"mln\" + 0.012*\"bank\" + 0.010*\"trade\" + 0.010*\"opec\" + 0.010*\"billion\" + 0.010*\"price\" + 0.010*\"would\" + 0.010*\"market\" + 0.009*\"dlrs\"\n",
      "2017-10-03 21:43:10,069 : INFO : topic #1 (0.500): 0.022*\"trade\" + 0.013*\"japan\" + 0.011*\"oil\" + 0.009*\"would\" + 0.009*\"japanese\" + 0.008*\"dlrs\" + 0.008*\"official\" + 0.007*\"market\" + 0.007*\"year\" + 0.006*\"price\"\n",
      "2017-10-03 21:43:10,074 : INFO : topic diff=0.050264, rho=0.333333\n",
      "2017-10-03 21:43:13,356 : INFO : -6.946 per-word bound, 123.3 perplexity estimate based on a held-out corpus of 475 documents with 50286 words\n",
      "2017-10-03 21:43:13,358 : INFO : PROGRESS: pass 8, at document #475/475\n",
      "2017-10-03 21:43:14,567 : INFO : topic #0 (0.500): 0.018*\"oil\" + 0.017*\"mln\" + 0.013*\"bank\" + 0.010*\"opec\" + 0.010*\"billion\" + 0.010*\"price\" + 0.010*\"trade\" + 0.010*\"market\" + 0.010*\"would\" + 0.009*\"dlrs\"\n",
      "2017-10-03 21:43:14,571 : INFO : topic #1 (0.500): 0.023*\"trade\" + 0.014*\"japan\" + 0.011*\"oil\" + 0.009*\"would\" + 0.009*\"japanese\" + 0.008*\"dlrs\" + 0.008*\"official\" + 0.007*\"market\" + 0.007*\"year\" + 0.006*\"price\"\n",
      "2017-10-03 21:43:14,575 : INFO : topic diff=0.044674, rho=0.316228\n",
      "2017-10-03 21:43:18,500 : INFO : -6.942 per-word bound, 123.0 perplexity estimate based on a held-out corpus of 475 documents with 50286 words\n",
      "2017-10-03 21:43:18,503 : INFO : PROGRESS: pass 9, at document #475/475\n",
      "2017-10-03 21:43:19,524 : INFO : topic #0 (0.500): 0.018*\"oil\" + 0.017*\"mln\" + 0.013*\"bank\" + 0.010*\"opec\" + 0.010*\"billion\" + 0.010*\"price\" + 0.010*\"market\" + 0.009*\"dlrs\" + 0.009*\"would\" + 0.009*\"trade\"\n",
      "2017-10-03 21:43:19,526 : INFO : topic #1 (0.500): 0.024*\"trade\" + 0.014*\"japan\" + 0.010*\"oil\" + 0.009*\"would\" + 0.009*\"japanese\" + 0.008*\"official\" + 0.008*\"dlrs\" + 0.007*\"market\" + 0.007*\"year\" + 0.006*\"minister\"\n",
      "2017-10-03 21:43:19,530 : INFO : topic diff=0.040048, rho=0.301511\n",
      "2017-10-03 21:43:23,929 : INFO : -6.938 per-word bound, 122.6 perplexity estimate based on a held-out corpus of 475 documents with 50286 words\n",
      "2017-10-03 21:43:23,931 : INFO : PROGRESS: pass 10, at document #475/475\n",
      "2017-10-03 21:43:24,932 : INFO : topic #0 (0.500): 0.019*\"oil\" + 0.017*\"mln\" + 0.013*\"bank\" + 0.010*\"opec\" + 0.010*\"billion\" + 0.010*\"price\" + 0.010*\"market\" + 0.010*\"dlrs\" + 0.009*\"would\" + 0.009*\"bpd\"\n",
      "2017-10-03 21:43:24,934 : INFO : topic #1 (0.500): 0.025*\"trade\" + 0.014*\"japan\" + 0.010*\"oil\" + 0.009*\"would\" + 0.009*\"japanese\" + 0.008*\"official\" + 0.007*\"dlrs\" + 0.007*\"market\" + 0.007*\"year\" + 0.006*\"minister\"\n",
      "2017-10-03 21:43:24,936 : INFO : topic diff=0.036535, rho=0.288675\n",
      "2017-10-03 21:43:28,877 : INFO : -6.935 per-word bound, 122.4 perplexity estimate based on a held-out corpus of 475 documents with 50286 words\n"
     ]
    },
    {
     "name": "stderr",
     "output_type": "stream",
     "text": [
      "2017-10-03 21:43:28,880 : INFO : PROGRESS: pass 11, at document #475/475\n",
      "2017-10-03 21:43:30,221 : INFO : topic #0 (0.500): 0.019*\"oil\" + 0.017*\"mln\" + 0.013*\"bank\" + 0.011*\"opec\" + 0.010*\"price\" + 0.010*\"billion\" + 0.010*\"market\" + 0.010*\"dlrs\" + 0.009*\"would\" + 0.009*\"bpd\"\n",
      "2017-10-03 21:43:30,224 : INFO : topic #1 (0.500): 0.025*\"trade\" + 0.014*\"japan\" + 0.010*\"oil\" + 0.010*\"would\" + 0.009*\"japanese\" + 0.007*\"official\" + 0.007*\"dlrs\" + 0.007*\"market\" + 0.007*\"year\" + 0.006*\"minister\"\n",
      "2017-10-03 21:43:30,228 : INFO : topic diff=0.033943, rho=0.277350\n",
      "2017-10-03 21:43:33,899 : INFO : -6.932 per-word bound, 122.1 perplexity estimate based on a held-out corpus of 475 documents with 50286 words\n",
      "2017-10-03 21:43:33,902 : INFO : PROGRESS: pass 12, at document #475/475\n",
      "2017-10-03 21:43:35,056 : INFO : topic #0 (0.500): 0.019*\"oil\" + 0.017*\"mln\" + 0.013*\"bank\" + 0.011*\"price\" + 0.011*\"opec\" + 0.010*\"billion\" + 0.010*\"dlrs\" + 0.010*\"market\" + 0.009*\"would\" + 0.009*\"bpd\"\n",
      "2017-10-03 21:43:35,059 : INFO : topic #1 (0.500): 0.026*\"trade\" + 0.014*\"japan\" + 0.010*\"would\" + 0.009*\"oil\" + 0.009*\"japanese\" + 0.007*\"official\" + 0.007*\"dlrs\" + 0.007*\"year\" + 0.007*\"market\" + 0.006*\"minister\"\n",
      "2017-10-03 21:43:35,062 : INFO : topic diff=0.031934, rho=0.267261\n",
      "2017-10-03 21:43:38,956 : INFO : -6.928 per-word bound, 121.8 perplexity estimate based on a held-out corpus of 475 documents with 50286 words\n",
      "2017-10-03 21:43:38,959 : INFO : PROGRESS: pass 13, at document #475/475\n",
      "2017-10-03 21:43:40,175 : INFO : topic #0 (0.500): 0.020*\"oil\" + 0.018*\"mln\" + 0.013*\"bank\" + 0.011*\"price\" + 0.011*\"opec\" + 0.011*\"billion\" + 0.010*\"dlrs\" + 0.010*\"market\" + 0.009*\"would\" + 0.009*\"bpd\"\n",
      "2017-10-03 21:43:40,178 : INFO : topic #1 (0.500): 0.027*\"trade\" + 0.014*\"japan\" + 0.010*\"would\" + 0.009*\"japanese\" + 0.009*\"oil\" + 0.007*\"official\" + 0.007*\"year\" + 0.007*\"dlrs\" + 0.007*\"market\" + 0.006*\"minister\"\n",
      "2017-10-03 21:43:40,183 : INFO : topic diff=0.030394, rho=0.258199\n",
      "2017-10-03 21:43:43,995 : INFO : -6.925 per-word bound, 121.6 perplexity estimate based on a held-out corpus of 475 documents with 50286 words\n",
      "2017-10-03 21:43:43,997 : INFO : PROGRESS: pass 14, at document #475/475\n",
      "2017-10-03 21:43:44,969 : INFO : topic #0 (0.500): 0.020*\"oil\" + 0.018*\"mln\" + 0.013*\"bank\" + 0.011*\"price\" + 0.011*\"opec\" + 0.011*\"billion\" + 0.010*\"dlrs\" + 0.010*\"market\" + 0.009*\"would\" + 0.009*\"bpd\"\n",
      "2017-10-03 21:43:44,972 : INFO : topic #1 (0.500): 0.027*\"trade\" + 0.014*\"japan\" + 0.010*\"would\" + 0.009*\"japanese\" + 0.009*\"oil\" + 0.007*\"official\" + 0.007*\"year\" + 0.007*\"dlrs\" + 0.007*\"market\" + 0.006*\"agreement\"\n",
      "2017-10-03 21:43:44,976 : INFO : topic diff=0.029288, rho=0.250000\n",
      "2017-10-03 21:43:48,722 : INFO : -6.922 per-word bound, 121.3 perplexity estimate based on a held-out corpus of 475 documents with 50286 words\n",
      "2017-10-03 21:43:48,724 : INFO : PROGRESS: pass 15, at document #475/475\n",
      "2017-10-03 21:43:49,634 : INFO : topic #0 (0.500): 0.020*\"oil\" + 0.018*\"mln\" + 0.014*\"bank\" + 0.011*\"price\" + 0.011*\"opec\" + 0.011*\"billion\" + 0.010*\"dlrs\" + 0.010*\"market\" + 0.009*\"bpd\" + 0.009*\"would\"\n",
      "2017-10-03 21:43:49,638 : INFO : topic #1 (0.500): 0.028*\"trade\" + 0.014*\"japan\" + 0.010*\"would\" + 0.009*\"japanese\" + 0.008*\"oil\" + 0.007*\"official\" + 0.007*\"year\" + 0.007*\"market\" + 0.007*\"dlrs\" + 0.006*\"agreement\"\n",
      "2017-10-03 21:43:49,643 : INFO : topic diff=0.028448, rho=0.242536\n",
      "2017-10-03 21:43:53,694 : INFO : -6.919 per-word bound, 121.0 perplexity estimate based on a held-out corpus of 475 documents with 50286 words\n",
      "2017-10-03 21:43:53,696 : INFO : PROGRESS: pass 16, at document #475/475\n",
      "2017-10-03 21:43:54,894 : INFO : topic #0 (0.500): 0.021*\"oil\" + 0.018*\"mln\" + 0.014*\"bank\" + 0.011*\"price\" + 0.011*\"opec\" + 0.011*\"billion\" + 0.010*\"dlrs\" + 0.010*\"market\" + 0.009*\"bpd\" + 0.008*\"would\"\n",
      "2017-10-03 21:43:54,896 : INFO : topic #1 (0.500): 0.028*\"trade\" + 0.014*\"japan\" + 0.010*\"would\" + 0.009*\"japanese\" + 0.008*\"oil\" + 0.007*\"year\" + 0.007*\"official\" + 0.007*\"market\" + 0.007*\"dlrs\" + 0.006*\"country\"\n",
      "2017-10-03 21:43:54,901 : INFO : topic diff=0.027576, rho=0.235702\n",
      "2017-10-03 21:43:58,841 : INFO : -6.916 per-word bound, 120.8 perplexity estimate based on a held-out corpus of 475 documents with 50286 words\n",
      "2017-10-03 21:43:58,843 : INFO : PROGRESS: pass 17, at document #475/475\n",
      "2017-10-03 21:44:00,037 : INFO : topic #0 (0.500): 0.021*\"oil\" + 0.018*\"mln\" + 0.014*\"bank\" + 0.011*\"price\" + 0.011*\"opec\" + 0.011*\"billion\" + 0.010*\"dlrs\" + 0.010*\"market\" + 0.009*\"bpd\" + 0.008*\"would\"\n",
      "2017-10-03 21:44:00,039 : INFO : topic #1 (0.500): 0.028*\"trade\" + 0.015*\"japan\" + 0.010*\"would\" + 0.009*\"japanese\" + 0.008*\"oil\" + 0.007*\"year\" + 0.007*\"official\" + 0.007*\"market\" + 0.007*\"dlrs\" + 0.006*\"country\"\n",
      "2017-10-03 21:44:00,043 : INFO : topic diff=0.026426, rho=0.229416\n",
      "2017-10-03 21:44:03,770 : INFO : -6.913 per-word bound, 120.5 perplexity estimate based on a held-out corpus of 475 documents with 50286 words\n",
      "2017-10-03 21:44:03,772 : INFO : PROGRESS: pass 18, at document #475/475\n",
      "2017-10-03 21:44:04,782 : INFO : topic #0 (0.500): 0.021*\"oil\" + 0.018*\"mln\" + 0.014*\"bank\" + 0.011*\"price\" + 0.011*\"opec\" + 0.011*\"dlrs\" + 0.011*\"billion\" + 0.010*\"market\" + 0.009*\"bpd\" + 0.008*\"pct\"\n",
      "2017-10-03 21:44:04,785 : INFO : topic #1 (0.500): 0.029*\"trade\" + 0.015*\"japan\" + 0.010*\"would\" + 0.009*\"japanese\" + 0.007*\"year\" + 0.007*\"oil\" + 0.007*\"official\" + 0.007*\"market\" + 0.006*\"dlrs\" + 0.006*\"country\"\n",
      "2017-10-03 21:44:04,788 : INFO : topic diff=0.024265, rho=0.223607\n",
      "2017-10-03 21:44:08,723 : INFO : -6.911 per-word bound, 120.3 perplexity estimate based on a held-out corpus of 475 documents with 50286 words\n",
      "2017-10-03 21:44:08,725 : INFO : PROGRESS: pass 19, at document #475/475\n",
      "2017-10-03 21:44:09,688 : INFO : topic #0 (0.500): 0.022*\"oil\" + 0.018*\"mln\" + 0.014*\"bank\" + 0.011*\"price\" + 0.011*\"dlrs\" + 0.011*\"opec\" + 0.011*\"billion\" + 0.010*\"market\" + 0.009*\"bpd\" + 0.008*\"pct\"\n",
      "2017-10-03 21:44:09,690 : INFO : topic #1 (0.500): 0.029*\"trade\" + 0.015*\"japan\" + 0.010*\"would\" + 0.009*\"japanese\" + 0.007*\"year\" + 0.007*\"official\" + 0.007*\"oil\" + 0.007*\"market\" + 0.006*\"country\" + 0.006*\"dlrs\"\n",
      "2017-10-03 21:44:09,693 : INFO : topic diff=0.021939, rho=0.218218\n"
     ]
    },
    {
     "name": "stdout",
     "output_type": "stream",
     "text": [
      "Wall time: 1min 45s\n"
     ]
    },
    {
     "data": {
      "text/plain": [
       "[(0,\n",
       "  '0.022*\"oil\" + 0.018*\"mln\" + 0.014*\"bank\" + 0.011*\"price\" + 0.011*\"dlrs\" + 0.011*\"opec\" + 0.011*\"billion\" + 0.010*\"market\" + 0.009*\"bpd\" + 0.008*\"pct\"'),\n",
       " (1,\n",
       "  '0.029*\"trade\" + 0.015*\"japan\" + 0.010*\"would\" + 0.009*\"japanese\" + 0.007*\"year\" + 0.007*\"official\" + 0.007*\"oil\" + 0.007*\"market\" + 0.006*\"country\" + 0.006*\"dlrs\"')]"
      ]
     },
     "execution_count": 32,
     "metadata": {},
     "output_type": "execute_result"
    }
   ],
   "source": [
    "%time lda2 = gensim.models.ldamodel.LdaModel(dtm_train, num_topics = 2, id2word = dictionary, passes = 20)\n",
    "lda2.show_topics()"
   ]
  },
  {
   "cell_type": "code",
   "execution_count": null,
   "metadata": {
    "collapsed": true
   },
   "outputs": [],
   "source": [
    "test_coherence2 = [ n for _, n in lda2.top_topics(dtm_test) ]\n",
    "np.mean(test_coherence2)"
   ]
  },
  {
   "cell_type": "code",
   "execution_count": null,
   "metadata": {
    "collapsed": true
   },
   "outputs": [],
   "source": [
    "%time lsi = gensim.models.LsiModel(dtm_train, id2word=dictionary, num_topics=200)\n"
   ]
  },
  {
   "cell_type": "code",
   "execution_count": null,
   "metadata": {
    "collapsed": true
   },
   "outputs": [],
   "source": [
    "lsi.print_topics(5)\n"
   ]
  },
  {
   "cell_type": "code",
   "execution_count": null,
   "metadata": {
    "collapsed": true
   },
   "outputs": [],
   "source": [
    "lsi_test = lsi[dtm_test]"
   ]
  },
  {
   "cell_type": "code",
   "execution_count": null,
   "metadata": {
    "collapsed": true
   },
   "outputs": [],
   "source": [
    "lsi_test[0]\n"
   ]
  }
 ],
 "metadata": {
  "kernelspec": {
   "display_name": "Python 3",
   "language": "python",
   "name": "python3"
  },
  "language_info": {
   "codemirror_mode": {
    "name": "ipython",
    "version": 3
   },
   "file_extension": ".py",
   "mimetype": "text/x-python",
   "name": "python",
   "nbconvert_exporter": "python",
   "pygments_lexer": "ipython3",
   "version": "3.6.1"
  }
 },
 "nbformat": 4,
 "nbformat_minor": 2
}
